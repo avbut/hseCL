{
 "cells": [
  {
   "cell_type": "markdown",
   "id": "2c7dc882",
   "metadata": {},
   "source": [
    "# Корпус: форматирование текстов и унификация формата"
   ]
  },
  {
   "cell_type": "markdown",
   "id": "b19a5989",
   "metadata": {},
   "source": [
    "Тексты либретто собраны из разных источников и имеют разную природу (официально изданный текст, коллективная расшифровка аудио, рабочий файл с читки в театре, тексты из мобильного приложения, файлы от авторов и т.д. и т.п.)\n",
    "\n",
    "Как следствие, они крайне неоднородны. Различаются:\n",
    "* формат файла (txt, docx, doc, pdf)\n",
    "* наличие / отсутствие технической информации: заметки о сценографии, визуальных/звуковых эффектах, деталях игры и т.д.\n",
    "* оформление пометок о том, какие герои произносят текст (или их полное отсутствие)\n",
    "* оформление названий номеров\n",
    "* нумерация актов спектакля\n",
    "* оформление информации о повторах строк в песнях\n",
    "\n",
    "Либретто, которые парсились из интернета, изначально записывались в txt в нужном виде, однако там могут быть пометки, которые также не нужны нам."
   ]
  },
  {
   "cell_type": "markdown",
   "id": "50388f0e",
   "metadata": {},
   "source": [
    "Первоначальная задача - **унифицировать тексты** либретто, чтобы все они были отформатированы по единой логике - и далее их можно будет предобрабатывать и готовить к непосредственно работе с ними\n"
   ]
  },
  {
   "cell_type": "code",
   "execution_count": 2,
   "id": "dfb37b8d",
   "metadata": {},
   "outputs": [],
   "source": [
    "import re\n",
    "import os\n"
   ]
  },
  {
   "cell_type": "markdown",
   "id": "6b409b2c",
   "metadata": {},
   "source": [
    "## Базовые функции для редактирования текстов"
   ]
  },
  {
   "cell_type": "markdown",
   "id": "f5c27bf5",
   "metadata": {},
   "source": [
    "Итак, что нам нужно найти в тексте, чтобы отформатировать по единому принципу, если оно там есть, а затем на следующем этапе работы единовременно удалить (сейчас эта информация не нужна, но в теории может при каких-то других задачах понадобится):\n",
    "- *Пометки о частях спектакля*: \n",
    "Акт 1, Сцена 1 и т.д.\n",
    "\n",
    "- *Названия песен*: \n",
    "ОЧЕНЬ ХОРОШАЯ ПЕСНЯ, 2 песня о любви (к Питону) и т.д.\n",
    "\n",
    "- *Любой текст, который не звучит со сцены*: \n",
    "(гуляет по саду),  ( Падает решетка Гаснет свет), В студию входит ОКСАНА и т.д.\n",
    "\n",
    "- *Указания на то, кто говорит/поет текст*:  \n",
    "Смердяков -, Solo T & B:, ВМЕСТЕ:, хор, Пётр(в детстве): и т.д.\n",
    "\n",
    "Говорящих/поющих указывают большим количеством способов оформления, поэтому с ними лучше работать отдельно. А остальное можно объединить в один шаг"
   ]
  },
  {
   "cell_type": "code",
   "execution_count": 54,
   "id": "487e7984",
   "metadata": {},
   "outputs": [],
   "source": [
    "def v2_actssongs_formatted(libretto):\n",
    "    ''' Находит и форматирует пометки о начале актов и музыкальные номера по нужному нам шаблону: \n",
    "        - акты: \"\\n\\n\\n\\nАКТ 1\\n\\n\\n\\n\"\n",
    "        - песни: \"\\n\\n\\n12. НАЗВАНИЕ\\n\\n\" \n",
    "        - информация о сценографии, если есть: \\n\\n///Какой-то текст на сколько угодно строк///\\n\\n\n",
    "        - обозначения сцен: \\n\\nСцена 1. НАЗВАНИЕ\\n\\n'''\n",
    "    text = libretto\n",
    "    # flags = re.DOTALL | re.MULTILINE \n",
    "    # DOTALL - точка означает абсолютно любой символ, включая переносы строк; \n",
    "    # MULTILINE - ^ и $ можно использовать по строкам, а не по документу\n",
    "\n",
    "    text = re.sub(r'(?: )+\\n', '\\n', text) # убираем слипшиеся пробелы с переносами строки и заменяем на переносы\n",
    "    text = re.sub(r'\\n+', '\\n', text) # убираем все многократные переносы строк, чтобы записать все так, как нам надо\n",
    "    text = re.sub(r'(?: )+', ' ', text) # удаляем все повторяющиеся пробелы\n",
    "    text = re.sub(r'^(?: )+', '', text, flags = re.MULTILINE) # удаляем пробелы в начале строк\n",
    "    text = re.sub(r'\\t+', '', text) # удаляем табуляцию\n",
    "\n",
    "    set_info = re.findall(r'(?:\\n*?)?\\/{3}.+?\\/{3}(?:\\n*?)?', text, flags = re.DOTALL) # инфо о сценографии. не всегда есть разрыв строки перед/после\n",
    "    # flags - чтобы взял абсолютно все символы между /// и ///, т.к. бывает, что внутри есть переносы строк\n",
    "    if set_info:\n",
    "        for i in set_info:\n",
    "            text = re.sub(re.escape(i), '\\n\\n' + i.strip() + '\\n\\n', text)\n",
    "    \n",
    "    # убираем визуальный мусор\n",
    "    if '/(' in text: \n",
    "            text = re.sub(re.escape('/('), '/', text)\n",
    "    if ')/' in text:\n",
    "            text = re.sub(re.escape(')/'), '/', text)\n",
    "\n",
    "    songs = re.findall(r'\\n+\\d{1,2}[\\.\\)].+?\\n+', text) # названия песен\n",
    "    if songs:\n",
    "        for i in songs:\n",
    "            text = re.sub(re.escape(i), '\\n\\n\\n' + i.strip().upper() + '\\n\\n', text)\n",
    "\n",
    "    acts = re.findall(r'(?:\\s*?)\\n[Аа][Кк][Тт] [12I]I?\\n(?:\\s+)?', text) # акты. могут быть с римскими или арабскими цифрами\n",
    "    if acts:\n",
    "        for i in acts:\n",
    "            text = re.sub(i, '\\n\\n\\n\\n' + i.strip().upper() + '\\n\\n\\n\\n', text)\n",
    "    \n",
    "    scenes = re.findall(r'\\n+[Сцена|СЦЕНА|Картина|КАРТИНА] \\d{1,2}\\.?.*?\\n+', text)\n",
    "    if scenes:\n",
    "        for i in scenes:\n",
    "            text = re.sub(re.escape(i), '\\n\\n' + i.strip().upper() + '\\n\\n', text)\n",
    "\n",
    "    \n",
    "    return text"
   ]
  },
  {
   "cell_type": "code",
   "execution_count": 5,
   "id": "749c9574",
   "metadata": {},
   "outputs": [],
   "source": [
    "def v2_speakers_formatted(libretto):\n",
    "    ''' Находит в текстах песен отметки о том, какие персонажи поют тот или иной фрагмент,\n",
    "        и форматируют эту строку по нужному нам шаблону - \"\\n\\nПЕРСОНАЖ:\\nТекст песни...\" '''\n",
    "    text = libretto\n",
    "    #speakers = set(re.findall(r'\\n+[А-ЯЁа-яё -‒–—― \\(\\)\\\\\\/]+(?: )?:(?: )?\\n+', text)) #захватываем с переносом строк, чтобы привести к нужному нам формату\n",
    "    speakers = set(re.findall(r'\\n+[А-ЯЁа-яё -‒–—― \\(\\)\\\\\\/]+(?: )?:(?: )*?\\n+', text))\n",
    "    \n",
    "    # сортируем по длине в порядке убывания, чтобы не было ситуации, когда в строке типа \"Персонаж1 и Персонаж2:\" \n",
    "    # регулярка поймала только \"Персонаж2:\", который как отдельный элемент тоже есть, и получится \"Персонаж1 и ПЕРСОНАЖ2:\" (нам нужно капсом всё)\n",
    "    speakers_fine = sorted(speakers, key=len, reverse = True)\n",
    "    \n",
    "    for i in speakers_fine:\n",
    "       text = re.sub(re.escape(i), '\\n\\n' + i.strip().upper() + '\\n', text)\n",
    "\n",
    "    return text"
   ]
  },
  {
   "cell_type": "markdown",
   "id": "db552e96",
   "metadata": {},
   "source": [
    "### Файлы txt"
   ]
  },
  {
   "cell_type": "code",
   "execution_count": null,
   "id": "09b81fca",
   "metadata": {},
   "outputs": [],
   "source": [
    "def txt_extraction(filename):\n",
    "    '''Вытаскивает текст из txt-файла'''\n",
    "    try: \n",
    "        with open(f'C:/Users/User/Desktop/КЛ/либретто/Берем/процесс редактирования/{filename}', 'r') as file:\n",
    "            extracted_text = file.read()\n",
    "    except UnicodeDecodeError:\n",
    "        with open(f'C:/Users/User/Desktop/КЛ/либретто/Берем/процесс редактирования/{filename}', 'r', encoding = 'utf-8') as file:\n",
    "            extracted_text = file.read()\n",
    "    \n",
    "    return extracted_text"
   ]
  },
  {
   "cell_type": "markdown",
   "id": "fd98ed09",
   "metadata": {},
   "source": [
    "### Файлы docx / doc"
   ]
  },
  {
   "cell_type": "code",
   "execution_count": 9,
   "id": "5969cd6c",
   "metadata": {},
   "outputs": [],
   "source": [
    "# %pip install docx2python\n",
    "from docx2python import docx2python\n"
   ]
  },
  {
   "cell_type": "code",
   "execution_count": 10,
   "id": "29ffd62e",
   "metadata": {},
   "outputs": [],
   "source": [
    "def v2_docx_extraction(filename):\n",
    "    '''Вытаскивает текст из docx-, doc-файлов\n",
    "    (!) Работает не очень быстро '''\n",
    "    with docx2python(f'C:/Users/User/Desktop/КЛ/либретто/Берем/процесс редактирования/{filename}') as doc:\n",
    "        extracted_text = doc.text\n",
    "\n",
    "    return extracted_text        "
   ]
  },
  {
   "cell_type": "markdown",
   "id": "59b1d301",
   "metadata": {},
   "source": [
    "### Файлы PDF"
   ]
  },
  {
   "cell_type": "code",
   "execution_count": 11,
   "id": "8a3cd7e3",
   "metadata": {},
   "outputs": [],
   "source": [
    "# %pip install pdfminer.six\n",
    "from pdfminer.high_level import extract_text"
   ]
  },
  {
   "cell_type": "code",
   "execution_count": 12,
   "id": "f344b47d",
   "metadata": {},
   "outputs": [],
   "source": [
    "def pdf_extraction(filename):\n",
    "    '''Вытаскивает текст из pdf-файла'''\n",
    "    extracted_text = extract_text(f\"C:/Users/User/Desktop/КЛ/либретто/Берем/процесс редактирования/{filename}\")\n",
    "    \n",
    "    return extracted_text"
   ]
  },
  {
   "cell_type": "code",
   "execution_count": 13,
   "id": "30750be3",
   "metadata": {},
   "outputs": [],
   "source": [
    "# отредактируем прежнюю функцию для обработки txt - оставим только запись из файла в переменную, остальное будет делать большая функция\n",
    "def txt_extraction(filename):\n",
    "    '''Вытаскивает текст из txt-файла'''\n",
    "    try: \n",
    "        with open(f'C:/Users/User/Desktop/КЛ/либретто/Берем/процесс редактирования/{filename}', 'r') as file:\n",
    "            extracted_text = file.read()\n",
    "    except UnicodeDecodeError:\n",
    "        with open(f'C:/Users/User/Desktop/КЛ/либретто/Берем/процесс редактирования/{filename}', 'r', encoding = 'utf-8') as file:\n",
    "            extracted_text = file.read()\n",
    "    \n",
    "    return extracted_text"
   ]
  },
  {
   "cell_type": "markdown",
   "id": "5001a907",
   "metadata": {},
   "source": [
    "## Универсальная функция для всех форматов текстов"
   ]
  },
  {
   "cell_type": "markdown",
   "id": "3971e637",
   "metadata": {},
   "source": [
    "### Версия для самых частых случаев"
   ]
  },
  {
   "cell_type": "code",
   "execution_count": 14,
   "id": "530fecdf",
   "metadata": {},
   "outputs": [],
   "source": [
    "# Объединяем редактирование ВСЕХ возможных форматов файлов\n",
    "def complete_formatting(filename):\n",
    "    '''Единая функция для форматирования текстов в формате text, docx/doc и pdf.'''\n",
    "\n",
    "    # вытаскиваем текст\n",
    "    if filename.endswith('.txt'):\n",
    "        extracted = txt_extraction(filename)\n",
    "    elif filename.endswith('.pdf'):\n",
    "        extracted = pdf_extraction(filename)\n",
    "    elif filename.endswith(('.doc', '.docx')): # на входе - кортеж с разными вариантами\n",
    "        extracted = docx_extraction(filename)\n",
    "    else:\n",
    "        print('Ошибка! Проверьте формат файла')\n",
    "        pass\n",
    "\n",
    "    # форматирование\n",
    "    edited = v2_actssongs_formatted(extracted) # номера актов, названия песен и инфо о сценографии\n",
    "    edited = v2_speakers_formatted(edited) # пометки о том, кто говорит/поет текст   \n",
    "    \n",
    "    # записываем отредактированный текст в файл txt\n",
    "    # сначала задаем имя для файла в зависимости от типа\n",
    "    if filename.endswith(('.pdf', '.doc', '.txt')):\n",
    "        new_name = f'{filename[:-4]}_fin.txt'\n",
    "    elif filename.endswith('.docx'):\n",
    "        new_name = f'{filename[:-5]}_fin.txt'\n",
    "    else:\n",
    "        new_name = f'{filename[:-5]}_fin.txt' # мало ли, что бывает, но есл что-то не так - лучше отрезать побольше\n",
    "\n",
    "    # сохранение отредактированного текста на компьютер\n",
    "    with open(f'C:/Users/User/Desktop/КЛ/либретто/Берем/процесс редактирования{new_name}', 'w', encoding = 'utf-8') as file:\n",
    "        file.write(edited)    \n",
    "\n",
    "    return edited\n",
    "    "
   ]
  },
  {
   "cell_type": "markdown",
   "id": "a844a4a1",
   "metadata": {},
   "source": [
    "### Универсальная функция с возможностью кастомизации"
   ]
  },
  {
   "cell_type": "markdown",
   "id": "e5741829",
   "metadata": {},
   "source": [
    "Поскольку все файлы очень разные, часто нужна более тонкая настройка. \n",
    "Для этого сначала нужно адаптировать базовые функции под прием паттернов"
   ]
  },
  {
   "cell_type": "code",
   "execution_count": 51,
   "id": "6233f88b",
   "metadata": {},
   "outputs": [],
   "source": [
    "def custom_speakers_formatted(libretto, pattern):\n",
    "    ''' Находит в текстах песен отметки о том, какие персонажи поют тот или иной фрагмент,\n",
    "        и форматируют эту строку по нужному нам шаблону - \"\\n\\nПЕРСОНАЖ:\\nТекст песни...\" \n",
    "        NB! Для менее распространенных случаев, которые не укладываются в наш базовый паттерн поиска - но мы можем выделить другой паттерн '''\n",
    "    text = libretto\n",
    "    speakers = set(re.findall(pattern, text)) # тело паттерна задается на входе\n",
    "    \n",
    "    # сортируем по длине в порядке убывания, чтобы не было ситуации, когда в строке типа \"Персонаж1 и Персонаж2:\" \n",
    "    # регулярка поймает только \"Персонаж2:\", который как отдельный элемент тоже есть, и получится \"Персонаж1 и ПЕРСОНАЖ2:\" (нам нужно капсом всё)\n",
    "    speakers_fine = sorted(speakers, key=len, reverse = True)\n",
    "\n",
    "    for i in speakers_fine:\n",
    "       replacement = i.strip().upper() + ':'\n",
    "       text = re.sub(re.escape(i), '\\n\\n' + replacement + '\\n', text)\n",
    "\n",
    "    # если в паттерне было двоеточие, то оно задваивается после редактирование - убираем повтор (функция в основном для случаев, \n",
    "    # когда двоеточия как раз нет, но иногда приходится прибегать к ней и для случаев, когда оно есть)\n",
    "    if '::' in text: \n",
    "        text = re.sub(r'\\:\\:', ':', text)\n",
    "\n",
    "    return text"
   ]
  },
  {
   "cell_type": "code",
   "execution_count": null,
   "id": "c81366ef",
   "metadata": {},
   "outputs": [],
   "source": [
    "def custom_set_info(text, pattern):\n",
    "    '''Форматирует информацию о сценографии, вычисляя ее по пользовательскому паттерну'''\n",
    "    set_info = re.findall(pattern, text, flags = re.DOTALL) # инфо о сценографии. не всегда есть разрыв строки перед/после\n",
    "    # flags - чтобы взял абсолютно все символы между /// и ///, т.к. бывает, что внутри есть переносы строк\n",
    "    if set_info:\n",
    "        for i in set_info:\n",
    "            formatted = '///' + i.strip() + '///'\n",
    "            text = re.sub(re.escape(i), '\\n\\n' + formatted + '\\n\\n', text)\n",
    "        \n",
    "        # если инфо о сценографии в скобках и мы идем от этого, то удалим их, чтобы они не мешались с нашей разметкой\n",
    "        if '(' in pattern and ')' in pattern: \n",
    "            text = re.sub(re.escape('/('), '/', text)\n",
    "            text = re.sub(re.escape(')/'), '/', text)\n",
    "        \n",
    "    else:\n",
    "        print('Паттерн не сработал, попробуйте еще раз')\n",
    "\n",
    "    return text"
   ]
  },
  {
   "cell_type": "markdown",
   "id": "9b053d53",
   "metadata": {},
   "source": [
    "А также инструмент для удаления всякого мусора, который может оказаться в тексте, особенно если это не txt:"
   ]
  },
  {
   "cell_type": "code",
   "execution_count": 3,
   "id": "660b8014",
   "metadata": {},
   "outputs": [],
   "source": [
    "def special_removal(libretto, pattern):\n",
    "    ''' Находит и удаляет конкретные символы/последовательности символов в тексте по запросу пользователя'''\n",
    "\n",
    "    text = libretto\n",
    "    text = re.sub(fr'{pattern}', '', text)\n",
    "\n",
    "    return(text)"
   ]
  },
  {
   "cell_type": "markdown",
   "id": "904d43d0",
   "metadata": {},
   "source": [
    "### Функция для форматирования либретто с настройкой параметров\n",
    "Это позволит добиться порядка в тексте сразу за один шаг. Настраиваются:\n",
    "- паттерн для определения не-разговорного текста, который нам в дальнейшем не будет нужен и его надо подготовить к удалению\n",
    "- пометки о говорящих/поющих - возможность ввести свой паттерн и учитесть случаи, когда они в принципе не указаны (тогда нет смысл запускать эту часть кода, ведь мы рискуем зацепить лишние строки просто так, а не в качестве издержки форматирования этих пометок)\n",
    "- специфические символы / наборы символов / фрагменты текста, которые не несут в себе никакой информации (или даже вредят содержанию - например, колонтитулы, номера страниц) и могут быть удалены\n",
    "\n",
    "Суть функции:\n",
    "1. Извлечение текста из файла подходящим способом в зависимости от его формата\n",
    "2. Обработка и форматирование текста с коррекцией общего пути обработки в зависимости от указанных параметров\n",
    "3. Беглая очистка от мусора, который мог образоваться в процессе\n",
    "4. Сохранение готового текста на компьютер под новым названием"
   ]
  },
  {
   "cell_type": "code",
   "execution_count": null,
   "id": "8f951274",
   "metadata": {},
   "outputs": [],
   "source": [
    "\n",
    "def v2_complete_formatting_woptions(filename, set_info, speakers, to_remove):\n",
    "    '''Единая функция для форматирования текстов в формате text, docx/doc и pdf для частных случаев. С возможностью ввода специфических паттернов,\n",
    "        которые позволят обработать конкретно этот текст.\n",
    "        Настройка параметров: \n",
    "        1. set_info - информация о сценографии: о действиях персонажей, технических моментах, характеристиках реплик типа \"с подозрением\", \"тихо смеется\" и т.д.\n",
    "            - 'none' - явного паттерна нет или все стандартно по нашей схеме\n",
    "            - ...any custom value here... - паттерн, если есть единый стиль, которым обозначена эта информация\n",
    "        2. speakers - говорящие/поющие:\n",
    "           - 'none' - все в порядке, доп. действия здесь не требуется\n",
    "           - 'absent' - если они не указаны в тексте вообще (поможет избежать ненужных исправлений)\n",
    "           - ...any custom value here... - паттерн, если у спикеров есть явный паттерн, но не тот, что мы взяли по умолчанию\n",
    "        3. to_remove - специфические пометки, которые захламляют текст и не нужны (например, номера страниц и колонтитулы в пдф, примечания в тексте)\n",
    "            - 'none' - пометки для удаления отсутствуют\n",
    "            - ...any custom value here... - паттерн(ы) для удаления, задаются в виде списка\n",
    "\n",
    "    '''\n",
    "\n",
    "    # вытаскиваем текст\n",
    "    if filename.endswith('.txt'):\n",
    "        extracted = txt_extraction(filename)\n",
    "    elif filename.endswith('.pdf'):\n",
    "        extracted = pdf_extraction(filename)\n",
    "    elif filename.endswith(('.doc', '.docx')): # на входе - кортеж с разными вариантами\n",
    "        extracted = v2_docx_extraction(filename)\n",
    "    else:\n",
    "        print('Ошибка! Проверьте формат файла')\n",
    "        pass\n",
    "\n",
    "    edited = extracted\n",
    "\n",
    "    # удаление специфических пометок:    \n",
    "    if to_remove == 'none':\n",
    "        edited = edited\n",
    "    else:\n",
    "        patterns_removal = to_remove\n",
    "        print(f'Паттерн(ы) для спец. пометок: {patterns_removal}')\n",
    "\n",
    "        for p in patterns_removal:\n",
    "            edited = special_removal(edited, p)\n",
    "\n",
    "    # акты, песни:\n",
    "    edited = v2_actssongs_formatted(edited) # номера актов, названия песен и инфо о сценографии\n",
    "    # вообще, там ^ зашито удаление инфо о сценографии по принятому за базовый паттерн (метка - '///'), но переписывать функцию и менять все очень лень\n",
    "    # код все равно ничего не найдет и не поменяет, если там нет нашей разметки через '///'\n",
    "\n",
    "    # инфо о сценографии:\n",
    "    if set_info == 'none':\n",
    "        edited = edited\n",
    "    else:\n",
    "        set_pattern = set_info\n",
    "        print(f'Паттерн для сценографии: {set_pattern}')\n",
    "        edited = custom_set_info(edited, set_pattern)\n",
    "\n",
    "    # пометки о том, кто говорит/поет текст:\n",
    "    if speakers == 'absent': \n",
    "        edited = edited\n",
    "    elif speakers == 'none':\n",
    "        edited = v2_speakers_formatted(edited)\n",
    "    else:\n",
    "        custom_pattern = speakers\n",
    "        print(f'Паттерн для спикеров: {custom_pattern}')\n",
    "        edited = custom_speakers_formatted(edited, custom_pattern)\n",
    "\n",
    "    # облагородим текст в случае, если есть некоторый мусор\n",
    "    edited = re.sub(re.escape('.:'), ':', edited)\n",
    "    set_symbols = '///'\n",
    "    edited = re.sub(fr'\\n\\n+{set_symbols}', f'\\n\\n{set_symbols}', edited)\n",
    "    edited = re.sub(re.escape(')./'), '/', edited)\n",
    "\n",
    "    # записываем отредактированный текст в файл txt\n",
    "    # сначала задаем имя для файла в зависимости от типа\n",
    "    if filename.endswith(('.pdf', '.doc', '.txt')):\n",
    "        new_name = f'{filename[:-4]}_fin.txt'\n",
    "    elif filename.endswith('.docx'):\n",
    "        new_name = f'{filename[:-5]}_fin.txt'\n",
    "    else:\n",
    "        new_name = f'{filename[:-5]}_fin.txt' # мало ли, что бывает, но есл что-то не так - лучше отрезать побольше\n",
    "\n",
    "    # сохранение отредактированного текста на компьютер\n",
    "    with open(f'C:/Users/User/Desktop/КЛ/либретто/Берем/процесс редактирования/{new_name}', 'w', encoding = 'utf-8') as file:\n",
    "        file.write(edited)    \n",
    "\n",
    "    return edited\n",
    "    "
   ]
  },
  {
   "cell_type": "markdown",
   "id": "c17df0a0",
   "metadata": {},
   "source": [
    "### Примеры работы общей функции\n",
    "Некоторые случаи для демонстрации работы кода и получаемого результата. Приводить все тексты нет смысла и возможности (часть из них была отформатирована в ходе работы над созданием функций)\n"
   ]
  },
  {
   "cell_type": "code",
   "execution_count": null,
   "id": "9b04ca0c",
   "metadata": {},
   "outputs": [],
   "source": [
    "v2_complete_formatting_woptions('Белый. Петербург. Полное либретто.pdf', set_info= 'none', \n",
    "                                speakers= r'[\\n|\\x0c]+?[А-ЯЁ][а-яё-]+?\\s?[а-яёI]{1,2}?\\s?[а-яёI]{1,2}?\\s?[А-ЯЁа-яё-]*?\\:[\\s\\n]*?', \n",
    "                                to_remove= [r'\\n-+?\\n', r'\\n\\n\\n\\n\\n+', r'\\u200b']) \n"
   ]
  },
  {
   "cell_type": "code",
   "execution_count": null,
   "id": "211defc8",
   "metadata": {},
   "outputs": [],
   "source": [
    "v2_complete_formatting_woptions('bal_vampirov_spb.txt', set_info = r'\\(.*?\\)',\n",
    "                                speakers = r'\\n+[А-ЯЁ]+?[\\:\\.][\\s\\n]+?',\n",
    "                                to_remove='none')"
   ]
  },
  {
   "cell_type": "code",
   "execution_count": null,
   "id": "f6d29eeb",
   "metadata": {},
   "outputs": [],
   "source": [
    "v2_complete_formatting_woptions('PrimeTime.pdf',\n",
    "                                set_info=r'\\(.{10,300}\\)',\n",
    "                                speakers=r'\\n+[А-ЯЁ\\n ]{3, 30}',\n",
    "                                to_remove= [r'#', r'[А-ЯЁ]{1,2}\\:', r'\\(\\d{1,3}\\)', r'\\d{1,3} (?:такт)? не поём!', r'\\d{1,3} --[\\s\\n]\\d{1,3}', r'\\d [ХОР|Хор|хор]\\:?',\n",
    "                                            r'\\d{1,3} такт (фоном, на[\\s\\n]диалоге)', r'\\(\\d{1,3} такт\\)', r'[УЖ]\\d{1,3}',\n",
    "                                             r'[А-ЯA-Z]&[А-ЯA-Z]\\:', r'Solo [А-ЯA-Z]\\s?&\\s?[А-ЯA-Z]\\:',\n",
    "                                            r'Solo [А-ЯA-Z]\\s?&\\s?[А-ЯA-Z] и Solo [А-ЯA-Z]\\s?&\\s?[А-ЯA-Z]\\:',\n",
    "                                            r'[А-ЯA-Z]&[А-ЯA-Z] и [А-ЯA-Z]&[А-ЯA-Z]\\:',\n",
    "                                            r'\\n+МОСКОВСКИЙ ТЕАТР МЮЗИКЛА \\nПраймТайм \\nv.05.03.2020',\n",
    "                                            r'\\n+\\d{1,3}\\s?\\n+', r'\f', r'\\x0c'\n",
    "                                            ]\n",
    "                                )"
   ]
  }
 ],
 "metadata": {
  "kernelspec": {
   "display_name": "Python 3",
   "language": "python",
   "name": "python3"
  },
  "language_info": {
   "codemirror_mode": {
    "name": "ipython",
    "version": 3
   },
   "file_extension": ".py",
   "mimetype": "text/x-python",
   "name": "python",
   "nbconvert_exporter": "python",
   "pygments_lexer": "ipython3",
   "version": "3.13.5"
  }
 },
 "nbformat": 4,
 "nbformat_minor": 5
}
