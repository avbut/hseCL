{
 "cells": [
  {
   "cell_type": "markdown",
   "id": "0d063ca5",
   "metadata": {},
   "source": [
    "## Парсинг текстов\n",
    "Тексты, которые размещены на сайтах, можно спарсить и сразу записать в нужном нам формате\n",
    "(!) основная часть текстов существует в виде файлов docx, pdf, txt и обрабатывается в другой тетрадке"
   ]
  },
  {
   "cell_type": "code",
   "execution_count": 5,
   "id": "caf9a2ab",
   "metadata": {},
   "outputs": [],
   "source": [
    "import requests\n",
    "from bs4 import BeautifulSoup\n",
    "import pandas as pd\n",
    "import time\n",
    "from tqdm import tqdm\n",
    "import re"
   ]
  },
  {
   "cell_type": "markdown",
   "id": "79b19e4e",
   "metadata": {},
   "source": [
    "## Элоя"
   ]
  },
  {
   "cell_type": "code",
   "execution_count": 2,
   "id": "05bdd56e",
   "metadata": {},
   "outputs": [],
   "source": [
    "url = 'https://stihi.ru/avtor/valenvael&book=3#3'\n",
    "page = requests.get(url)\n",
    "soup = BeautifulSoup(page.text)"
   ]
  },
  {
   "cell_type": "code",
   "execution_count": 14,
   "id": "978b89e1",
   "metadata": {},
   "outputs": [
    {
     "data": {
      "text/plain": [
       "25"
      ]
     },
     "execution_count": 14,
     "metadata": {},
     "output_type": "execute_result"
    }
   ],
   "source": [
    "eloya_links = []\n",
    "base = 'https://stihi.ru/'\n",
    "for i in soup.find_all('a', {'class':'poemlink'}):\n",
    "    eloya_links.append(base + i.get('href'))\n",
    "len(eloya_links)"
   ]
  },
  {
   "cell_type": "code",
   "execution_count": 26,
   "id": "5b8bc704",
   "metadata": {},
   "outputs": [
    {
     "name": "stderr",
     "output_type": "stream",
     "text": [
      "Прогресс парсинга: 100%|██████████| 25/25 [00:54<00:00,  2.18s/it]\n"
     ]
    }
   ],
   "source": [
    "eloya_libretto = {}\n",
    "for i in tqdm(eloya_links, desc = 'Прогресс парсинга'):\n",
    "    page = requests.get(i)\n",
    "    soup = BeautifulSoup(page.text)\n",
    "    title = soup.find('h1').text.upper()\n",
    "    text = soup.find('div', {'class':'text'}).text\n",
    "    eloya_libretto[title] = text\n",
    "    time.sleep(2)"
   ]
  },
  {
   "cell_type": "code",
   "execution_count": 29,
   "id": "3de0c4ee",
   "metadata": {},
   "outputs": [],
   "source": [
    "with open('eloya.txt', 'w', encoding = 'utf-8') as file:\n",
    "    for k, v in eloya_libretto.items():\n",
    "        file.write(k)\n",
    "        file.write(v)\n"
   ]
  },
  {
   "cell_type": "markdown",
   "id": "6232b317",
   "metadata": {},
   "source": [
    "## Воздух 2112"
   ]
  },
  {
   "cell_type": "code",
   "execution_count": 30,
   "id": "99cff631",
   "metadata": {},
   "outputs": [],
   "source": [
    "url = 'https://stihi.ru/avtor/jasvena&s=0'\n",
    "page = requests.get(url)\n",
    "soup = BeautifulSoup(page.text)"
   ]
  },
  {
   "cell_type": "code",
   "execution_count": 31,
   "id": "8d380fb9",
   "metadata": {},
   "outputs": [
    {
     "data": {
      "text/plain": [
       "13"
      ]
     },
     "execution_count": 31,
     "metadata": {},
     "output_type": "execute_result"
    }
   ],
   "source": [
    "vozdukh_links = []\n",
    "base = 'https://stihi.ru/'\n",
    "for i in soup.find_all('a', {'class':'poemlink'}):\n",
    "    if 'Воздух 2112' in i.text:\n",
    "        vozdukh_links.append(base + i.get('href'))\n",
    "len(vozdukh_links)"
   ]
  },
  {
   "cell_type": "code",
   "execution_count": 35,
   "id": "a3bf9624",
   "metadata": {},
   "outputs": [
    {
     "name": "stderr",
     "output_type": "stream",
     "text": [
      "Прогресс парсинга:   0%|          | 0/13 [00:00<?, ?it/s]"
     ]
    },
    {
     "name": "stderr",
     "output_type": "stream",
     "text": [
      "Прогресс парсинга: 100%|██████████| 13/13 [00:27<00:00,  2.13s/it]\n"
     ]
    }
   ],
   "source": [
    "vozdukh_libretto = {}\n",
    "for i in tqdm(vozdukh_links, desc = 'Прогресс парсинга'):\n",
    "    page = requests.get(i)\n",
    "    soup = BeautifulSoup(page.text)\n",
    "    title = soup.find('h1').text.upper()\n",
    "    title = re.sub('- ВОЗДУХ 2112', '', title)\n",
    "    text = soup.find('div', {'class':'text'}).text\n",
    "    vozdukh_libretto[title] = text\n",
    "    time.sleep(2)"
   ]
  },
  {
   "cell_type": "code",
   "execution_count": 39,
   "id": "ae1aed7d",
   "metadata": {},
   "outputs": [],
   "source": [
    "with open('vozdukh.txt', 'w', encoding = 'utf-8') as file:\n",
    "    count = 0\n",
    "    for k, v in vozdukh_libretto.items():\n",
    "        count += 1\n",
    "        file.write(str(count) + '. ' + k)\n",
    "        file.write('\\n')\n",
    "        file.write(v)\n",
    "        file.write('\\n\\n')"
   ]
  },
  {
   "cell_type": "markdown",
   "id": "342e0b51",
   "metadata": {},
   "source": [
    "## ИХС Моссовет"
   ]
  },
  {
   "cell_type": "code",
   "execution_count": 45,
   "id": "f3717c6f",
   "metadata": {},
   "outputs": [],
   "source": [
    "url = 'https://jcs-mossoveta.ru/libretto.html'\n",
    "page = requests.get(url)\n",
    "page.encoding = 'utf-8'\n",
    "soup = BeautifulSoup(page.text)"
   ]
  },
  {
   "cell_type": "code",
   "execution_count": null,
   "id": "1ae1c79e",
   "metadata": {},
   "outputs": [],
   "source": [
    "counter = 0 # счетчик для записывания номера песни\n",
    "\n",
    "def format_lyrics(lyrics): # пусть питон сразу отформатирует спикеров (указания, кто поет строчки) сразу так, как мне надо\n",
    "    # ищем формат: (Иисус), в котором они идут\n",
    "    pattern = re.compile(r'\\((.*?)\\)')\n",
    "    # а нам надо в формате ИИСУС: + добавим переход на нов. строку впереди\n",
    "    formatted_lyrics = pattern.sub(lambda m: '\\n' + m.group(1).upper() + ':', lyrics)\n",
    "    return formatted_lyrics\n",
    "\n",
    "\n",
    "with open('libretto.txt', 'w', encoding='utf-8') as file:\n",
    "    \n",
    "    # все названия  песен\n",
    "    songs = soup.find_all('h2')\n",
    "    for song in songs:\n",
    "        counter +=1\n",
    "        # название песни\n",
    "        file.write(str(counter) + '. ' + re.sub('\"', '', song.get_text()) + '\\n')\n",
    "        # ищем h3, где лежит текст песни\n",
    "        lyrics = song.find_next_sibling('h3')\n",
    "        if lyrics:\n",
    "            # Форматируем текст песни\n",
    "            formatted_lyrics = format_lyrics(lyrics.get_text(separator='\\n', strip=True))\n",
    "            # Записываем текст к\n",
    "            file.write(formatted_lyrics + '\\n\\n\\n')\n"
   ]
  },
  {
   "cell_type": "markdown",
   "id": "10928b31",
   "metadata": {},
   "source": [
    "## Шахматы"
   ]
  },
  {
   "cell_type": "code",
   "execution_count": 8,
   "id": "2dccc294",
   "metadata": {},
   "outputs": [],
   "source": [
    "url = 'https://chesslamp.ru/libretto.html'\n",
    "page = requests.get(url)\n",
    "page.encoding = 'utf-8'\n",
    "soup = BeautifulSoup(page.text)"
   ]
  },
  {
   "cell_type": "code",
   "execution_count": 11,
   "id": "1e4943d3",
   "metadata": {},
   "outputs": [],
   "source": [
    "songs_raw = soup.find_all('li', {'class':'song'})"
   ]
  },
  {
   "cell_type": "code",
   "execution_count": null,
   "id": "dac41413",
   "metadata": {},
   "outputs": [],
   "source": [
    "with open('chess_ru.txt', 'w', encoding = 'utf-8') as file:\n",
    "    counter = 0\n",
    "    for s in songs_raw:\n",
    "        title = s.find('h3').text\n",
    "        text = s.find_all('div', {'class' : 'song__two-columns'})\n",
    "        if text:\n",
    "            counter +=1\n",
    "            song_number = str(counter) + '. '\n",
    "            file.write(song_number + title.upper() + '\\n\\n')\n",
    "            for t in text:\n",
    "                speaker = t.find('p', {'class' : \"song__role\"})\n",
    "                line = t.find('p', {'class' : \"song__lyric\"})\n",
    "                if speaker:\n",
    "                    if re.search(r'[\\w]+', speaker.text):\n",
    "                        file.write(speaker.text.strip().upper() + ':' + '\\n')\n",
    "                if line:\n",
    "                    to_write = re.sub(r'              ', '', line.text)\n",
    "                    to_write = re.sub(r'  ', '', to_write)\n",
    "                    file.write(to_write.strip() + '\\n\\n')\n",
    "        file.write('\\n') # доп. разрыв для раздления песен\n",
    "    \n",
    "    \n"
   ]
  },
  {
   "cell_type": "markdown",
   "id": "8dca886a",
   "metadata": {},
   "source": [
    "## Mamma mia"
   ]
  },
  {
   "cell_type": "code",
   "execution_count": 2,
   "id": "a3911c52",
   "metadata": {},
   "outputs": [],
   "source": [
    "url = 'https://catsinrus.narod.ru/mammamia.htm'\n",
    "page = requests.get(url)\n",
    "soup = BeautifulSoup(page.text)"
   ]
  },
  {
   "cell_type": "code",
   "execution_count": 74,
   "id": "f8c8f010",
   "metadata": {},
   "outputs": [],
   "source": [
    "def links_extraction(url):\n",
    "    page = requests.get(url)\n",
    "    soup = BeautifulSoup(page.text)\n",
    "    linkstosongs = []\n",
    "    songtitles = []\n",
    "    link_base = 'https://catsinrus.narod.ru/'\n",
    "    for i in soup.find_all('a'):\n",
    "        if 'l.' in i.get('href') and '.htm' in i.get('href'):\n",
    "            if link_base + i.get('href') not in linkstosongs:\n",
    "                linkstosongs.append(link_base + i.get('href'))\n",
    "                title = re.sub(r'[\\n\\t\\r\\(\\)]', '', i.text)\n",
    "                if title[-1] == ' ':\n",
    "                    songtitles.append(title[:-1])\n",
    "                else:\n",
    "                    songtitles.append(title)\n",
    "\n",
    "    libretto = dict(zip(songtitles, linkstosongs))\n",
    "    return libretto\n"
   ]
  },
  {
   "cell_type": "code",
   "execution_count": 75,
   "id": "8de86698",
   "metadata": {},
   "outputs": [
    {
     "data": {
      "text/plain": [
       "{'Under Attack': 'https://catsinrus.narod.ru/l.podognem.htm',\n",
       " 'Деньги, Деньги, Деньги': 'https://catsinrus.narod.ru/l.money.htm',\n",
       " 'Кто-то': 'https://catsinrus.narod.ru/l.oneofus.htm',\n",
       " 'Спасибо тебе за музыку': 'https://catsinrus.narod.ru/l.thank.htm',\n",
       " 'S. O. S.': 'https://catsinrus.narod.ru/l.sos.htm',\n",
       " 'Мама мия': 'https://catsinrus.narod.ru/l.mamamia.htm',\n",
       " 'Если мама будет не прочь': 'https://catsinrus.narod.ru/l.doesyourmother.htm',\n",
       " 'Чикитита': 'https://catsinrus.narod.ru/l.chikit.htm',\n",
       " 'Зная всё, зная нас': 'https://catsinrus.narod.ru/l.knowing.htm',\n",
       " 'Дэнсинг квин': 'https://catsinrus.narod.ru/l.dqueen.htm',\n",
       " 'Наше последнее лето': 'https://catsinrus.narod.ru/l.ourlast.htm',\n",
       " 'Дай мне свою любовь': 'https://catsinrus.narod.ru/l.lay.htm',\n",
       " 'Сквозь пальцы': 'https://catsinrus.narod.ru/l.slipping.htm',\n",
       " 'Супер Труппа': 'https://catsinrus.narod.ru/l.super.htm',\n",
       " 'Победителю достаётся всё': 'https://catsinrus.narod.ru/l.thewinner.htm',\n",
       " 'Дайте! Дайте! Дайте!': 'https://catsinrus.narod.ru/l.daite.htm',\n",
       " 'Это шанс': 'https://catsinrus.narod.ru/l.chance.htm',\n",
       " 'Это что за игра?': 'https://catsinrus.narod.ru/l.thename.htm',\n",
       " 'Да, Да, Да, Да, Да': 'https://catsinrus.narod.ru/l.dadada.htm',\n",
       " 'Voulez-Vous': 'https://catsinrus.narod.ru/l.voulez.htm',\n",
       " 'Мечта моя': 'https://catsinrus.narod.ru/l.mechta.htm'}"
      ]
     },
     "execution_count": 75,
     "metadata": {},
     "output_type": "execute_result"
    }
   ],
   "source": [
    "mammamia_links = links_extraction('https://catsinrus.narod.ru/mammamia.htm')\n",
    "mammamia_links"
   ]
  },
  {
   "cell_type": "code",
   "execution_count": 132,
   "id": "122fca73",
   "metadata": {},
   "outputs": [
    {
     "name": "stdout",
     "output_type": "stream",
     "text": [
      "Under Attack https://catsinrus.narod.ru/l.podognem.htm\n",
      "Деньги, Деньги, Деньги https://catsinrus.narod.ru/l.money.htm\n",
      "Кто-то https://catsinrus.narod.ru/l.oneofus.htm\n",
      "Спасибо тебе за музыку https://catsinrus.narod.ru/l.thank.htm\n",
      "S. O. S. https://catsinrus.narod.ru/l.sos.htm\n",
      "Мама мия https://catsinrus.narod.ru/l.mamamia.htm\n",
      "Если мама будет не прочь https://catsinrus.narod.ru/l.doesyourmother.htm\n",
      "Чикитита https://catsinrus.narod.ru/l.chikit.htm\n",
      "Зная всё, зная нас https://catsinrus.narod.ru/l.knowing.htm\n",
      "Дэнсинг квин https://catsinrus.narod.ru/l.dqueen.htm\n",
      "Наше последнее лето https://catsinrus.narod.ru/l.ourlast.htm\n",
      "Дай мне свою любовь https://catsinrus.narod.ru/l.lay.htm\n",
      "Сквозь пальцы https://catsinrus.narod.ru/l.slipping.htm\n",
      "Супер Труппа https://catsinrus.narod.ru/l.super.htm\n",
      "Победителю достаётся всё https://catsinrus.narod.ru/l.thewinner.htm\n",
      "Дайте! Дайте! Дайте! https://catsinrus.narod.ru/l.daite.htm\n",
      "Это шанс https://catsinrus.narod.ru/l.chance.htm\n",
      "Это что за игра? https://catsinrus.narod.ru/l.thename.htm\n",
      "Да, Да, Да, Да, Да https://catsinrus.narod.ru/l.dadada.htm\n",
      "Voulez-Vous https://catsinrus.narod.ru/l.voulez.htm\n",
      "Мечта моя https://catsinrus.narod.ru/l.mechta.htm\n"
     ]
    }
   ],
   "source": [
    "for k, v in mammamia_links.items():\n",
    "    print (k, v)"
   ]
  },
  {
   "cell_type": "code",
   "execution_count": 151,
   "id": "3e48a50e",
   "metadata": {},
   "outputs": [
    {
     "data": {
      "text/plain": [
       "'https://catsinrus.narod.ru/l.chance.htm'"
      ]
     },
     "execution_count": 151,
     "metadata": {},
     "output_type": "execute_result"
    }
   ],
   "source": [
    "mammamia_links['Это шанс']"
   ]
  },
  {
   "cell_type": "code",
   "execution_count": 150,
   "id": "511b70b0",
   "metadata": {},
   "outputs": [],
   "source": [
    "with open('mammamia.txt', 'w', encoding='utf-8') as file:\n",
    "    file.write('MAMMA MIA!\\n\\n')\n",
    "    counter = 1\n",
    "    for k, v in mammamia_links.items():\n",
    "        page = requests.get(v)\n",
    "        soup = BeautifulSoup(page.text)\n",
    "\n",
    "        file.write(str(counter) + '. ' + k.upper() + '\\n\\n')\n",
    "        for i in soup.find_all('p')[2:]:\n",
    "            file.write(re.sub(r'\t', '', i.text.strip()))\n",
    "            file.write('\\n')\n",
    "        file.write('\\n\\n')\n",
    "        counter +=1\n"
   ]
  },
  {
   "cell_type": "code",
   "execution_count": null,
   "id": "3543b02f",
   "metadata": {},
   "outputs": [
    {
     "name": "stdout",
     "output_type": "stream",
     "text": [
      "Не знал я ревности до сих пор, \n",
      "Теперь готов я любому парню дать отпор.\n",
      "Я стал ревнивцем друзьям на смех,\n",
      "А раньше думал табак мой самый тяжкий грех.\n",
      " \n",
      "Всё сводится к нулю,\n",
      "Ревную и люблю.\n",
      "Весь мир вверх дном, \n",
      "Я об одном тебя молю.\n",
      " \n",
      "Ты не трать напрасно чувства, просто любовь мне дай.\n",
      " \n",
      "Амура выстрел так меток был.\n",
      "Лишь парой слов, лишь одной улыбкой меня сгубил.\n",
      "Он поразил меня глубоко, \n",
      "Солидной даме нельзя влюбляться так легко.\n",
      "Теряю я покой, когда ты не со мной.\n",
      "И жар в груди, молю приди, мой дорогой!\n",
      " \n",
      "Ты не трать напрасно чувства, просто любовь мне дай.\n",
      "Без тебя на сердце пусто, просто любовь мне дай.\n",
      " \n",
      "\n",
      "\n",
      "Влюблялась прежде я много раз,\n",
      "Но тех романов огонь всегда так быстро гас.\n",
      " \n",
      "А я старался разумно жить.\n",
      "Тебе одной удалось мой разум сокрушить.\n",
      " \n",
      "(                                       ) и явью стали сны.\n",
      "О как нам быть, ведь мы любить обречены.\n",
      " \n",
      "Ты не трать напрасно чувства, просто любовь мне дай.\n",
      "Без тебя на сердце пусто, просто любовь мне дай.\n",
      "Ты не трать напрасно чувства, просто любовь мне дай.\n",
      "Ты не трать напрасно чувства, просто любовь мне дай.\n",
      "Без тебя на сердце пусто, просто любовь мне дай.\n"
     ]
    }
   ],
   "source": [
    "for k, v in mammamia_links.items():\n",
    "    \n",
    "    page = requests.get(v)\n",
    "    soup = BeautifulSoup(page)\n",
    "\n",
    "    with open('mammamia.txt', 'w', encoding='utf-8') as file:\n",
    "        \n",
    "        file.write(k.upper())\n",
    "        for i in soup.find_all('p')[2:]:\n",
    "            print (i.text)"
   ]
  },
  {
   "cell_type": "code",
   "execution_count": null,
   "id": "9fe23246",
   "metadata": {},
   "outputs": [
    {
     "name": "stdout",
     "output_type": "stream",
     "text": [
      "['l.money.htm', 'l.oneofus.htm', 'l.thank.htm', 'l.sos.htm', 'l.doesyourmother.htm', 'l.chikit.htm', 'l.knowing.htm', 'l.dqueen.htm', 'l.ourlast.htm', 'l.lay.htm', 'l.slipping.htm', 'l.super.htm', 'l.thewinner.htm', 'l.daite.htm', 'l.chance.htm', 'l.thename.htm', 'l.dadada.htm', 'l.dadada.htm', 'l.mechta.htm'] ['\\nДеньги, Деньги, Деньги (', 'Кто-то ', '\\nСпасибо тебе за музыку (', 'S. O. S.', 'Если мама \\r\\n\\t\\tбудет не прочь \\r\\n\\t\\t', '\\nЧикитита (', 'Зная всё, \\r\\n\\t\\tзная нас', '\\nДэнсинг квин (', 'Наше \\r\\n\\t\\tпоследнее лето \\r\\n\\t\\t', '\\nДай мне свою любовь (', 'Сквозь пальцы', '\\nСупер Труппа (', 'Победителю \\r\\n\\t\\tдостаётся всё (', '\\nДайте! Дайте! Дайте! \\n', 'Это шанс', '\\nЭто что за игра?', 'Да, Да, Да, \\r\\n\\t\\tДа, Да (', 'I \\r\\n\\t\\tDo, I Do, I Do, I Do, I Do)', 'Мечта моя']\n"
     ]
    }
   ],
   "source": [
    "page = requests.get(url)\n",
    "soup = BeautifulSoup(page.text)\n",
    "links = []\n",
    "titles = []\n",
    "libretto = soup.find('table')\n",
    "for i in libretto.find_all('a'):\n",
    "    if i.parent.name == 'font':\n",
    "        links.append(i.get('href'))\n",
    "        titles.append(i.text)\n",
    "print (links, titles)"
   ]
  },
  {
   "cell_type": "code",
   "execution_count": 32,
   "id": "f78fb0d5",
   "metadata": {},
   "outputs": [
    {
     "name": "stdout",
     "output_type": "stream",
     "text": [
      "['Деньги, Деньги, Деньги', 'Кто-то', 'Спасибо тебе за музыку', 'S. O. S.', 'Если мама будет не прочь', 'Чикитита', 'Зная всё, зная нас', 'Дэнсинг квин', 'Наше последнее лето', 'Дай мне свою любовь', 'Сквозь пальцы', 'Супер Труппа', 'Победителю достаётся всё', 'Дайте! Дайте! Дайте!', 'Это шанс', 'Это что за игра?', 'Да, Да, Да, Да, Да', 'I Do, I Do, I Do, I Do, I Do', 'Мечта моя']\n"
     ]
    }
   ],
   "source": [
    "#titles_clean = re.sub(r'[\\n\\t\\r\\(\\)]', '', ' '.join(titles))\n",
    "titles_clean = []\n",
    "# чистим названия\n",
    "for t in titles:\n",
    "    t = re.sub(r'[\\n\\t\\r\\(\\)]', '', t)\n",
    "    if t[-1] == ' ': # убираем пробел в конце\n",
    "        t = t[:-1]\n",
    "    titles_clean.append(t)\n",
    "print(titles_clean)"
   ]
  },
  {
   "cell_type": "code",
   "execution_count": 38,
   "id": "846a0ca9",
   "metadata": {},
   "outputs": [
    {
     "name": "stdout",
     "output_type": "stream",
     "text": [
      "['https://catsinrus.narod.ru/l.money.htm', 'https://catsinrus.narod.ru/l.oneofus.htm', 'https://catsinrus.narod.ru/l.thank.htm', 'https://catsinrus.narod.ru/l.sos.htm', 'https://catsinrus.narod.ru/l.doesyourmother.htm', 'https://catsinrus.narod.ru/l.chikit.htm', 'https://catsinrus.narod.ru/l.knowing.htm', 'https://catsinrus.narod.ru/l.dqueen.htm', 'https://catsinrus.narod.ru/l.ourlast.htm', 'https://catsinrus.narod.ru/l.lay.htm', 'https://catsinrus.narod.ru/l.slipping.htm', 'https://catsinrus.narod.ru/l.super.htm', 'https://catsinrus.narod.ru/l.thewinner.htm', 'https://catsinrus.narod.ru/l.daite.htm', 'https://catsinrus.narod.ru/l.chance.htm', 'https://catsinrus.narod.ru/l.thename.htm', 'https://catsinrus.narod.ru/l.dadada.htm', 'https://catsinrus.narod.ru/l.dadada.htm', 'https://catsinrus.narod.ru/l.mechta.htm']\n"
     ]
    }
   ],
   "source": [
    "# сформируем нормальные ссылки\n",
    "link_base = 'https://catsinrus.narod.ru/'\n",
    "links_full = [link_base + l for l in links]\n",
    "print(links_full)\n"
   ]
  },
  {
   "cell_type": "code",
   "execution_count": 39,
   "id": "1a9712e5",
   "metadata": {},
   "outputs": [
    {
     "data": {
      "text/plain": [
       "{'Деньги, Деньги, Деньги': 'https://catsinrus.narod.ru/l.money.htm',\n",
       " 'Кто-то': 'https://catsinrus.narod.ru/l.oneofus.htm',\n",
       " 'Спасибо тебе за музыку': 'https://catsinrus.narod.ru/l.thank.htm',\n",
       " 'S. O. S.': 'https://catsinrus.narod.ru/l.sos.htm',\n",
       " 'Если мама будет не прочь': 'https://catsinrus.narod.ru/l.doesyourmother.htm',\n",
       " 'Чикитита': 'https://catsinrus.narod.ru/l.chikit.htm',\n",
       " 'Зная всё, зная нас': 'https://catsinrus.narod.ru/l.knowing.htm',\n",
       " 'Дэнсинг квин': 'https://catsinrus.narod.ru/l.dqueen.htm',\n",
       " 'Наше последнее лето': 'https://catsinrus.narod.ru/l.ourlast.htm',\n",
       " 'Дай мне свою любовь': 'https://catsinrus.narod.ru/l.lay.htm',\n",
       " 'Сквозь пальцы': 'https://catsinrus.narod.ru/l.slipping.htm',\n",
       " 'Супер Труппа': 'https://catsinrus.narod.ru/l.super.htm',\n",
       " 'Победителю достаётся всё': 'https://catsinrus.narod.ru/l.thewinner.htm',\n",
       " 'Дайте! Дайте! Дайте!': 'https://catsinrus.narod.ru/l.daite.htm',\n",
       " 'Это шанс': 'https://catsinrus.narod.ru/l.chance.htm',\n",
       " 'Это что за игра?': 'https://catsinrus.narod.ru/l.thename.htm',\n",
       " 'Да, Да, Да, Да, Да': 'https://catsinrus.narod.ru/l.dadada.htm',\n",
       " 'I Do, I Do, I Do, I Do, I Do': 'https://catsinrus.narod.ru/l.dadada.htm',\n",
       " 'Мечта моя': 'https://catsinrus.narod.ru/l.mechta.htm'}"
      ]
     },
     "execution_count": 39,
     "metadata": {},
     "output_type": "execute_result"
    }
   ],
   "source": [
    "songs_links = dict(zip(titles_clean, links_full))\n",
    "songs_links"
   ]
  },
  {
   "cell_type": "code",
   "execution_count": null,
   "id": "a8b700b8",
   "metadata": {},
   "outputs": [],
   "source": [
    "# добавляем криво стоявшую на сайте ссылку\n",
    "songs_links['Под огнем'] = base_link + 'l.podognem.htm'\n"
   ]
  },
  {
   "cell_type": "code",
   "execution_count": 40,
   "id": "7ff8c310",
   "metadata": {},
   "outputs": [
    {
     "data": {
      "text/plain": [
       "{'Деньги, Деньги, Деньги': 'https://catsinrus.narod.ru/l.money.htm',\n",
       " 'Кто-то': 'https://catsinrus.narod.ru/l.oneofus.htm',\n",
       " 'Спасибо тебе за музыку': 'https://catsinrus.narod.ru/l.thank.htm',\n",
       " 'S. O. S.': 'https://catsinrus.narod.ru/l.sos.htm',\n",
       " 'Если мама будет не прочь': 'https://catsinrus.narod.ru/l.doesyourmother.htm',\n",
       " 'Чикитита': 'https://catsinrus.narod.ru/l.chikit.htm',\n",
       " 'Зная всё, зная нас': 'https://catsinrus.narod.ru/l.knowing.htm',\n",
       " 'Дэнсинг квин': 'https://catsinrus.narod.ru/l.dqueen.htm',\n",
       " 'Наше последнее лето': 'https://catsinrus.narod.ru/l.ourlast.htm',\n",
       " 'Дай мне свою любовь': 'https://catsinrus.narod.ru/l.lay.htm',\n",
       " 'Сквозь пальцы': 'https://catsinrus.narod.ru/l.slipping.htm',\n",
       " 'Супер Труппа': 'https://catsinrus.narod.ru/l.super.htm',\n",
       " 'Победителю достаётся всё': 'https://catsinrus.narod.ru/l.thewinner.htm',\n",
       " 'Дайте! Дайте! Дайте!': 'https://catsinrus.narod.ru/l.daite.htm',\n",
       " 'Это шанс': 'https://catsinrus.narod.ru/l.chance.htm',\n",
       " 'Это что за игра?': 'https://catsinrus.narod.ru/l.thename.htm',\n",
       " 'Да, Да, Да, Да, Да': 'https://catsinrus.narod.ru/l.dadada.htm',\n",
       " 'I Do, I Do, I Do, I Do, I Do': 'https://catsinrus.narod.ru/l.dadada.htm',\n",
       " 'Мечта моя': 'https://catsinrus.narod.ru/l.mechta.htm'}"
      ]
     },
     "execution_count": 40,
     "metadata": {},
     "output_type": "execute_result"
    }
   ],
   "source": [
    "songs_links"
   ]
  },
  {
   "cell_type": "markdown",
   "id": "48ee034a",
   "metadata": {},
   "source": [
    "## РиДж"
   ]
  },
  {
   "cell_type": "code",
   "execution_count": null,
   "id": "e2559032",
   "metadata": {},
   "outputs": [],
   "source": [
    "url = 'https://zvezdi-rj.narod.ru/spekt/libretto.html'\n",
    "page = requests.get(url)\n",
    "soup = BeautifulSoup(page.text)\n",
    "soup"
   ]
  },
  {
   "cell_type": "code",
   "execution_count": 174,
   "id": "1bfd911e",
   "metadata": {},
   "outputs": [
    {
     "data": {
      "text/plain": [
       "49"
      ]
     },
     "execution_count": 174,
     "metadata": {},
     "output_type": "execute_result"
    }
   ],
   "source": [
    "rj_titles = [i.text.strip() for i in soup.find_all('p', {\"align\" : \"center\"})[3:]]\n",
    "len(rj_titles)"
   ]
  },
  {
   "cell_type": "code",
   "execution_count": null,
   "id": "38463fdb",
   "metadata": {},
   "outputs": [],
   "source": [
    "# КТО ПОЕТ\n",
    "#<font align=\"left\" color=\"#808080\" size=\"4\"><i>Все</i></font><font color=\"#808080\"><br/><br/>\n",
    "#</font>\n",
    "\n",
    "# ТЕКСТ ПЕСНИ\n",
    "#<font align=\"left\" color=\"#808080\" size=\"4\">Верона!<br/>Верона!<br/>Верона ждет!</font></p>\n",
    "\n",
    "# НАЗВАНИЕ ПЕСНИ\n",
    "#<p align=\"center\">\n",
    "#<font align=\"center\" color=\"#C0C0C0\" size=\"4\"><b>Ссора на улице</b></font></p>\n"
   ]
  },
  {
   "cell_type": "code",
   "execution_count": 217,
   "id": "7d2da3e9",
   "metadata": {},
   "outputs": [
    {
     "name": "stdout",
     "output_type": "stream",
     "text": [
      "['Вступление', 'Верона', 'Вражда', 'Предчувствие любви', 'Сватовство Париса', 'Нужно выйти замуж', 'Короли ночной Вероны', 'Судьба', 'Бал (музыка)', 'Ты и я', 'Продолжение бала', 'Маска Мести', 'Балкон', 'Красавцы и уроды', 'Два крыла любви', 'Благословение', 'Люди говорят', 'Пробил час', 'Дуэль', 'Смерть Меркуцио', 'Кто виноват?', 'Бог, почему?', 'Утро', 'Власть', 'Прощание Ромео и Джульетты', 'Она жена', 'Отец и дочь', 'Ангел в белом', 'Яд', 'Как сказать?', 'Смерть Ромео', 'Смерть Джульетты', 'Господь, прости', 'Плачьте', 'Счастье -Поклоны']\n",
      "Вступление\n",
      "Верона\n",
      "Вражда\n",
      "Предчувствие любви\n",
      "Сватовство Париса\n",
      "Нужно выйти замуж\n",
      "Короли ночной Вероны\n",
      "Судьба\n",
      "Бал (музыка)\n",
      "Ты и я\n",
      "Продолжение бала\n",
      "Маска Мести\n",
      "Балкон\n",
      "Красавцы и уроды\n",
      "Два крыла любви\n",
      "Благословение\n",
      "Люди говорят\n",
      "Пробил час\n",
      "Дуэль\n",
      "Смерть Меркуцио\n",
      "Кто виноват?\n",
      "Бог, почему?\n",
      "Утро\n",
      "Власть\n",
      "Прощание Ромео и Джульетты\n",
      "Она жена\n",
      "Отец и дочь\n",
      "Ангел в белом\n",
      "Яд\n",
      "Как сказать?\n",
      "Смерть Ромео\n",
      "Смерть Джульетты\n",
      "Господь, прости\n",
      "Плачьте\n",
      "Счастье -Поклоны\n"
     ]
    }
   ],
   "source": [
    "rj_titles = [i.text.strip() for i in soup.find_all('font', {'align': 'center', 'size' : '5' })]\n",
    "print(rj_titles)\n",
    "for i in rj_titles:\n",
    "    print(i)\n"
   ]
  },
  {
   "cell_type": "code",
   "execution_count": 226,
   "id": "f10a3fe7",
   "metadata": {},
   "outputs": [
    {
     "name": "stdout",
     "output_type": "stream",
     "text": [
      "33 35\n"
     ]
    }
   ],
   "source": [
    "rj_titles_clean = ['Вступление', 'Верона', 'Вражда', 'Предчувствие любви', 'Сватовство Париса', 'Нужно выйти замуж', 'Короли ночной Вероны', 'Судьба', 'Ты и я', 'Маска Мести', 'Балкон', 'Красавцы и уроды', 'Два крыла любви', 'Благословение', 'Люди говорят', 'Пробил час', 'Дуэль', 'Смерть Меркуцио', 'Кто виноват?', 'Бог, почему?', 'Утро', 'Власть', 'Прощание Ромео и Джульетты', 'Она жена', 'Отец и дочь', 'Ангел в белом', 'Яд', 'Как сказать?', 'Смерть Ромео', 'Смерть Джульетты', 'Господь, прости', 'Плачьте', 'Счастье -Поклоны']\n",
    "print(len(rj_titles_clean), len(rj_titles))"
   ]
  },
  {
   "cell_type": "code",
   "execution_count": null,
   "id": "7a8ce6bc",
   "metadata": {},
   "outputs": [],
   "source": [
    "content = soup.find_all('tr')[2:]"
   ]
  },
  {
   "cell_type": "code",
   "execution_count": 410,
   "id": "5342398a",
   "metadata": {},
   "outputs": [],
   "source": [
    "#3\n",
    "with open('romeoandjuliette.txt', 'w', encoding = 'utf-8') as file:\n",
    "    \n",
    "    for song in content:\n",
    "        #title = song.find('font', {'align':\"center\", 'color':\"#C0C0C0\", 'size':\"5\"}).text\n",
    "        #file.write(title + '\\n\\n')\n",
    "\n",
    "        text = song.find_all('font', {'align':\"left\", 'color':\"#808080\"})\n",
    "        \n",
    "        for line in text:\n",
    "            if line != '':\n",
    "                speaker_italics = line.find('i')\n",
    "                if speaker_italics:\n",
    "                    speaker_italics = speaker_italics.text.strip().upper()\n",
    "                    if not speaker_italics.endswith(':'):\n",
    "                        speaker_italics += ':'\n",
    "                    file.write('\\n' + speaker_italics + '\\n')\n",
    "                \n",
    "                songtext = line.text.strip()\n",
    "                if speaker_italics:\n",
    "                    songtext = songtext.replace(speaker_italics, '', 1).strip()\n",
    "                file.write(songtext + '\\n')\n",
    "        file.write('\\n\\n')\n",
    "\n",
    "\n",
    "    \n",
    "    \n"
   ]
  },
  {
   "cell_type": "code",
   "execution_count": null,
   "id": "d42d5efe",
   "metadata": {},
   "outputs": [],
   "source": [
    "clean = []\n",
    "for i in content:\n",
    "    text = i.text\n",
    "    text = re.sub(r'[\\t\\r]', '', text)\n",
    "    clean.append(text)\n",
    "print(clean)"
   ]
  },
  {
   "cell_type": "code",
   "execution_count": null,
   "id": "0292d555",
   "metadata": {},
   "outputs": [],
   "source": [
    "# \n",
    "\n",
    "with open('romeoandjuliette0.txt', 'w', encoding = 'utf-8') as file:\n",
    "    counter = 1\n",
    "    for song in content:\n",
    "        # находим название\n",
    "        title = song.find('font', {'align':\"center\", 'color':\"#C0C0C0\"})\n",
    "        if title:\n",
    "            file.write(str(counter) + '. ' + title.text.strip().upper() + '\\n\\n')\n",
    "\n",
    "        text = song.find_all('font', {'align':\"left\", 'color':\"#808080\", 'size':\"4\"})\n",
    "        \n",
    "        for line in text:\n",
    "            if line != '' and line != '\\n':\n",
    "                speaker_italics = line.find('i')\n",
    "\n",
    "                songtext = line.text.strip()\n",
    "                songtext = re.sub(r'                  ', '', songtext)\n",
    "                other_speakers = set(line.find_all('i'))\n",
    "                \n",
    "\n",
    "                for i in other_speakers:\n",
    "                    #if speaker_italics in line:\n",
    "                        #songtext = songtext.replace(speaker_italics.text, '', 1).strip()\n",
    "                    if i in line:\n",
    "                        for t in songtext:\n",
    "                            \n",
    "                            if not i.text.endswith(':'):\n",
    "                                songtext = re.sub(i.text, '\\n' + i.text.strip().upper() + ':' + '\\n', songtext)\n",
    "                            else:\n",
    "                                songtext = re.sub(i.text, '\\n' + i.text.strip().upper() + '\\n', songtext)\n",
    "                \n",
    "                #to_edit = re.findall(r'\\b[А-ЯЁ]+\\:\\s?\\n{2}', songtext)\n",
    "                #for e in to_edit:\n",
    "                #    songtext.replace(e, e[:-1], 1)\n",
    "\n",
    "                songtext = re.sub(r'  ', ' ', songtext)\n",
    "                #songtext = re.sub(r'  ', ' ', songtext)\n",
    "                \n",
    "\n",
    "                file.write(songtext.strip() + '\\n')\n",
    "\n",
    "        file.write('\\n\\n')\n",
    "        counter +=1\n"
   ]
  },
  {
   "cell_type": "code",
   "execution_count": 504,
   "id": "5a214f27",
   "metadata": {},
   "outputs": [],
   "source": [
    "# норм, но повторы спикеров\n",
    "with open('romeoandjuliette_repet.txt', 'w', encoding = 'utf-8') as file:\n",
    "    counter = 1\n",
    "    for song in content[1:]:\n",
    "        # находим название\n",
    "        title = song.find('font', {'align':\"center\", 'color':\"#C0C0C0\", 'size':'5'})\n",
    "        if title:\n",
    "            file.write(str(counter) + '. ' + title.text.strip().upper() + '\\n\\n')\n",
    "\n",
    "        text = song.find_all('font', {'align':\"left\", 'color':\"#808080\", 'size':\"4\"})\n",
    "        \n",
    "        for line in text:\n",
    "            if line != '' and line != '\\n':\n",
    "                speaker_italics = line.find('i')\n",
    "                #if speaker_italics:\n",
    "                #    to_write_speaker_italics = speaker_italics.text.strip().upper()\n",
    "                #    if not to_write_speaker_italics.endswith(':'):\n",
    "                #        to_write_speaker_italics += ':'\n",
    "                #    file.write('\\n' + to_write_speaker_italics + '\\n')\n",
    "                \n",
    "                songtext = line.text.strip()\n",
    "                songtext = re.sub(r'                  ', '', songtext)\n",
    "                other_speakers = set(line.find_all('i'))\n",
    "                \n",
    "\n",
    "                for i in other_speakers:\n",
    "                    if speaker_italics in line:\n",
    "                        #songtext = songtext.replace(speaker_italics.text, '', 1).strip()\n",
    "                        for t in songtext:\n",
    "                            \n",
    "                            if not i.text.endswith(':'):\n",
    "                                songtext = re.sub(i.text, '\\n' + i.text.strip().upper() + ':' + '\\n', songtext)\n",
    "                            else:\n",
    "                                songtext = re.sub(i.text, '\\n' + i.text.strip().upper() + '\\n', songtext)\n",
    "                \n",
    "                #to_edit = re.findall(r'\\b[А-ЯЁ]+\\:\\s?\\n{2}', songtext)\n",
    "                #for e in to_edit:\n",
    "                #    songtext.replace(e, e[:-1], 1)\n",
    "\n",
    "                songtext = re.sub(r'  ', ' ', songtext)\n",
    "                songtext = re.sub(r'  ', ' ', songtext)\n",
    "                songtext = re.sub(r'[\\r\\t]', '', songtext)\n",
    "                #songtext = re.sub(r' \\n ', '\\n', songtext)\n",
    "                #songtext = re.sub(r'(?<=\\s)\\n(?=[А-ЯЁ]+\\:)', '\\n\\n', songtext)\n",
    "\n",
    "                file.write(songtext.strip() + '\\n')\n",
    "\n",
    "        file.write('\\n\\n')\n",
    "        counter +=1\n"
   ]
  }
 ],
 "metadata": {
  "kernelspec": {
   "display_name": "Python 3",
   "language": "python",
   "name": "python3"
  },
  "language_info": {
   "codemirror_mode": {
    "name": "ipython",
    "version": 3
   },
   "file_extension": ".py",
   "mimetype": "text/x-python",
   "name": "python",
   "nbconvert_exporter": "python",
   "pygments_lexer": "ipython3",
   "version": "3.13.5"
  }
 },
 "nbformat": 4,
 "nbformat_minor": 5
}
