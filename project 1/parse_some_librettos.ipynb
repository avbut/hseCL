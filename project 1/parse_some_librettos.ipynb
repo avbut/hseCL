{
 "cells": [
  {
   "cell_type": "markdown",
   "id": "0d063ca5",
   "metadata": {},
   "source": [
    "## Парсинг текстов\n",
    "Тексты, которые размещены на сайтах, можно спарсить и сразу записать в нужном нам формате\n",
    "(!) основная часть текстов существует в виде файлов docx, pdf, txt и обрабатывается в другой тетрадке"
   ]
  },
  {
   "cell_type": "code",
   "execution_count": 5,
   "id": "caf9a2ab",
   "metadata": {},
   "outputs": [],
   "source": [
    "import requests\n",
    "from bs4 import BeautifulSoup\n",
    "import pandas as pd\n",
    "import time\n",
    "from tqdm import tqdm\n",
    "import re"
   ]
  },
  {
   "cell_type": "markdown",
   "id": "79b19e4e",
   "metadata": {},
   "source": [
    "## Элоя"
   ]
  },
  {
   "cell_type": "code",
   "execution_count": 2,
   "id": "05bdd56e",
   "metadata": {},
   "outputs": [],
   "source": [
    "url = 'https://stihi.ru/avtor/valenvael&book=3#3'\n",
    "page = requests.get(url)\n",
    "soup = BeautifulSoup(page.text)"
   ]
  },
  {
   "cell_type": "code",
   "execution_count": 14,
   "id": "978b89e1",
   "metadata": {},
   "outputs": [
    {
     "data": {
      "text/plain": [
       "25"
      ]
     },
     "execution_count": 14,
     "metadata": {},
     "output_type": "execute_result"
    }
   ],
   "source": [
    "eloya_links = []\n",
    "base = 'https://stihi.ru/'\n",
    "for i in soup.find_all('a', {'class':'poemlink'}):\n",
    "    eloya_links.append(base + i.get('href'))\n",
    "len(eloya_links)"
   ]
  },
  {
   "cell_type": "code",
   "execution_count": 26,
   "id": "5b8bc704",
   "metadata": {},
   "outputs": [
    {
     "name": "stderr",
     "output_type": "stream",
     "text": [
      "Прогресс парсинга: 100%|██████████| 25/25 [00:54<00:00,  2.18s/it]\n"
     ]
    }
   ],
   "source": [
    "eloya_libretto = {}\n",
    "for i in tqdm(eloya_links, desc = 'Прогресс парсинга'):\n",
    "    page = requests.get(i)\n",
    "    soup = BeautifulSoup(page.text)\n",
    "    title = soup.find('h1').text.upper()\n",
    "    text = soup.find('div', {'class':'text'}).text\n",
    "    eloya_libretto[title] = text\n",
    "    time.sleep(2)"
   ]
  },
  {
   "cell_type": "code",
   "execution_count": 29,
   "id": "3de0c4ee",
   "metadata": {},
   "outputs": [],
   "source": [
    "with open('eloya.txt', 'w', encoding = 'utf-8') as file:\n",
    "    for k, v in eloya_libretto.items():\n",
    "        file.write(k)\n",
    "        file.write(v)\n"
   ]
  },
  {
   "cell_type": "markdown",
   "id": "6232b317",
   "metadata": {},
   "source": [
    "## Воздух 2112"
   ]
  },
  {
   "cell_type": "code",
   "execution_count": 30,
   "id": "99cff631",
   "metadata": {},
   "outputs": [],
   "source": [
    "url = 'https://stihi.ru/avtor/jasvena&s=0'\n",
    "page = requests.get(url)\n",
    "soup = BeautifulSoup(page.text)"
   ]
  },
  {
   "cell_type": "code",
   "execution_count": 31,
   "id": "8d380fb9",
   "metadata": {},
   "outputs": [
    {
     "data": {
      "text/plain": [
       "13"
      ]
     },
     "execution_count": 31,
     "metadata": {},
     "output_type": "execute_result"
    }
   ],
   "source": [
    "vozdukh_links = []\n",
    "base = 'https://stihi.ru/'\n",
    "for i in soup.find_all('a', {'class':'poemlink'}):\n",
    "    if 'Воздух 2112' in i.text:\n",
    "        vozdukh_links.append(base + i.get('href'))\n",
    "len(vozdukh_links)"
   ]
  },
  {
   "cell_type": "code",
   "execution_count": 35,
   "id": "a3bf9624",
   "metadata": {},
   "outputs": [
    {
     "name": "stderr",
     "output_type": "stream",
     "text": [
      "Прогресс парсинга:   0%|          | 0/13 [00:00<?, ?it/s]"
     ]
    },
    {
     "name": "stderr",
     "output_type": "stream",
     "text": [
      "Прогресс парсинга: 100%|██████████| 13/13 [00:27<00:00,  2.13s/it]\n"
     ]
    }
   ],
   "source": [
    "vozdukh_libretto = {}\n",
    "for i in tqdm(vozdukh_links, desc = 'Прогресс парсинга'):\n",
    "    page = requests.get(i)\n",
    "    soup = BeautifulSoup(page.text)\n",
    "    title = soup.find('h1').text.upper()\n",
    "    title = re.sub('- ВОЗДУХ 2112', '', title)\n",
    "    text = soup.find('div', {'class':'text'}).text\n",
    "    vozdukh_libretto[title] = text\n",
    "    time.sleep(2)"
   ]
  },
  {
   "cell_type": "code",
   "execution_count": 39,
   "id": "ae1aed7d",
   "metadata": {},
   "outputs": [],
   "source": [
    "with open('vozdukh.txt', 'w', encoding = 'utf-8') as file:\n",
    "    count = 0\n",
    "    for k, v in vozdukh_libretto.items():\n",
    "        count += 1\n",
    "        file.write(str(count) + '. ' + k)\n",
    "        file.write('\\n')\n",
    "        file.write(v)\n",
    "        file.write('\\n\\n')"
   ]
  },
  {
   "cell_type": "markdown",
   "id": "342e0b51",
   "metadata": {},
   "source": [
    "## ИХС Моссовет"
   ]
  },
  {
   "cell_type": "code",
   "execution_count": 45,
   "id": "f3717c6f",
   "metadata": {},
   "outputs": [],
   "source": [
    "url = 'https://jcs-mossoveta.ru/libretto.html'\n",
    "page = requests.get(url)\n",
    "page.encoding = 'utf-8'\n",
    "soup = BeautifulSoup(page.text)"
   ]
  },
  {
   "cell_type": "code",
   "execution_count": null,
   "id": "1ae1c79e",
   "metadata": {},
   "outputs": [],
   "source": [
    "counter = 0 # счетчик для записывания номера песни\n",
    "\n",
    "def format_lyrics(lyrics): # пусть питон сразу отформатирует спикеров (указания, кто поет строчки) сразу так, как мне надо\n",
    "    # ищем формат: (Иисус), в котором они идут\n",
    "    pattern = re.compile(r'\\((.*?)\\)')\n",
    "    # а нам надо в формате ИИСУС: + добавим переход на нов. строку впереди\n",
    "    formatted_lyrics = pattern.sub(lambda m: '\\n' + m.group(1).upper() + ':', lyrics)\n",
    "    return formatted_lyrics\n",
    "\n",
    "\n",
    "with open('libretto.txt', 'w', encoding='utf-8') as file:\n",
    "    \n",
    "    # все названия  песен\n",
    "    songs = soup.find_all('h2')\n",
    "    for song in songs:\n",
    "        counter +=1\n",
    "        # название песни\n",
    "        file.write(str(counter) + '. ' + re.sub('\"', '', song.get_text()) + '\\n')\n",
    "        # ищем h3, где лежит текст песни\n",
    "        lyrics = song.find_next_sibling('h3')\n",
    "        if lyrics:\n",
    "            # Форматируем текст песни\n",
    "            formatted_lyrics = format_lyrics(lyrics.get_text(separator='\\n', strip=True))\n",
    "            # Записываем текст к\n",
    "            file.write(formatted_lyrics + '\\n\\n\\n')\n"
   ]
  },
  {
   "cell_type": "markdown",
   "id": "10928b31",
   "metadata": {},
   "source": [
    "## Шахматы"
   ]
  },
  {
   "cell_type": "code",
   "execution_count": 8,
   "id": "2dccc294",
   "metadata": {},
   "outputs": [],
   "source": [
    "url = 'https://chesslamp.ru/libretto.html'\n",
    "page = requests.get(url)\n",
    "page.encoding = 'utf-8'\n",
    "soup = BeautifulSoup(page.text)"
   ]
  },
  {
   "cell_type": "code",
   "execution_count": 11,
   "id": "1e4943d3",
   "metadata": {},
   "outputs": [],
   "source": [
    "songs_raw = soup.find_all('li', {'class':'song'})"
   ]
  },
  {
   "cell_type": "code",
   "execution_count": null,
   "id": "dac41413",
   "metadata": {},
   "outputs": [],
   "source": [
    "with open('chess_ru.txt', 'w', encoding = 'utf-8') as file:\n",
    "    counter = 0\n",
    "    for s in songs_raw:\n",
    "        title = s.find('h3').text\n",
    "        text = s.find_all('div', {'class' : 'song__two-columns'})\n",
    "        if text:\n",
    "            counter +=1\n",
    "            song_number = str(counter) + '. '\n",
    "            file.write(song_number + title.upper() + '\\n\\n')\n",
    "            for t in text:\n",
    "                speaker = t.find('p', {'class' : \"song__role\"})\n",
    "                line = t.find('p', {'class' : \"song__lyric\"})\n",
    "                if speaker:\n",
    "                    if re.search(r'[\\w]+', speaker.text):\n",
    "                        file.write(speaker.text.strip().upper() + ':' + '\\n')\n",
    "                if line:\n",
    "                    to_write = re.sub(r'              ', '', line.text)\n",
    "                    to_write = re.sub(r'  ', '', to_write)\n",
    "                    file.write(to_write.strip() + '\\n\\n')\n",
    "        file.write('\\n') # доп. разрыв для раздления песен\n",
    "    \n",
    "    \n"
   ]
  },
  {
   "cell_type": "markdown",
   "id": "8dca886a",
   "metadata": {},
   "source": [
    "## Mamma mia"
   ]
  },
  {
   "cell_type": "code",
   "execution_count": 2,
   "id": "a3911c52",
   "metadata": {},
   "outputs": [],
   "source": [
    "url = 'https://catsinrus.narod.ru/mammamia.htm'\n",
    "page = requests.get(url)\n",
    "soup = BeautifulSoup(page.text)"
   ]
  },
  {
   "cell_type": "code",
   "execution_count": 74,
   "id": "f8c8f010",
   "metadata": {},
   "outputs": [],
   "source": [
    "def links_extraction(url):\n",
    "    page = requests.get(url)\n",
    "    soup = BeautifulSoup(page.text)\n",
    "    linkstosongs = []\n",
    "    songtitles = []\n",
    "    link_base = 'https://catsinrus.narod.ru/'\n",
    "    for i in soup.find_all('a'):\n",
    "        if 'l.' in i.get('href') and '.htm' in i.get('href'):\n",
    "            if link_base + i.get('href') not in linkstosongs:\n",
    "                linkstosongs.append(link_base + i.get('href'))\n",
    "                title = re.sub(r'[\\n\\t\\r\\(\\)]', '', i.text)\n",
    "                if title[-1] == ' ':\n",
    "                    songtitles.append(title[:-1])\n",
    "                else:\n",
    "                    songtitles.append(title)\n",
    "\n",
    "    libretto = dict(zip(songtitles, linkstosongs))\n",
    "    return libretto\n"
   ]
  },
  {
   "cell_type": "code",
   "execution_count": 75,
   "id": "8de86698",
   "metadata": {},
   "outputs": [
    {
     "data": {
      "text/plain": [
       "{'Under Attack': 'https://catsinrus.narod.ru/l.podognem.htm',\n",
       " 'Деньги, Деньги, Деньги': 'https://catsinrus.narod.ru/l.money.htm',\n",
       " 'Кто-то': 'https://catsinrus.narod.ru/l.oneofus.htm',\n",
       " 'Спасибо тебе за музыку': 'https://catsinrus.narod.ru/l.thank.htm',\n",
       " 'S. O. S.': 'https://catsinrus.narod.ru/l.sos.htm',\n",
       " 'Мама мия': 'https://catsinrus.narod.ru/l.mamamia.htm',\n",
       " 'Если мама будет не прочь': 'https://catsinrus.narod.ru/l.doesyourmother.htm',\n",
       " 'Чикитита': 'https://catsinrus.narod.ru/l.chikit.htm',\n",
       " 'Зная всё, зная нас': 'https://catsinrus.narod.ru/l.knowing.htm',\n",
       " 'Дэнсинг квин': 'https://catsinrus.narod.ru/l.dqueen.htm',\n",
       " 'Наше последнее лето': 'https://catsinrus.narod.ru/l.ourlast.htm',\n",
       " 'Дай мне свою любовь': 'https://catsinrus.narod.ru/l.lay.htm',\n",
       " 'Сквозь пальцы': 'https://catsinrus.narod.ru/l.slipping.htm',\n",
       " 'Супер Труппа': 'https://catsinrus.narod.ru/l.super.htm',\n",
       " 'Победителю достаётся всё': 'https://catsinrus.narod.ru/l.thewinner.htm',\n",
       " 'Дайте! Дайте! Дайте!': 'https://catsinrus.narod.ru/l.daite.htm',\n",
       " 'Это шанс': 'https://catsinrus.narod.ru/l.chance.htm',\n",
       " 'Это что за игра?': 'https://catsinrus.narod.ru/l.thename.htm',\n",
       " 'Да, Да, Да, Да, Да': 'https://catsinrus.narod.ru/l.dadada.htm',\n",
       " 'Voulez-Vous': 'https://catsinrus.narod.ru/l.voulez.htm',\n",
       " 'Мечта моя': 'https://catsinrus.narod.ru/l.mechta.htm'}"
      ]
     },
     "execution_count": 75,
     "metadata": {},
     "output_type": "execute_result"
    }
   ],
   "source": [
    "mammamia_links = links_extraction('https://catsinrus.narod.ru/mammamia.htm')\n",
    "mammamia_links"
   ]
  },
  {
   "cell_type": "code",
   "execution_count": 132,
   "id": "122fca73",
   "metadata": {},
   "outputs": [
    {
     "name": "stdout",
     "output_type": "stream",
     "text": [
      "Under Attack https://catsinrus.narod.ru/l.podognem.htm\n",
      "Деньги, Деньги, Деньги https://catsinrus.narod.ru/l.money.htm\n",
      "Кто-то https://catsinrus.narod.ru/l.oneofus.htm\n",
      "Спасибо тебе за музыку https://catsinrus.narod.ru/l.thank.htm\n",
      "S. O. S. https://catsinrus.narod.ru/l.sos.htm\n",
      "Мама мия https://catsinrus.narod.ru/l.mamamia.htm\n",
      "Если мама будет не прочь https://catsinrus.narod.ru/l.doesyourmother.htm\n",
      "Чикитита https://catsinrus.narod.ru/l.chikit.htm\n",
      "Зная всё, зная нас https://catsinrus.narod.ru/l.knowing.htm\n",
      "Дэнсинг квин https://catsinrus.narod.ru/l.dqueen.htm\n",
      "Наше последнее лето https://catsinrus.narod.ru/l.ourlast.htm\n",
      "Дай мне свою любовь https://catsinrus.narod.ru/l.lay.htm\n",
      "Сквозь пальцы https://catsinrus.narod.ru/l.slipping.htm\n",
      "Супер Труппа https://catsinrus.narod.ru/l.super.htm\n",
      "Победителю достаётся всё https://catsinrus.narod.ru/l.thewinner.htm\n",
      "Дайте! Дайте! Дайте! https://catsinrus.narod.ru/l.daite.htm\n",
      "Это шанс https://catsinrus.narod.ru/l.chance.htm\n",
      "Это что за игра? https://catsinrus.narod.ru/l.thename.htm\n",
      "Да, Да, Да, Да, Да https://catsinrus.narod.ru/l.dadada.htm\n",
      "Voulez-Vous https://catsinrus.narod.ru/l.voulez.htm\n",
      "Мечта моя https://catsinrus.narod.ru/l.mechta.htm\n"
     ]
    }
   ],
   "source": [
    "for k, v in mammamia_links.items():\n",
    "    print (k, v)"
   ]
  },
  {
   "cell_type": "code",
   "execution_count": 151,
   "id": "3e48a50e",
   "metadata": {},
   "outputs": [
    {
     "data": {
      "text/plain": [
       "'https://catsinrus.narod.ru/l.chance.htm'"
      ]
     },
     "execution_count": 151,
     "metadata": {},
     "output_type": "execute_result"
    }
   ],
   "source": [
    "mammamia_links['Это шанс']"
   ]
  },
  {
   "cell_type": "code",
   "execution_count": 150,
   "id": "511b70b0",
   "metadata": {},
   "outputs": [],
   "source": [
    "with open('mammamia.txt', 'w', encoding='utf-8') as file:\n",
    "    file.write('MAMMA MIA!\\n\\n')\n",
    "    counter = 1\n",
    "    for k, v in mammamia_links.items():\n",
    "        page = requests.get(v)\n",
    "        soup = BeautifulSoup(page.text)\n",
    "\n",
    "        file.write(str(counter) + '. ' + k.upper() + '\\n\\n')\n",
    "        for i in soup.find_all('p')[2:]:\n",
    "            file.write(re.sub(r'\t', '', i.text.strip()))\n",
    "            file.write('\\n')\n",
    "        file.write('\\n\\n')\n",
    "        counter +=1\n"
   ]
  },
  {
   "cell_type": "code",
   "execution_count": null,
   "id": "3543b02f",
   "metadata": {},
   "outputs": [
    {
     "name": "stdout",
     "output_type": "stream",
     "text": [
      "Не знал я ревности до сих пор, \n",
      "Теперь готов я любому парню дать отпор.\n",
      "Я стал ревнивцем друзьям на смех,\n",
      "А раньше думал табак мой самый тяжкий грех.\n",
      " \n",
      "Всё сводится к нулю,\n",
      "Ревную и люблю.\n",
      "Весь мир вверх дном, \n",
      "Я об одном тебя молю.\n",
      " \n",
      "Ты не трать напрасно чувства, просто любовь мне дай.\n",
      " \n",
      "Амура выстрел так меток был.\n",
      "Лишь парой слов, лишь одной улыбкой меня сгубил.\n",
      "Он поразил меня глубоко, \n",
      "Солидной даме нельзя влюбляться так легко.\n",
      "Теряю я покой, когда ты не со мной.\n",
      "И жар в груди, молю приди, мой дорогой!\n",
      " \n",
      "Ты не трать напрасно чувства, просто любовь мне дай.\n",
      "Без тебя на сердце пусто, просто любовь мне дай.\n",
      " \n",
      "\n",
      "\n",
      "Влюблялась прежде я много раз,\n",
      "Но тех романов огонь всегда так быстро гас.\n",
      " \n",
      "А я старался разумно жить.\n",
      "Тебе одной удалось мой разум сокрушить.\n",
      " \n",
      "(                                       ) и явью стали сны.\n",
      "О как нам быть, ведь мы любить обречены.\n",
      " \n",
      "Ты не трать напрасно чувства, просто любовь мне дай.\n",
      "Без тебя на сердце пусто, просто любовь мне дай.\n",
      "Ты не трать напрасно чувства, просто любовь мне дай.\n",
      "Ты не трать напрасно чувства, просто любовь мне дай.\n",
      "Без тебя на сердце пусто, просто любовь мне дай.\n"
     ]
    }
   ],
   "source": [
    "for k, v in mammamia_links.items():\n",
    "    \n",
    "    page = requests.get(v)\n",
    "    soup = BeautifulSoup(page)\n",
    "\n",
    "    with open('mammamia.txt', 'w', encoding='utf-8') as file:\n",
    "        \n",
    "        file.write(k.upper())\n",
    "        for i in soup.find_all('p')[2:]:\n",
    "            print (i.text)"
   ]
  },
  {
   "cell_type": "code",
   "execution_count": null,
   "id": "9fe23246",
   "metadata": {},
   "outputs": [
    {
     "name": "stdout",
     "output_type": "stream",
     "text": [
      "['l.money.htm', 'l.oneofus.htm', 'l.thank.htm', 'l.sos.htm', 'l.doesyourmother.htm', 'l.chikit.htm', 'l.knowing.htm', 'l.dqueen.htm', 'l.ourlast.htm', 'l.lay.htm', 'l.slipping.htm', 'l.super.htm', 'l.thewinner.htm', 'l.daite.htm', 'l.chance.htm', 'l.thename.htm', 'l.dadada.htm', 'l.dadada.htm', 'l.mechta.htm'] ['\\nДеньги, Деньги, Деньги (', 'Кто-то ', '\\nСпасибо тебе за музыку (', 'S. O. S.', 'Если мама \\r\\n\\t\\tбудет не прочь \\r\\n\\t\\t', '\\nЧикитита (', 'Зная всё, \\r\\n\\t\\tзная нас', '\\nДэнсинг квин (', 'Наше \\r\\n\\t\\tпоследнее лето \\r\\n\\t\\t', '\\nДай мне свою любовь (', 'Сквозь пальцы', '\\nСупер Труппа (', 'Победителю \\r\\n\\t\\tдостаётся всё (', '\\nДайте! Дайте! Дайте! \\n', 'Это шанс', '\\nЭто что за игра?', 'Да, Да, Да, \\r\\n\\t\\tДа, Да (', 'I \\r\\n\\t\\tDo, I Do, I Do, I Do, I Do)', 'Мечта моя']\n"
     ]
    }
   ],
   "source": [
    "page = requests.get(url)\n",
    "soup = BeautifulSoup(page.text)\n",
    "links = []\n",
    "titles = []\n",
    "libretto = soup.find('table')\n",
    "for i in libretto.find_all('a'):\n",
    "    if i.parent.name == 'font':\n",
    "        links.append(i.get('href'))\n",
    "        titles.append(i.text)\n",
    "print (links, titles)"
   ]
  },
  {
   "cell_type": "code",
   "execution_count": 32,
   "id": "f78fb0d5",
   "metadata": {},
   "outputs": [
    {
     "name": "stdout",
     "output_type": "stream",
     "text": [
      "['Деньги, Деньги, Деньги', 'Кто-то', 'Спасибо тебе за музыку', 'S. O. S.', 'Если мама будет не прочь', 'Чикитита', 'Зная всё, зная нас', 'Дэнсинг квин', 'Наше последнее лето', 'Дай мне свою любовь', 'Сквозь пальцы', 'Супер Труппа', 'Победителю достаётся всё', 'Дайте! Дайте! Дайте!', 'Это шанс', 'Это что за игра?', 'Да, Да, Да, Да, Да', 'I Do, I Do, I Do, I Do, I Do', 'Мечта моя']\n"
     ]
    }
   ],
   "source": [
    "#titles_clean = re.sub(r'[\\n\\t\\r\\(\\)]', '', ' '.join(titles))\n",
    "titles_clean = []\n",
    "# чистим названия\n",
    "for t in titles:\n",
    "    t = re.sub(r'[\\n\\t\\r\\(\\)]', '', t)\n",
    "    if t[-1] == ' ': # убираем пробел в конце\n",
    "        t = t[:-1]\n",
    "    titles_clean.append(t)\n",
    "print(titles_clean)"
   ]
  },
  {
   "cell_type": "code",
   "execution_count": 38,
   "id": "846a0ca9",
   "metadata": {},
   "outputs": [
    {
     "name": "stdout",
     "output_type": "stream",
     "text": [
      "['https://catsinrus.narod.ru/l.money.htm', 'https://catsinrus.narod.ru/l.oneofus.htm', 'https://catsinrus.narod.ru/l.thank.htm', 'https://catsinrus.narod.ru/l.sos.htm', 'https://catsinrus.narod.ru/l.doesyourmother.htm', 'https://catsinrus.narod.ru/l.chikit.htm', 'https://catsinrus.narod.ru/l.knowing.htm', 'https://catsinrus.narod.ru/l.dqueen.htm', 'https://catsinrus.narod.ru/l.ourlast.htm', 'https://catsinrus.narod.ru/l.lay.htm', 'https://catsinrus.narod.ru/l.slipping.htm', 'https://catsinrus.narod.ru/l.super.htm', 'https://catsinrus.narod.ru/l.thewinner.htm', 'https://catsinrus.narod.ru/l.daite.htm', 'https://catsinrus.narod.ru/l.chance.htm', 'https://catsinrus.narod.ru/l.thename.htm', 'https://catsinrus.narod.ru/l.dadada.htm', 'https://catsinrus.narod.ru/l.dadada.htm', 'https://catsinrus.narod.ru/l.mechta.htm']\n"
     ]
    }
   ],
   "source": [
    "# сформируем нормальные ссылки\n",
    "link_base = 'https://catsinrus.narod.ru/'\n",
    "links_full = [link_base + l for l in links]\n",
    "print(links_full)\n"
   ]
  },
  {
   "cell_type": "code",
   "execution_count": 39,
   "id": "1a9712e5",
   "metadata": {},
   "outputs": [
    {
     "data": {
      "text/plain": [
       "{'Деньги, Деньги, Деньги': 'https://catsinrus.narod.ru/l.money.htm',\n",
       " 'Кто-то': 'https://catsinrus.narod.ru/l.oneofus.htm',\n",
       " 'Спасибо тебе за музыку': 'https://catsinrus.narod.ru/l.thank.htm',\n",
       " 'S. O. S.': 'https://catsinrus.narod.ru/l.sos.htm',\n",
       " 'Если мама будет не прочь': 'https://catsinrus.narod.ru/l.doesyourmother.htm',\n",
       " 'Чикитита': 'https://catsinrus.narod.ru/l.chikit.htm',\n",
       " 'Зная всё, зная нас': 'https://catsinrus.narod.ru/l.knowing.htm',\n",
       " 'Дэнсинг квин': 'https://catsinrus.narod.ru/l.dqueen.htm',\n",
       " 'Наше последнее лето': 'https://catsinrus.narod.ru/l.ourlast.htm',\n",
       " 'Дай мне свою любовь': 'https://catsinrus.narod.ru/l.lay.htm',\n",
       " 'Сквозь пальцы': 'https://catsinrus.narod.ru/l.slipping.htm',\n",
       " 'Супер Труппа': 'https://catsinrus.narod.ru/l.super.htm',\n",
       " 'Победителю достаётся всё': 'https://catsinrus.narod.ru/l.thewinner.htm',\n",
       " 'Дайте! Дайте! Дайте!': 'https://catsinrus.narod.ru/l.daite.htm',\n",
       " 'Это шанс': 'https://catsinrus.narod.ru/l.chance.htm',\n",
       " 'Это что за игра?': 'https://catsinrus.narod.ru/l.thename.htm',\n",
       " 'Да, Да, Да, Да, Да': 'https://catsinrus.narod.ru/l.dadada.htm',\n",
       " 'I Do, I Do, I Do, I Do, I Do': 'https://catsinrus.narod.ru/l.dadada.htm',\n",
       " 'Мечта моя': 'https://catsinrus.narod.ru/l.mechta.htm'}"
      ]
     },
     "execution_count": 39,
     "metadata": {},
     "output_type": "execute_result"
    }
   ],
   "source": [
    "songs_links = dict(zip(titles_clean, links_full))\n",
    "songs_links"
   ]
  },
  {
   "cell_type": "code",
   "execution_count": null,
   "id": "a8b700b8",
   "metadata": {},
   "outputs": [],
   "source": [
    "# добавляем криво стоявшую на сайте ссылку\n",
    "songs_links['Под огнем'] = base_link + 'l.podognem.htm'\n"
   ]
  },
  {
   "cell_type": "code",
   "execution_count": 40,
   "id": "7ff8c310",
   "metadata": {},
   "outputs": [
    {
     "data": {
      "text/plain": [
       "{'Деньги, Деньги, Деньги': 'https://catsinrus.narod.ru/l.money.htm',\n",
       " 'Кто-то': 'https://catsinrus.narod.ru/l.oneofus.htm',\n",
       " 'Спасибо тебе за музыку': 'https://catsinrus.narod.ru/l.thank.htm',\n",
       " 'S. O. S.': 'https://catsinrus.narod.ru/l.sos.htm',\n",
       " 'Если мама будет не прочь': 'https://catsinrus.narod.ru/l.doesyourmother.htm',\n",
       " 'Чикитита': 'https://catsinrus.narod.ru/l.chikit.htm',\n",
       " 'Зная всё, зная нас': 'https://catsinrus.narod.ru/l.knowing.htm',\n",
       " 'Дэнсинг квин': 'https://catsinrus.narod.ru/l.dqueen.htm',\n",
       " 'Наше последнее лето': 'https://catsinrus.narod.ru/l.ourlast.htm',\n",
       " 'Дай мне свою любовь': 'https://catsinrus.narod.ru/l.lay.htm',\n",
       " 'Сквозь пальцы': 'https://catsinrus.narod.ru/l.slipping.htm',\n",
       " 'Супер Труппа': 'https://catsinrus.narod.ru/l.super.htm',\n",
       " 'Победителю достаётся всё': 'https://catsinrus.narod.ru/l.thewinner.htm',\n",
       " 'Дайте! Дайте! Дайте!': 'https://catsinrus.narod.ru/l.daite.htm',\n",
       " 'Это шанс': 'https://catsinrus.narod.ru/l.chance.htm',\n",
       " 'Это что за игра?': 'https://catsinrus.narod.ru/l.thename.htm',\n",
       " 'Да, Да, Да, Да, Да': 'https://catsinrus.narod.ru/l.dadada.htm',\n",
       " 'I Do, I Do, I Do, I Do, I Do': 'https://catsinrus.narod.ru/l.dadada.htm',\n",
       " 'Мечта моя': 'https://catsinrus.narod.ru/l.mechta.htm'}"
      ]
     },
     "execution_count": 40,
     "metadata": {},
     "output_type": "execute_result"
    }
   ],
   "source": [
    "songs_links"
   ]
  },
  {
   "cell_type": "markdown",
   "id": "48ee034a",
   "metadata": {},
   "source": [
    "## РиДж"
   ]
  },
  {
   "cell_type": "code",
   "execution_count": null,
   "id": "e2559032",
   "metadata": {},
   "outputs": [],
   "source": [
    "url = 'https://zvezdi-rj.narod.ru/spekt/libretto.html'\n",
    "page = requests.get(url)\n",
    "soup = BeautifulSoup(page.text)\n",
    "soup"
   ]
  },
  {
   "cell_type": "code",
   "execution_count": 174,
   "id": "1bfd911e",
   "metadata": {},
   "outputs": [
    {
     "data": {
      "text/plain": [
       "49"
      ]
     },
     "execution_count": 174,
     "metadata": {},
     "output_type": "execute_result"
    }
   ],
   "source": [
    "rj_titles = [i.text.strip() for i in soup.find_all('p', {\"align\" : \"center\"})[3:]]\n",
    "len(rj_titles)"
   ]
  },
  {
   "cell_type": "code",
   "execution_count": null,
   "id": "38463fdb",
   "metadata": {},
   "outputs": [],
   "source": [
    "# КТО ПОЕТ\n",
    "#<font align=\"left\" color=\"#808080\" size=\"4\"><i>Все</i></font><font color=\"#808080\"><br/><br/>\n",
    "#</font>\n",
    "\n",
    "# ТЕКСТ ПЕСНИ\n",
    "#<font align=\"left\" color=\"#808080\" size=\"4\">Верона!<br/>Верона!<br/>Верона ждет!</font></p>\n",
    "\n",
    "# НАЗВАНИЕ ПЕСНИ\n",
    "#<p align=\"center\">\n",
    "#<font align=\"center\" color=\"#C0C0C0\" size=\"4\"><b>Ссора на улице</b></font></p>\n"
   ]
  },
  {
   "cell_type": "code",
   "execution_count": 217,
   "id": "7d2da3e9",
   "metadata": {},
   "outputs": [
    {
     "name": "stdout",
     "output_type": "stream",
     "text": [
      "['Вступление', 'Верона', 'Вражда', 'Предчувствие любви', 'Сватовство Париса', 'Нужно выйти замуж', 'Короли ночной Вероны', 'Судьба', 'Бал (музыка)', 'Ты и я', 'Продолжение бала', 'Маска Мести', 'Балкон', 'Красавцы и уроды', 'Два крыла любви', 'Благословение', 'Люди говорят', 'Пробил час', 'Дуэль', 'Смерть Меркуцио', 'Кто виноват?', 'Бог, почему?', 'Утро', 'Власть', 'Прощание Ромео и Джульетты', 'Она жена', 'Отец и дочь', 'Ангел в белом', 'Яд', 'Как сказать?', 'Смерть Ромео', 'Смерть Джульетты', 'Господь, прости', 'Плачьте', 'Счастье -Поклоны']\n",
      "Вступление\n",
      "Верона\n",
      "Вражда\n",
      "Предчувствие любви\n",
      "Сватовство Париса\n",
      "Нужно выйти замуж\n",
      "Короли ночной Вероны\n",
      "Судьба\n",
      "Бал (музыка)\n",
      "Ты и я\n",
      "Продолжение бала\n",
      "Маска Мести\n",
      "Балкон\n",
      "Красавцы и уроды\n",
      "Два крыла любви\n",
      "Благословение\n",
      "Люди говорят\n",
      "Пробил час\n",
      "Дуэль\n",
      "Смерть Меркуцио\n",
      "Кто виноват?\n",
      "Бог, почему?\n",
      "Утро\n",
      "Власть\n",
      "Прощание Ромео и Джульетты\n",
      "Она жена\n",
      "Отец и дочь\n",
      "Ангел в белом\n",
      "Яд\n",
      "Как сказать?\n",
      "Смерть Ромео\n",
      "Смерть Джульетты\n",
      "Господь, прости\n",
      "Плачьте\n",
      "Счастье -Поклоны\n"
     ]
    }
   ],
   "source": [
    "rj_titles = [i.text.strip() for i in soup.find_all('font', {'align': 'center', 'size' : '5' })]\n",
    "print(rj_titles)\n",
    "for i in rj_titles:\n",
    "    print(i)\n"
   ]
  },
  {
   "cell_type": "code",
   "execution_count": 226,
   "id": "f10a3fe7",
   "metadata": {},
   "outputs": [
    {
     "name": "stdout",
     "output_type": "stream",
     "text": [
      "33 35\n"
     ]
    }
   ],
   "source": [
    "rj_titles_clean = ['Вступление', 'Верона', 'Вражда', 'Предчувствие любви', 'Сватовство Париса', 'Нужно выйти замуж', 'Короли ночной Вероны', 'Судьба', 'Ты и я', 'Маска Мести', 'Балкон', 'Красавцы и уроды', 'Два крыла любви', 'Благословение', 'Люди говорят', 'Пробил час', 'Дуэль', 'Смерть Меркуцио', 'Кто виноват?', 'Бог, почему?', 'Утро', 'Власть', 'Прощание Ромео и Джульетты', 'Она жена', 'Отец и дочь', 'Ангел в белом', 'Яд', 'Как сказать?', 'Смерть Ромео', 'Смерть Джульетты', 'Господь, прости', 'Плачьте', 'Счастье -Поклоны']\n",
    "print(len(rj_titles_clean), len(rj_titles))"
   ]
  },
  {
   "cell_type": "code",
   "execution_count": null,
   "id": "7a8ce6bc",
   "metadata": {},
   "outputs": [],
   "source": [
    "content = soup.find_all('tr')[2:]"
   ]
  },
  {
   "cell_type": "code",
   "execution_count": 410,
   "id": "5342398a",
   "metadata": {},
   "outputs": [],
   "source": [
    "#3\n",
    "with open('romeoandjuliette.txt', 'w', encoding = 'utf-8') as file:\n",
    "    \n",
    "    for song in content:\n",
    "        #title = song.find('font', {'align':\"center\", 'color':\"#C0C0C0\", 'size':\"5\"}).text\n",
    "        #file.write(title + '\\n\\n')\n",
    "\n",
    "        text = song.find_all('font', {'align':\"left\", 'color':\"#808080\"})\n",
    "        \n",
    "        for line in text:\n",
    "            if line != '':\n",
    "                speaker_italics = line.find('i')\n",
    "                if speaker_italics:\n",
    "                    speaker_italics = speaker_italics.text.strip().upper()\n",
    "                    if not speaker_italics.endswith(':'):\n",
    "                        speaker_italics += ':'\n",
    "                    file.write('\\n' + speaker_italics + '\\n')\n",
    "                \n",
    "                songtext = line.text.strip()\n",
    "                if speaker_italics:\n",
    "                    songtext = songtext.replace(speaker_italics, '', 1).strip()\n",
    "                file.write(songtext + '\\n')\n",
    "        file.write('\\n\\n')\n",
    "\n",
    "\n",
    "    \n",
    "    \n"
   ]
  },
  {
   "cell_type": "code",
   "execution_count": 431,
   "id": "d42d5efe",
   "metadata": {},
   "outputs": [
    {
     "name": "stdout",
     "output_type": "stream",
     "text": [
      "['\\n\\n\\n\\n\\xa0\\n\\n\\n\\xa0\\n\\n\\xa0\\n\\nВступление\\n\\nГолос:\\n\\nВерона – территория войны!\\n                   Два клана – Капулетти и Монтекки,\\n                   Богатством, родовитостью равны. \\n                   Во времена глубокой старины рассорились.\\n                   Клубок змеиный их противоречий\\n                   Не может быть и речи разобрать\\n                   Никто не вспомнит ныне тех причин,\\n                   Что послужили поводом раздора.\\n                   Покажется грызня собачьей своры\\n                   Невинным воркованием голубей,\\n                   В сравнении с враждой почтеннейших семей.\\n                   Не счесть числа мужчин\\n                   Двух этих благороднейших родов,\\n                   Что были изувечены, убиты\\n                   На поле этой многолетней битвы.\\n                   Я это рассказал, чтоб было ясно вам,\\n                   Что служит фоном нашего сюжета – \\n                   Трагедии «Ромео и Джульетта»\\n\\xa0\\nК списку песен\\n\\n\\n\\xa0\\n\\n\\nВерона\\n\\nПринц:\\n\\nВас удивить ничем нельзя\\n                  Но так считаете вы зря, \\n                  Добро пожаловать друзья, \\n                  Верона рада вам. \\n                  Я здешний принц и мне ль не знать,\\n                  Чем здесь живут плебей и знать.\\n                  Тут только с виду благодать,\\n                  Но это лишь обман. \\n                  Увы, мой город - сущий ад.\\n                  На первый взгляд – цветущий сад,\\n                  В людских сердцах не кровь, а яд,\\n                  А в душах злобы смрад. \\n                  Верона ждет,\\n                  Мы все вам рады, \\n                  Коль вас в Верону занесло,\\n                  Судьба порою шутит зло, \\n                  Здесь два семейства правят бал,\\n                  Творят злодейство стар и мал,\\n                  Кто в этом месте небывал,\\n                  Верона - мести карнавал.\\n                  Верона ждет.\\n                  И здесь в Вероне, среди красоток и красот,\\n                  Вам может быть и повезет, \\n                  А нет – пеняйте на себя.\\n                  Добро пожаловать друзья.\\n                  Кто в этом месте не бывал,\\n                  Верона мести карнавал, \\n                  Верона ждет.\\n                  Вы здесь проездом день другой \\n                  И заречетесь – ни ногой!\\n                  Верона чудный городок,\\n                  Попасть – помилуй Бог! \\n                  А нам до смерти на роду\\n                  Здесь за бедой встречать беду.\\n                  И проклинать свою Судьбу\\n                  Как грешники в аду.\\n                  Увы, мой город - сущий ад,\\n                  На первый взгляд – цветущий сад,\\n                  В людских сердцах не кровь, а яд, \\n                  А в душах злобы смрад. \\n                  Верона ждет, Мы все вам рады, \\n                  Коль вас в Верону занесло,\\n                  Судьба порою шутит зло, \\n                  Здесь два семейства правят бал,\\n                  Творят злодейство стар и мал, \\n                  Здесь вместо библии кинжал,\\n                  Верона - мести карнавал, \\n                  Верона ждет.\\n                  И здесь в Вероне, среди красоток и красот,\\n                  Вам может быть и повезет, \\n                  А нет – пеняйте на себя. \\n                  Добро пожаловать друзья.\\n                  Здесь вместо библии кинжал,\\n                  Верона – мести карнавал, \\n\\nПринц:\\n\\nБенволио и Меркуцио, друзья с детства.\\n                  Меркуцио мне дальняя родня \\n\\nМеркуцио:\\n\\nМой принц, хотя вы мне родня,\\n                  Но вам не укротить меня!\\n\\nПринц:\\n\\nТибальт – зачинщик драк, их кровный враг\\n\\nТибальт:\\n\\nМне наплевать на ваш закон,\\n                  Покуда я вооружен!\\n\\nПринц:\\n\\nВерона!\\n                  Я был добрее, чем отец,\\n                  Терпенью наступил конец!\\n\\nВсе\\n\\nВерона!Верона!Верона ждет!\\n\\nСсора на улице\\n\\nГолоса\\n\\n- Тибальт! - Красавица!\\n                  - Тибальт, кровосмеситель! - Что ты умеешь? - Бенволио, задай ему!\\n                  - Не надорви пупок! - Бенволио, заходи ему в тыл! - Иди сюда!\\n                  - Ой, как страшно! - Выходи сюда!\\n\\nПринц:\\n\\nВеронцы, я устал от ваших ссор!\\n                  Был разговор?! А будет приговор! \\n                  Вам, Капулетти, и вам, Монтекки, \\n                  Приказываю прекратить войну.\\n                  А если кто нарушит мой приказ,\\n                  То будет предан смерти в тот же час!\\n                  Уж если воевать – за честь короны, \\n                  За мир и процветание Вероны!\\n\\xa0\\nК списку песен\\n\\n\\n\\xa0\\n\\n\\nВражда\\n\\nЛеди Капулетти:\\n\\nБог, я молю, \\n                  Видишь, мой дом \\n                  В пламени зла. \\n                  Всё, что люблю \\n                  Ненависть в нём \\n                  В пепел сожгла. \\n                  Вражда! Вражда! \\n                  Ты как шлюха коварна! \\n                  Вражда! Вражда!                   \\n                  Ты ведь торгуешь Судьбой! \\n                  Вражда! Вражда! \\n                  По тропинкам кровавым \\n                  Вражда! Вражда! \\n                  Смерть ходит вслед за тобой \\n                  Смерть вслед за Враждой! \\n\\nЛеди Монтекки:\\n\\nТы - плод греха, \\n                  Чадо змеи, кара небес.\\n                  След твой в веках \\n                  Тайны семьи \\n                  Прячут от глаз. \\n                  Вражда! Вражда! \\n                  Вражда вчера и сегодня! \\n                  Вражда! Вражда! \\n                  Вражда без явных причин \\n\\nЛеди Капулетти:\\n\\nСестра Любви,\\n                  Вражда как подлая сводня. \\n                  Сестра Любви\\n                  Со Смертью сводит мужчин. \\n\\nЛеди Монтекки: \\n\\n Сжигает души \\n                  Весь этот Ад \\n                  Весь этот Ад, \\n                  Где кровь и смрад, \\n                  Он между ног \\n                  Распутной стервы, \\n                  Что дарит смерть, \\n                  Как нежный взгляд. \\nЛеди Капулетти: \\nВесь этот Ад, \\n                  Где кровь и смрад \\n                  Вражды и Смерти \\n                  Маскарад. \\n                  Здесь нет любви, \\n                  Кругом вражда - \\n                  Любви приблудная сестра. \\nВместе:\\n                  Как нет снадобья \\n                  От чумы, \\n                  Так ворожбы \\n                  Нет от вражды. \\n                  И не уйти нам от судьбы, \\n                  От вражды, от вражды! \\n                  О-о-о-о! \\n                  Вражда, вражда, \\n                  Вражда, вражда! \\n                  Вражда! Вражда!\\n                  Вражда! \\n                  \\n\\nРазговор Леди Монтекки и Бенволио\\n Леди Монтекки:\\nБенволио!  Бенволио!\\nБенволио: \\n                  Да, тетя!\\nЛеди Монтекки:\\n                  Постой! Мне надо кое о чем спросить тебя, племянник! \\nБенволио:  \\n                  Ну вот опять! Я словно, сладкий пряник, \\n                  Измученный назойливостью мух. \\n                  Но, тетя! Покуда говорим мы, \\n                  Прекрасной жизни миг неповторимый \\n                  Промчится мимо! \\n                  Я лучше забегу к Вам вечерком, \\n                  Мы мило поболтаем за чайком. \\nЛеди Монтекки:\\n                  Стоять, я говорю! Сейчас к тебе спускаюсь! \\nБенволио: \\n                  Ах, не сердитесь тетя, я стараюсь, но ноги не подвластны голове, Она одна, а ног, простите, две! \\nЛеди Монтекки:\\n                  Мне кажется причина тут, сынок, не в голове, а где-то между ног! \\nБенволио:\\n                  Когда Вы обнаружили причину, мне тётя,возражать Вам не по чину. \\nЛеди Монтекки:\\n                  Не остри! Где сын мой? Сегодня видел ты его?\\nБенволио:\\n                  Не ведаю! Наверное, в постели, в мечтаньях пребывает о любви. \\nЛеди Монтекки: \\n                  О...ты знаешь, кто она? \\nБенволио:\\n                  Он сам того не знает! Влюблен в сам факт влюбленности своей!\\nЛеди Монтекки:\\n                  Уж лучше так, чем глупость ваших драк. Найди и приведи его ко мне! \\nБенволио:\\n                  Но тетя! \\nЛеди Монтекки:\\n                  Найди и приведи! \\nБенволио:\\n                  Найди и приведи, найди и приведи! \\n                  Где мне его искать? \\n                  Где та кровать, \\n                  Что его сегодня прячет? \\n                  В конце концов, я друг ему, не мать. \\n                  Хотел бы ситуацию понять: \\n                  Все женщины и даже часть мужчин, \\n                  Разыскивают нашего Ромео. \\n                  Вопросы разные хотят задать ему. \\n                  Бенволио не нужен никому. \\n                  Ромео, Ромео!\\n\\xa0\\nК списку песен\\n\\n\\n\\xa0\\n\\n\\n\\nПредчувствие любви\\nРомео: \\nПредчувствие любви, \\n                  Ты соткано из снов, \\n                  Невнятных, смутных слов, \\n                  Несвязанных стихов, \\n                  Где в золотой пыли \\n                  Играют свет и тень. \\n                  Предчувствие любви, \\n                  Что где-то рядом день \\n                  Нашей встречи - \\n                  Утро иль вечер, \\n                  Мгновение иль вечность - \\n                  День нашей встречи \\nДжульетта: \\n                  Предчувствие любви - \\n                  Какой-то смутный страх \\n                  И новый тайный смысл \\n                  В обыденных словах \\n                  И слезы без причин, \\n                  И глупые мечты. \\n                  Предчувствие любви, \\n                  Что где-то рядом ты, \\n                  Мой избранник, \\n                  Светлый как праздник, \\n                  Печаль моя и радость, \\n                  Ты, мой добрый ангел. \\nРомео:\\n                  Где ты? \\n                  С ночи до рассвета \\n                  Жду ответа, где ты?  \\nДжульетта: \\n                  Где ты? \\n                  С ночи до рассвета Жду ответа, где ты? \\n                  Где ты? \\nВместе: \\n                  Где ты, \\n                  Мой небесный ангел? \\n                  Неизвестный ангел. \\n                  Где ты? \\n                  Пусть наступит завтра, \\n                  Завтра, где мы вместе. \\n                  Где ты, \\n                  Ангел мой небесный \\n                  Ангел неизвестный \\n                  Где ты? Жду ответа \\n                  С ночи до рассвета \\n                  Верю, будет счастье, \\n                  Знаю будем вместе, \\n                  Вместе.\\n/музыка/\\n                  Где ты, \\n                  Ангел мой небесный \\n                  Ангел неизвестны\\n                  Где ты? Жду ответа\\n                  С ночи до рассвета \\n                  Верю, будет счастье, \\n                  Знаю будем вместе, \\n                  Вместе... \\nРомео:\\n                  Где ты? \\nДжульетта: \\n                  Где ты? \\n                  \\n\\nДиалог Бенволио и Ромео\\nБенволио: \\n                  Ромео! Уууу! Ромео!  \\n                  Приветствую тебя, чудесным утром \\nРомео:\\n                  Чудесным не бывает утро грусти. \\nБенволио: \\n                  Ты говоришь загадками, мой друг! Ты что влюблен? \\nРомео:\\n                  Я утонул в любви!\\nБенволио: \\n                  Выныривай! Мадам Монтекки, матушка твоя, велела мне доставить к ней тебя.\\n\\n\\xa0\\nК списку песен\\n\\n\\n\\xa0\\n\\n\\n\\nСватовство Париса\\nПарис:  \\n                  Графиня, граф! \\nГраф Капулетти: \\n                  О! господин Парис \\nПарис: \\n                  Вот Вашей дочери букетик небольшой. \\nЛеди Капулетти: \\nО, какая прелесть! \\nГраф:\\n                  Кормилица, возьми цветы и отнеси Джульетте. \\nПарис: \\n                  Граф, я к вам \\n                  Пришёл не сам, \\n                  Здесь перст судьбы вижу \\n                  Я в Джульетту \\n                  Так влюблён, \\n                  Что миллион \\n                  Ставлю на кон. \\n                  Я богат, умён, \\n                  И хорош собой \\n                  Прошу вашу дочь \\n                  Стать моей женой \\n                  Сомненья, прочь. \\n                  Резон один. \\n                  Граф, у вас есть дочь, \\n                  И вот вам сын. \\nГраф Капулетти:\\n                  О, Парис, \\n                  Какой сюрприз. \\n                  Честь для меня слушать вас, \\n                  Но Джульетта \\n                  Так юна, \\n                  Дитя она, \\n                  А не жена, \\n                  Выбор ваш мне льстит, \\n                  Но душа болит. \\n                  Подождите год, \\n                  Пусть подрастёт \\n                  Сомненья прочь. \\n                  Где взять мне сил? \\n                  Господь дал мне дочь, \\n                  Уж лучше был бы сын. \\n                  Как тяжек крест \\n                  Отцов невест...\\n                  Знатный зять, \\n                  Большая честь, \\n                  Раньше бы знать, \\n                  Чей буду тесть. \\nГраф:\\n                  Детали предстоящего события \\n                  Готов немедля с Вами обсудить я. \\nПарис:  \\n                  Согласен, граф! Идея неплоха.\\n                  Себе я нравлюсь в роли жениха. \\n               \\n                  \\n\\xa0\\nК списку песен\\n\\n\\n\\xa0\\n\\n\\n\\nНужно выйти замуж\\n\\n\\n Кормилица\\n                  Поторопись, пожайлуста. Джульетта! Уж мама к нам идет, а ты еще раздета! \\nЛеди Капулетти:\\n                  Есть у любви фатальный поворот \\n                  Кто-то один любить перестаёт. \\n                  И где тот огонь, Что нас сжигал до тла? \\n                  От прежнего костра \\n                  Лишь пепел и зола. \\nТы подросла, \\n                  Замуж пора \\n                  И дай, Господь, \\n                  Тебе не знать, Все что я прошла. \\n                  Настал твой час женою стать:\\n                  Жених был здесь с утра! \\nЛеди Капулетти и Кормилица: \\n                  Грустно, но однако \\n                  Нам нельзя без брака, \\n                  Женский жребий наш \\n                  Нужно выйти замуж! \\nЛеди Капулетти: \\n                  А если повезет, \\nКормилица: \\n                  Любовь потом придет. \\nЛеди Капулетти: \\nПомни одно, \\n                  Мужчина сущий бес.\\n                  Им все равно \\n                  С любовью или без. \\n                  Нам суждено \\n                  Игрушкой быть мужчин \\n                  Но все равно \\n                  Мужчина властелин\\nКормилица: \\n                  Джульетта, слушай маму, \\n                  Она почти права, \\n                  Но только выйдешь замуж, \\n                  Забудь ее слова! \\nЛеди Капулетти: \\n                  У нас всегда есть средство \\n                  Мужчину удержать – \\n                  Коварство и кокетство, \\n                  И брачная кровать!  \\nВместе:\\nМужья – наша цель, \\n                  Мужья – наша боль. \\n                  Мужчина наш король,\\n                  Ему покорной быть изволь\\n                  Грустно, но однако, \\n                  Нам нельзя без брака \\n                  Женский жребий наш - \\n                  Нужно выйти замуж! \\n                  И даже день один - \\n                  Нельзя нам без мужчин \\n                  Мужья – наша цель, \\n                  Мужья – наша боль. \\n                  Ты подросла,теперь ты \\n                  Стать женою изволь! \\n                  Поверь моим словам \\n                  Потом \"Спасибо\" скажешь нам.\\n \\n                  Граф Капулетти\\nНадеюсь на балу увидеть вас\\nПарисКонечно, граф прибуду в должный час\\n\\nДиалог Леди Капулетти и Джульетты\\n\\n\\n\\nЛеди Капулетти:\\nДжульетта, я взволнованна: Парис просил твоей руки. Ты хочешь замуж?\\nДжульетта: Не знаю, мама, это так внезапно. Мне...кажется, что мне, наверное, рано. \\n                  Леди Капулетти:\\nУж лучше раньше, чем наоборот. Ну я спешу, меня твой папа ждет. \\n                  \\n\\n\\nДиалог Кормилицы и Джульетты:\\n\\n\\n\\nжульетта: Кормилица, ты слышала? \\nКормилица: \\nДай Бог!Давно пора! В твои года графиня, твоя мама, и замужем,и на сносях была! \\n                  И я уже секреты брака знала и муженька отлично ублажала.\\n                  Джульетта: Кормилица, ты замужем была? \\nКормилица: \\n                  Увы, не долго. Он внезапно умер. \\n                  Джульетта: А ты его любила? \\n                  Кормилица: Что за номер? Любовь и брак – различные дела! \\n                  Джульетта: Но я хочу любви!\\n                  Кормилица: Мы говорим о свадьбе. Любовь приходит позже…иногда. \\n                  Джульетта: Но я хочу сейчас и навсегда! \\n                  Кормилица: Наивное дитя, ой, мне б её года! \\n                  Джульетта: Где ты с ночи до рассвета!\\n                  Жду ответа где ты!\\n                  Где ты?С ночи до рассвета\\n                  Жду ответа где ты...\\n\\xa0\\nК списку песен\\n\\n\\n\\xa0\\n\\n\\n\\n\\nКороли ночной Вероны\\n\\nМеркуцио:Ромео, Бенволио. Пошевеливайтесь. Догоняйте, черепахи! \\n                  Ромео:Мира законы очень просты - \\n                  Есть на земле короли и шуты. \\n                  Но почему так бывает порой, \\n                  Не разобраться кто шут, кто король. \\n                  Бенволио:Счастье не вечно, слава слепа, \\n                  А королей выбирает толпа. \\n                  Сильные мира вдали от земли \\n                  Не понимают, что мы короли. \\n                  Вместе и Хор:Короли ночной Вероны. \\n                  Нам не писаны законы. \\n                  Мы шальной удачи дети \\n                  Мы живём легко на свете. \\n                  В нашей жизни, то и дело, \\n                  Побеждает душу тело. \\n                   Но Господь за всё за это \\n                  Нас простит уже к рассвету \\n                  Короли ночной Вероны. \\n                  Нам не писаны законы. \\n                  Мы шальной удачи дети \\n                  Мы живём легко на свете. \\n                  В нашей жизни, то и дело, \\n                  Побеждает душу тело. \\n                   Но Господь за всё за это \\n                  Нас простит уже к рассвету \\n                  Меркуцио:Сильные мира судьбы вершат, \\n                  Только за нас ничего не решат. \\n                  Мы вызываем судьбу на дуэль. \\n                  Нам наплевать кто охотник, кто цель.  \\n                  Игры с судьбою смешны и пусты, \\n                  Мы за собою сжигаем мосты, \\n                  Вместе:Но неизменно во все времена – \\n                  Только любовь миром править должна! \\n                  Вместе и Хор:Короли ночной Вероны. \\n                  Нам не писаны законы. \\n                  Мы шальной удачи дети \\n                  Мы живём легко на свете. \\n                  В нашей жизни, то и дело, \\n                  Побеждает душу тело. \\n                  Но Господь за всё за это\\n                   Нас простит уже к рассвету\\n                  Короли ночной Вероны\\n                  Нам не писаны законы. \\n                  Мы шальной удачи дети \\n                  Мы живём легко на свете.\\n                   В нашей жизни, то и дело, \\n                  Побеждает душу тело. \\n                  Но Господь за всё за это \\n                  Нас простит уже к рассвету\\n                  Короли ночной Вероны.\\n                  Нам не писаны законы. \\n                  Мы шальной удачи дети \\n                  Легко живем на свете мы \\n                  В нашей жизни, то и дело, \\n                  Побеждает душу тело. \\n                  Но Господь за всё за это\\n                  Нас простит уже к рассвету \\n                  Меркуцио:Эй, Бенволио, малыш, покажи. Чему я тебя научил. Давай!! \\n                  Хор: Короли ночной Вероны. \\n                  Нам не писаны законы. \\n                  Мы шальной удачи дети \\n                  Мы живём легко на свете.\\n                  В нашей жизни, то и дело, \\n                  Побеждает душу тело. \\n                  Но Господь за всё за это \\n                  Нас простит уже к рассвету \\n\\n                  \\n\\nРазговор Меркуцио, Бенволио, Ромео\\n\\nМеркуцио:Друзья мои! Друзья мои! Для вас есть потрясающая новость. \\n                  Бенволио:Какая, Меркуцио? \\n                  Меркуцио: Не надейся, Бенволио, я не стану знакомить тебя с той красоткой! \\n                  Бенволио:Выкладывай скорей! \\n                  Ромео:    Прости, Меркуцио, мне не до новостей. \\n                  Бенволио:Опять хандрит! \\n                  Меркуцио:Бог с ним! Пойдем, Бенволио, поведаем другим!\\n\\n\\xa0\\nК списку песен\\n\\n\\n\\xa0\\n\\n\\n\\nСудьба\\n\\n\\n\\nРомео:Когда бы знать, что завтра ждёт?\\n                  Как угадать событий ход? \\n                  Какой Судьба готовит бал? \\n                  Поминки или карнавал? \\n                  И тайный смысл угадать \\n                  Намёков, знаков и примет. \\n                  Что нам Судьба сулит понять \\n                  Вопросы есть, ответов нет… \\n                  Судьба, Судьба, \\n                  Добра ты или зла? \\n                  Палач или судья? \\n                  Что там в твоей Судьбе \\n                  Начертано тебе, \\n                  Скажи?! \\n                  Судьба, Судьба, \\n                  Судьба, Судьба \\n                  Добра ты или зла, скажи? \\n                  Палач или судья? \\n                  Что прячешь ты во тьме, \\n                  Известно лишь тебе. \\n                  Я знать хочу, зачем, друзья, \\n                  Судьба игру ведёт со мной? \\n                  Зачем всё время слышу я \\n                  Её дыханье за спиной? \\n                  Зачем Судьба внушает страх \\n                  Грозя отнять свои дары?   \\n                  Игрушки мы в её руках, \\n                  И предрешён исход игры! \\n                  Судьба, Судьба, \\n                  Добра ты или зла, \\n                  Палач или судья? \\n                  Что там в твоей Судьбе \\n                  Начертано тебе, \\n                  Скажи?! \\n                  Судьба, Судьба, Судьба, \\n                  Добра ты или зла, скажи \\n                  Палач или судья? \\n                  Что прячешь ты во тьме, \\n                  Известно лишь тебе \\n                  /музыка/\\nСудьбаДобра ты или зла, \\n                  Палач или судья \\n                  Судьба, Судьба \\n                  Добра ты или зла, \\n                  Палач или судья \\n                  Судьба, Судьба \\n\\n                  \\n\\n\\nРазговор Меркуцио, Ромео, Бенволио\\n\\n\\n\\nМеркуцио:Ромео! Ромео, хватит нагонять тоску! \\n                  Бенволио:Ромео, хватит нагонять тоску. Ммм…влюбленным меланхолия к лицу! \\n                  Меркуцио:Дают у Капулетти нынче бал! \\n                  Ромео:   А мы приглашены? \\n                  Меркуцио:Я лично приглашен! \\n                  Бенволио:А мне плевать, пойду без приглашенья! \\n                  Ромео:   Неловко как-то \\n                  Бенволио:Принимай решенье! \\n                  Ведь это класс – прийти к врагам на бал. \\n                  Меркуцио: Такого номера никто не вытворял! \\n                  \\n\\nБал (музыка)\\n\\xa0\\nК списку песен\\n\\n\\n\\xa0\\n\\n\\nТы и я\\n\\n\\n\\nРомео: Я на чужом балу \\n                  Веселья не искал, \\n                  Но тебя вдруг увидал \\n                  Смолк шумный бал \\n                  Лишь мы одни средь зала \\n                  Джульетта:Одни среди толпы, \\n                  Лишь только я и ты, \\n                  Я и ты среди тишины, \\n                  Где слова не нужны, \\n                  Это ты, тот, о ком мечтала \\n                  Ромео:    Двое нас, лишь я и ты. \\n                  Нам встреча послана судьбою. \\n                  Джульетта:Двое нас, лишь я и ты, \\n                  Мы не расстанемся с тобою. \\n                  Ромео:     Совершенство красоты - это ты. \\n                  Джульетта: Воплощение мечты - это ты. \\n                  Вместе: Двое нас, лишь я и ты, \\n                  Нам помешать не в вашей власти. \\n                  Исполнение мечты - \\n                  Вот что значит счастье. \\n                  Ромео: Двое нас, лишь я и ты, \\n                  Нам встреча послана судьбою. \\n                  Джульетта: Двое нас, лишь я и ты, \\n                  Мы не расстанемся с тобою. \\n                  Ромео: Совершенство красоты - это ты. \\n                  Джульетта: Воплощение мечты - это ты. \\n                  Вместе: Двое нас, лишь я и ты, \\n                  Нам помешать не в вашей власти. \\n                  Исполнение мечты - \\n                  Вот что значит счастье.\\n\\nПродолжение бала\\n\\n\\nМеркуцио:Принимай гостей. Тибальт! Нас тут много! Ну что, Тибальт, пойдем, выпьем на брудершафт?! \\n                  Тибальт: Пришел на бал? Танцуй! \\n\\nБольше грации! Где твоя \\nграция?!\\n\\n                  \\n\\xa0\\nК списку песен\\n\\n\\n\\xa0\\n\\n\\nМаска Мести\\n\\n\\nКрики на улице:  Тибальт! Тибальт!Тибальт!!!\\nТибальт: Я был для всех чужак, \\n                  Всегда один. \\n                  Семья решила так: \\n                  «Будь гордым, сын! \\n                  Ты одинокий волк \\n                  Среди овец, \\n                  Тебе не слышна боль \\n                  Чужих сердец» \\n                  У всех вокруг друзья \\n                  Плечо к плечу, \\n                  Лишь я один и я \\n                  Вам по счетам плачу! \\n                  Плачу своей судьбой \\n                  И точно в срок, \\n                  Мне жить одной войной \\n                  Назначил Бог! \\n                  Месть – мое право, \\n                  Месть – моя правда! \\n                  Маска мести, маска мести – \\n                  Мне не сорвать тебя с лица – \\n                  Знак палача и подлеца! \\n                  Дело чести, дело чести. \\n                  Вы все решили за меня – \\n                  Мою судьбу, моя родня. \\n                  Маска мести, \\n                  Я только меч в руках семьи, \\n                  Дело чести, \\n                  Так приказали мне они. \\n                  О, будь ты проклята, судьба, \\n                  Мести раба! \\n                  О-о-о-о-о! \\n                  Маска мести, \\n                  Маска мести, \\n                  Знать, что твой вид внушает страх,\\n                  Дело чести, \\n                  Что жизнь и смерть в твоих руках \\n                  И я навеки обречен \\n                  Быть судьей и палачом! \\n                  Я не люблю толпу, \\n                  Какой в ней толк? \\n                  Толпа – союз тупых, \\n                  Я одинокий волк! \\n                  Придумать так легко \\n                  Святую ложь, \\n                  Но только в горле ком, \\n                  А в сердце нож.\\n\\n                  \\n\\xa0\\nК списку песен\\n\\n\\n\\xa0\\n\\n\\nБалкон\\n\\n\\n\\nДжульетта:В одной небесной книге, \\n                  Что пишут звездами боги, \\n                  В главе «Любовь», наверно, \\n                  Строка про нас с Ромео. \\n                  Есть в той небесной книге, \\n                  Что пишут звездами боги, \\n                  Цена разлук и боли – \\n                  Расплата за любовь, \\n                  Соединило небо \\n                  Джульетту и Ромео \\n                  Как сладок плод запретный – \\n                  Ромео и Джульетты. \\n                  Ромео:В другой небесной книге, \\n                  Где козни, лож, интриги, \\n                  В главе «Вражда», как странно, \\n                  Гербы двух наших кланов. \\n                  Готов богам молиться, \\n                  С врагом готов сразиться,\\n                  Чтоб нам соединиться \\n                  В объятиях любви \\n                  Вместе:Перевернем страницу, \\n                  Ту, где вражды граница, \\n                  И повторять мы будем \\n                  Главу «Любовь» покуда. \\n                  Джульетта: Ведь в этой главной главе \\n                  Ромео: Все обо мне и тебе! \\n                  Вместе:Пусть в той небесной книге, \\n                  Что пишут звездами боги, \\n                  Слова не канут в Лету, \\n                  Ромео плюс Джульетта. \\n                  Соединило небо \\n                  Джульетту и Ромео. \\n                  Прекрасней нет сюжета, \\n                  Ромео плюс Джульетта. \\n\\n                  \\n\\nДиалог Ромео и Джульетты\\n\\n\\nДжульетта:Неужто я и вправду влюблена \\n                  И эту страсть мою зовут Монтекки? \\n                  Ромео: Давай забудем наши имена,\\n                  Останемся наедине с любовью? \\n                  Джульетта: Моя любовь,Ромео, так сильна, \\n                  Что с ней наедине сойду с ума.\\n                  Не покидай меня! \\n                  Ромео: Я сам хочу остаться! \\n                  Сегодня, завтра…навсегда! \\n                  Ведь это доказательство любви?\\n                  Тебе другие доводы нужны? \\n                  Джульетта: Не знаю, Ромео, я не знаю… \\n                  Стань мужем мне. Женою назови. \\n                  Брак – главное свидетельство любви. \\n                  Ромео: Согласен! Я согласен! \\n                  Джульетта: Нет,постой! Возьми вот эту розу. \\n                  Вернешь, когда назначишь срок венчанья. \\n                  Ромео:Я поспешу! \\n                  Джульетта:Я буду ждать Ромео, ведь роза быстро вянет. \\n                  Уходи скорее, нас могут заметить.. \\n                  И помни, что роза быстро вянет \\n                  Ромео:Люблю тебя!\\n\\nРазговор Ромео и отца Лоренцо\\n\\nРомео:Отец Лоренцо, Вы мой духовник, посредник верный между мной и Богом, я полюбил! \\n                  Лоренцо:Опять любовь? \\n                  Ромео: Люблю как никогда! \\n                  Лоренцо: Грех этот невелик. \\n                  Ромео:Её зовут Джульетта… \\n                  Лоренцо: Любая из Джульетт тебя достойна. \\n                  Ромео: Нет, есть одна Джульетта, Капулетти. \\n                  Лоренцо: Капулетти? Ромео! Сын мой! Неужто ты не понимаешь, какие силы зла поступком этим ты к мести призываешь?\\n                  Такой союз опасней. чем чума!\\n                  Ромео:Как знать! Быть может к нам любовь пришла, чтоб доказать, что распри зря терзают наши семьи! \\n                  Лоренцо: Сын мой! Быть может, ты и прав! Безумие порой сильней, чем разум. И это небо посылает знак, чтоб Ваш союз  войну закончил разом. Я обвенчаю Вас. \\n                  Ромео: Спасибо, брат Лоренцо! \\n                  Лоренцо: Не надо благодарности, сынок! \\n\\nЛюби Джульетту, и храни Вас Бог! \\n\\xa0\\nК списку песен\\n\\n\\n\\xa0\\n\\n\\nРазговор \\nРомео, Меркуцио и Бенволио\\n\\n\\nБенволио: Ромео! Ромео! \\n                  Ромео:Я здесь, Бенволио! \\n                  Бенволио: Тебя все время ищут. \\n                  Меркуцио: И даже мы, ближайшие друзья. \\n                  Ромео: Я обо всем вам расскажу потом, пока нельзя. \\n                  Меркуцио: О да! Мы будем ждать и с нетерпеньем \\n                  Историю о новом приключении. \\n                  От зависти схожу с ума! \\n                  Открой секрет успеха! \\n                  Рассказ не может быть помехой. \\n                  Он иногда занятнее любви, Ромео!\\n                  \\n\\nРазговор Бенволио и Кормилицы\\n\\n\\nБенволио: О! Вы посмотрите,кто пришел! \\n                  А что здесь потеряла Капулетти? \\n                  Кормилица: Ищу Ромео я. \\n                  Бенволио: Ну вот, еще одна. Стремительно растет его цена! \\n                  Кормилица: Что Вы делаете?! Отпустите меня, уроды!\\n\\nКрасавцы и уроды \\n\\n\\n\\nКормилица: Ха-ха-ха, мамкины сынки! \\n                  Ха-ха-ха, вы ещё щенки! \\n                  И ваш наглый вид \\n                  Прикрывает стыд, \\n                  Что душа болит без любви.\\n                  Ха-ха-ха, этот балаган - \\n                  На денёк другой закрутить роман, \\n                  Не узнать как звать, \\n                  Затащить в кровать\\n                  Для пустых утех \\n                  На глазах у всех - \\n                  Это смех и грех! \\n                  Бенволио: Ха-ха-ха, слушать этот бред - \\n                  Ха-ха-ха, старых шлюх совет, \\n                  Те, что знали всё, \\n                  Да забыли как, \\n                  И в базарный день \\n                  Всем цена пятак. \\n                  Просто смех и грех! \\n                  Вместе и Хор: Будь ты красавица, \\n                  Будь ты уродина, \\n                  Грешим мы все и молимся, \\n                  Нам хочется и колется. \\n                  Мы вам не нравимся,\\n                  Нам всё без разницы, \\n                  Урод, или красавица,\\n                  Урод или красавица. \\n                  Кормилица: Ха-ха-ха, ты красавец, но \\n                  Красота твоя - маска Домино, \\n                  А под маской той, \\n                  Прячется урод,\\n                  Что в любовь плюёт, \\n                  С высока плюёт, \\n                  Хохоча плюёт!\\n                  МеркуциоА-ха-ха, боже, как смешно, \\n                  Ха-ха-ха, мы уроды, но \\n                  Все мы врём в любви, \\n                  Каждый день и час, \\n                  Дурим мы девиц \\n                  Девки дурят нас, \\n                  Все уроды мы. \\n                  Вместе и Хор:Будь ты красавица, \\n                  Будь ты уродина, \\n                  Грешим мы все и молимся, \\n                  Нам хочется и колется. \\n                  Всё, шутки в сторону, \\n                  Всем дайте поровну. \\n                  Любовь - ведь ей без разницы, \\n                  Урод или красавица.\\n\\nДиалог Меркуцио, Бенволио и Кормилицы \\n\\n\\nКормилица:Меркуцио! Меркуцио! Меркуцио!\\n                  Меркуцио: ДА! \\n                  Кормилица: Так где же ваш Ромео, мне нужен он. \\n                  Меркуцио:Кормилица, ты сильно опаздала - Ромео вырос, молоко давно не пьет, хоть иногда к груди и припадает… \\n                  Так что такого важного стряслось, что Капулетти заявилась к нам, разыскивая нашего Ромео? \\n                  Бенволио: Спешу привлечь всеобщее вниманье – Ромео здесь, он наконец нашелся! \\n                  Но кто мне может объяснить, зачем мадам Кормилице Ромео?\\n\\n                  \\n\\nРазговор Ромео и Кормилицы\\n\\nРомео: Бенволио, Меркуцио,оставьте нас вдвоем! Я обо всем вам расскажу потом. \\n                  Кормилица: Скажи, Ромео, ты Джульетту правда, любишь? \\n                  Ромео: Да, люблю. \\n                  Кормилица: Что делать нам? Час от часу не легче?! \\n                  Ромео:Возьми вот эту розу, отдай её Джульетте, скажи, я буду ждать её в монастыре. \\n                  Лоренцо нас сегодня обвенчает! \\n                  Кормилица: Ну если Вам Лоренцо помогает, то и Господь на вашей стороне\\n\\n\\xa0\\nК списку песен\\n\\n\\n\\xa0\\n\\n\\nДва крыла любви \\n\\n\\n\\nКормилица:Девочка моя, \\n                  Пусть мы разных кровей, \\n                  Кровное дитя \\n                  Нельзя любить сильней. \\n                  Еще вчера спала \\n                  Ты на моей груди, \\n                  И вот ты подросла, \\n                  Пришла пора любви, \\n                  О, Господь, пощади! \\n                  Два крыла любви \\n                  Подари ей, небо, \\n                  Два крыла любви, \\n                  Пусть уйдут все беды,\\n                  Два белых крыла, \\n                  Чтоб взлететь ты могла,\\n                  Взлететь и не ведать боль, \\n                  О, Господь, защити любовь! \\n                  Два крыла любви \\n                  Подари, Господь, \\n                  Два крыла любви! \\n                  Я сама была \\n                  Так наивна, как ты \\n                  И себе лгала \\n                  Про любовь и мечты, \\n                  Но у судьбы другой расчет, \\n                  И она нас больно бьет, \\n                  Только от её обид \\n                  Пусть тебя хранит \\n                  И господь защитит!\\n                  Два крыла любви \\n                  Подари ей, небо, \\n                  Два крыла любви, \\n                  Пусть уйдут все беды, \\n                  И взлететь над землей, \\n                  Над коварной родней, \\n                  Где царит закон «кровь за кровь», \\n                  О, Господь, защитит любовь!\\n                  Два крыла любви \\n                  Подари ее, небо, \\n                  Два крыла любви, \\n                  Пусть уйдут все беды, \\n                  Два белых крыла, \\n                  Чтоб парить ты могла, \\n                  Парить и не ведать боль, \\n                  О, Господь, защити любовь!\\n                  Два крыла любви, \\n                  Подари, Господь, \\n                  Два крыла любви, \\n                  Защити любовь! \\n                  \\n\\nДиалог Джульетты и Кормилицы\\n\\nДжульетта: Няня, что он сказал тебе? \\n                  Кормилица: Кто он? \\n                  Джульетта: Ромео! \\n                  Кормилица: Что мне сказал Ромео? \\n                  Постой, дай вспомнить. \\n                  Постарела я, наверно, \\n                  Все время теряю мысли нить! \\n                  Джульетта: Ах, няня, перестань меня дразнить! \\n                  Меня он любит или… \\n                  Кормилица:Или… тили-тили тесто, жених и невеста! \\n                  Да любит, любит он тебя! \\n                  Как можно не любить мое прелесное дитя!? \\n                  Лоренцо обвенчать берется Вас. \\n                  Джульетта: Спасибо, няня! \\n                  Кормилица: Ну, с Богом! \\n\\xa0\\nК списку песен\\n\\n\\n\\xa0\\n\\n\\nБлагословение\\n\\n\\nРомео: Тайной любовь сокрыта. \\n                  Ангел сердец разбитых, \\n                  Дай нам, \\n                  Во имя всех влюбленных, \\n                  Свою защиту. \\n                  Джульетта: Боже, в твоей мы власти. \\n                  Можно ль бежать от страсти? \\n                  Дай нам, \\n                  Во имя всех влюбленных, \\n                  Немного счастья. \\n                  Вместе Имя \\n                  Что значит имя \\n                  В этом \\n                  Безумном мире \\n                  Разве \\n                  Мы согрешили, \\n                  Если \\n                  Мы полюбили? \\n                  Хор Тайной \\n                  Любовь сокрыта \\n                  Ангел \\n                  Сердец разбитых, \\n                  Дай нам, \\n                  Во имя всех влюбленных, \\n                  Свою защиту. \\n                  Имя. \\n                  Что значит имя \\n                  В этом \\n                  Безумном мире? \\n                  Разве \\n                  Мы согрешили, \\n                  Если \\n                  Мы полюбили? \\n                  Время,\\n                  Продли мгновенье! \\n                  Джульетта:Мгновенье продли! \\n                  Хор Только \\n                  В любви спасенье. \\n                  Джульетта:Спасенье в любви! \\n                  Хор Дай им, \\n                  Во имя всех влюбленных, \\n                  Благословенье! \\n                  Боже, \\n                  Продли мгновенье! \\n                  Ромео:Мгновенье продли! \\n                  Хор Только \\n                  В любви спасенье! Ромео:\\nСпасенье в любви! Вместе и Хор\\nДай нам, \\n                  Во имя всех влюбленных, \\n                  Благословенье, \\n                  Боже! \\n\\n                  \\n\\xa0\\nК списку песен\\n\\n\\n\\xa0\\n\\n\\n\\nЛюди говорят\\n\\n\\nМеркуцио: Люди говорят, \\n                  Сын Монтекки предал род \\n                  И честь ему назад \\n                  Лишь только смерть вернет. \\n                  Бенволио:Люди говорят, \\n                  Чтобы честь себе вернуть,\\n                   Он должен в этот сад \\n                  Забыть на веки путь. \\n                  Меркуцио и Бенволио:\\nНе искушай судьбу,\\n                   Нарвешься на кинжал, \\n                  Не нарушай табу,\\n                   наче ты пропал. \\n                  Меркуцио и Бенволио:\\nТы нас предал! \\n                  Ромео: \\nЯ вам как прежде брат! \\n                  Меркуцио и Бенволио:\\nТы нас предал! \\n                  Ромео: \\nЯ ни в чем не виноват! \\n                  Меркуцио и Бенволио:\\nТы нас предал! \\n                  Ромео: \\nЯ понять меня молю! \\n                  Меркуцио и Бенволио: \\nТы нас предал! \\n                  Ромео:\\nЯ не предал, я люблю! \\n                  Меркуцио и Бенволио:\\nТы нас предал! \\n                  Ромео: У любви свои права! \\n                  Меркуцио и Бенволио:Ты нас предал! \\n                  Ромео:Но она всегда права! \\n                  Меркуцио и Бенволио: \\nТы нас предал! \\n                  Ромео: Я понять меня молю! \\n                  Меркуцио и Бенволио:\\nТы нас предал! \\n                  Ромео:Я не предал, я люблю! \\n                  Меркуцио:Люди говорят,\\n                   Что разлил ты мести яд.\\n                  Тропинка в этот сад\\n                   Ведет Ромео в ад. \\n                  Бенволио:Люди говорят,\\n                   Брат Джульетты вне себя, \\n                  Клянется всем подряд, \\n                  Что он убьет тебя.\\n                  Меркуцио и Бенволио:\\nНе искушай судьбу,\\n                   Нарвешься на кинжал, \\n                  Не нарушай табу,\\n                   Иначе ты пропал. \\n                  Меркуцио и Бенволио:Ты нас предал! \\n                  Ромео: Что могу сказать в ответ? \\n                  Меркуцио и Бенволио: Ты нас предал! \\n                  Ромео:Мы ведь вместе столько лет! \\n                  Меркуцио и Бенволио:Ты нас предал! \\n                  Ромео:Я свободен был как вы                             \\n                  Меркуцио и Бенволио:Ты нас предал! \\n                  Ромео: Стал я жертвою молвы \\n                  Меркуцио и Бенволио:Ты нас предал! \\n                  Ромео:Как и прежде мы друзья \\n                  Меркуцио и Бенволио:Ты нас предал! \\n                  Ромео:Мне один Господь судья \\n                  Меркуцио и Бенволио:Ты нас предал! \\n                  Ромео:Мне помочь нельзя, увы \\n                  Меркуцио и Бенволио:Ты нас предал! \\n                  Ромео: Это просто перст судьбы!\\n                 Меркуцио и Бенволио:Найти любовь в семье врагов,\\n                  Ромео: То дар Судьбы, то дар Богов!  \\n                  Меркуцио и Бенволио: Девиц полно, а жизнь одна,\\n                  Ромео:Но мне нужна она одна! \\n                  Меркуцио и Бенволио:Бери любую хоть сейчас, \\n                  Ромео:Нет, нет, нет!                              \\n                  Меркуцио и Бенволио:Ты предал нас,\\n                  Ты предал нас! \\n                  Ромео: Я раб любви,\\n                  Нет мне судьи.\\n                  То, дар Судьбы! \\n                  Меркуцио и Бенволио:Ты нас предал! \\n                  Ромео:Посмотрите на себя! \\n                  Меркуцио и Бенволио:Ты нас предал! \\n                  Ромео:Вы ревнуете друзья!\\n                  Меркуцио и Бенволио:Ты нас предал! \\n                  Ромео:Что любовь я смог познать,\\n                  Меркуцио и Бенволио:Ты нас предал! \\n                  Ромео: Хватит друга обвинять!\\n                  Меркуцио и Бенволио:Ты нас предал! \\n                  Ромео:Были мы совсем детьми, \\n                  Меркуцио и Бенволио:Ты нас предал! \\n                  Ромео:И мечтали о любви\\n                  Меркуцио и Бенволио:Ты нас предал! \\n                  Ромео:Мы молились по ночам,\\n                  Меркуцио и Бенволио:Ты нас предал! \\n                  Ромео: Чтоб любовь явилась к нам\\n                  Меркуцио и Бенволио:Ты нас предал! \\n                  Ромео:Если к вам Она придет, \\n                  Меркуцио и Бенволио:Ты нас предал! \\n                  Ромео:Вы поймете, кто был прав, \\n                  Меркуцио и Бенволио:Ты нас предал! \\n                  Ромео:Там любовь, где нет господ!\\n                  Меркуцио и Бенволио:Ты нас предал! \\n                  Ромео: Я ее послушный раб!!\\n                  Меркуцио и Бенволио:Ты нас предал! \\n                  Ромео:Нет! Я не виновен!  \\n                  Меркуцио и Бенволио:Ты нас предал! \\n                  Ромео:За любовь нельзя судить,\\n                  Любить! Любить!\\n                  Меркуцио и Бенволио:Ты нас предал! \\n                  Ромео:Это счастье!\\n                  Меркуцио и Бенволио:Ты нас предал!\\n                  Ты нас предал!\\n                  Ты нас предал! \\n                  Ромео: Это счастье!\\n                  Меркуцио и Бенволио:Ты нас предал!\\n                  Ты нас предал!\\n                  Ты нас предал! \\n                  Ты нас предал! \\n\\xa0\\nК списку песен\\n\\n\\n\\xa0\\n\\n\\n\\nПробил час\\n\\n\\nТибальт: Сестра и брат – \\n                  Запретный плод,\\n                  Он тем и сладок,\\n                  Что недостижим.\\n                  Каких страстей водоворот:\\n                  От ревности горю, \\n                  А ей другой любим!\\n                  Вокруг полно,\\n                  Девиц и дам, \\n                  Что влезть в постель\\n                  Готовы к вам.\\n                  Но только та, \\n                  Что мне сестра,\\n                  Моя мечта - \\n                  Кровосмесительная страсть.\\n                  Джульетта, боже мой, \\n                  Зачем избранник твой \\n                  Сын нашего врага? \\n                  Ромео, сын Монтекки.\\n                  Пробил час, пробил час, \\nПробил час, пробил час! \\n                  Ромео, сын Монтекки,\\n                  Твой час уснуть навеки!\\n                  Я прокурор, мой приговор:\\n                  Он гнусный вор.\\n                  И смоет позор\\n                  Только смерть подлеца! \\n                  Любовь - тюрьма,\\n                  Я узник в ней, \\n                  Хранить мне тайну\\n                  До моих последних дней.\\n                  В любви своей признаться \\n                  Закон мне не велит, \\n                  Как кровь во мне кипит,\\n                  Сегодня будем драться. \\n                  Пробил час, пробил час, \\nПробил час, пробил час! \\n                  Сжигает ревность сердце, \\n                  Мой враг достоин смерти! \\n                  Я прокурор, мой приговор:\\n                  Сдохнешь, как вор, \\n                  И смоет позор \\n                  Смерть подлеца! \\n                  Тибальт:Ревность сжигает! \\n                  Хор: Пробил час!\\n                  Тибальт:Все горит внутри!\\n                  Хор: Пробил час! \\n                  Тибальт:Назад дороги нет,\\n                  Хор: Пробил час!\\n                  Тибальт:И нет пути впереди!\\n                  Где ты, подлец Ромео, \\n                  Я жду тебя, Ромео. \\n                  Я жду тебя, Ромео.\\n                  Я жду тебя, Ромео.\\n                  Я жду тебя.\\n                  Я жду тебя,\\n                   Отомстить за любовь!!! \\n\\xa0\\nК списку песен\\n\\n\\n\\xa0\\n\\n\\n\\nДуэль\\n\\n\\nМеркуцио:\\nСмотрите, кто пришел! \\nТибальт, вот это встреча! \\n                  Какой нелепый ветер так Ваши паруса надул, что они вот-вот лопнут? \\n                  Тибальт:Собаки нагло тявкают, когда хозяин\\nрядом. Где Ромео? Я ищу его!\\nМеркуцио: Тибальт известный сыщик, он вечно что-то ищет: вчерашний \\nдень иль прошлогодний снег, а нынче в морду на глазах у всех!\\n                  Тибальт: Ромео передай, мне нужен он!\\n                  Меркуцио:Ромео то тебе зачем?\\n                  Тибальт: Не бойся, я его не съем!\\n                  Меркуцио:Подавишься! \\n                  \\n                  \\n\\nТибальт,Тибальт, я твоя смерть \\n                  Мне на тебя тошно смотреть. \\n                  Голос, походка и прикид... \\n                  Сегодня ты будешь убит! \\n                  Пижон без извилин,с душонкой калеки! \\n                  Пришел твой час уснуть навеки. \\n                  Слышишь, Тибальт! \\n                  Я - твоя смерть! \\n                  Тибальт: Эй, болтун, ты уже труп! \\n                  Пусть я пижон,а ты просто глуп! \\n                  Как ты смешон, автор плоских острот! \\n                  Ты бездарный поэт, пустой рифмоплет! \\n                  Убогий паяц, сопливый щенок! \\n                  Последний абзац допишет клинок. \\n                  Слышишь, парень, ты уже труп! \\n                  Ромео: Господа, Сатана вас рассудка лишил! \\n                  Лучше мир чем война! \\n                  Нас Господь сотворил для любви! \\n                  Хор:Жизнь надо прожить, \\n                  Наши клинки в ножны, не в плоть. \\n                  Жизнь остановить в праве ее только Господь. \\n                  Жизнь остановить в праве ее только Господь. \\n                  Ромео:Довольно, Тибальт, нам враждовать \\n                  Спрячь кинжал, закатим бал \\n                  Спор заменим пиром, \\n                  Смерть заменим миром! \\n                  Хор:Смерть, разве она праведный суд может вершить?! \\n                  Смерть тем и страшна, что может всех усыновить! \\n                  Ромео: Не сходите с ума - смерть придет к вам сама! \\n                  Срок жизни очень мал! \\n                  Господь нас создал, \\n                  Дал разум и плоть для счастья! \\n                  Господь! \\n                  Хор: Жизнь только для счастья, \\nЖизнь лишь для любви! \\n                  Меркуцио: Ромео, поверь, он просто зверь! \\n                  Примирит нас только смерть, \\n                  Только смерть рассудит нас \\n                  Немедля здесь и сейчас! \\n                  Тибальт: Слушай святой, трусливый герой \\n                  Тебе ли на до мной быть судьей? \\n                  Ступай-ка в монастырь, сутану напяль! \\n                  Там проповедуй мир, здесь правит сталь! \\n                  Ромео: Жизнь только для счастья, \\n                  Жизнь, лишь для любви! \\n                  Хор: Жизнь надо прожить, \\nвставив клинки в ножны, \\nНе в плоть! \\n                  Жизнь остановить вправе её только Господь. \\n                  Жить, жить, жить... \\n                  \\xa0\\n\\nТибальт: Куда ты лезешь? \\n                  Куда ты лезешь Меркуцио? \\n                  Это не твое дело \\n                  Вот ваш герой \\n                  Вставай! Ха-ха-ха! \\n                  Ромео: Меркуцио, Меркуцио! \\n                  Меркуцио: Ромео, что с тобой? Такой нелепый вид... \\n                  Ромео: Ты ранен? \\n                  Меркуцио: Нет, нет, не ранен я... убит! \\n                  Тибальт:Ты следующий... \\n                  Меркуцио:\\nКогда б ты между нами неловко так не встрял, \\n                  То я б не пропустил предательский кинжал... \\n                  Ромео: Прости! \\n                  Меркуцио: Уже простил... \\n                  Ромео: Ты ранен, всюду кровь... \\n\\xa0\\nК списку песен\\n\\n\\n\\xa0\\n\\n\\n\\nСмерть Меркуцио\\n\\n\\nМеркуцио:Я просто ухожу... \\n                  И на твою любовь я издали гляжу - \\n                  Джульетту береги, любовь ее храни \\n                  Я женщин знал других, но так любить они \\n                  Ромео, поверь мне, не могли \\n                  Прощай, мой верный друг \\n                  Прощай и прости. \\n                  Смерть рыщет вокруг, \\n                  Уйди с ее пути... \\n                  Ты не похож на всех, \\n                  Господь тебя храни \\n                  Не любят люди тех, \\n                  Кто лучше чем они \\n                  Из-за чумной вражды \\n                  Двух проклятых родов \\n                  Мы умирать должны, \\n                  Мы проливаем кровь, \\n                  Пусть лучше им чума \\n                  Опустошит дома... \\n                  Беду встречать бедой - \\n                  Несчастный жребий твой... \\n                  РомеоНет! Меркуцио!\\n                  Ты был мне как брат,\\n                  Больше чем брат,\\n                  Меркуцио!\\n                  Жизнь горше, чем яд,\\n                  Глубже, чем ад!\\n                  Ты был мне как брат,\\n                  Больше чем брат,\\n                  Меркуцио!\\n                  \\n                  \\n\\nТибальт!\\n\\xa0\\nК списку песен\\n\\n\\n\\xa0\\n\\n\\n\\nКто виноват? \\n\\n\\n\\nЛеди КапулеттиТибальт! Тибальт! Мальчик мой! Сынок!\\n                  А ты, мой муж, где был, пока они росли?\\n                  Ты бражничал, проигрывал пари,\\n                  Других любовью наслаждался,\\n                  Пока Тибальт за честь семьи сражался!\\n                  Тибальт убит! Он был мне вместо сына.\\n                  Иди и отомсти, коль ты еще мужчина!\\n                  Граф КапулеттиЗаткнись!\\n                  \\n\\n\\n                  Кто виноват,\\n                  Чашу мести выпьет до дна!\\n                  Кто виноват, \\n                  Эту смерть оплатит сполна! \\n                  Леди МонтеккиКто виноват?\\n                  Ваш Тибальт и сам убивал,\\n                  Кто виноват,\\n                  Что теперь сражен наповал? \\n                  ПринцСмерть с двух сторон,\\n                  Вашим горем я удручен,\\n                  Но есть закон - \\n                  Право власти!\\n                  Леди МонтеккиРозалина, где Ромео?\\n                  Ромео Мертв Тибальт, причина в том - \\n                  Кровь Меркуцио на нем.\\n                  Жизни их не вернуть назад,\\n                  Виновен я, не виноват!\\n                  Виновны мы вместе -\\n                  Заложники мести.\\n                  Леди МонтеккиРомео! Сын мой, Ромео!\\n                  РомеоВ угоду ей отец и мать\\n                  Ромео и Бенволио\\n                  Нас обучили убивать.\\n                  РомеоНауке этой я не рад\\n                  Виновен я, не виноват!\\n                  Я лишь в одном виновен,\\n                  Что мы родня по крови.\\n                  Леди Капулетти\\n                  Ты лжешь! Ты лжешь щенок! \\n                  ВместеКто виноват,\\n                  Чашу мести выпьет до дна!\\n                  Граф КапулеттиКто виноват.\\n                  ВместеКто виноват,\\n                  Эту смерть оплатит сполна!\\n                  Леди Монтекки, Леди Капулетти, Кормилица\\nКто виноват.\\n                  ВместеКто виноват,\\n                  Чашу мести выпьет до дна!\\n                  Принц\\n Я здесь закон!\\n                  ВместеКто виноват\\n                  Эту смерть оплатит сполна!\\n                  ПринцЯ здесь закон,\\n                  Вашим горем я удручен,\\n                  Смерть с двух сторон\\n                  Кровной мести выбор!\\n                  ПринцРомео, за поступок беззаконный \\n                  Немедля будет изгнан из Вероны!\\n                  А если он не выполнит приказ,\\n                  То будет предан смерти\\n                  Леди МонтеккиНет!\\n                  ПринцВ тот же час!\\n                  Кто я? Ваш принц? \\n                  Пастух взбесившегося стада!\\n                  Толпы безумцев глупых!\\n                  Пошли все вон!\\n                  Леди МонтеккиПощади!\\n                  ПринцИ уберите трупы!\\n                  Леди МонтеккиО небо, я теряю сына.\\n                  Ромео, мой единственный, Ромео.\\n                  РомеоЯ изгнан из Вероны! Я изгой!\\n                  Джульетта, ангел мой, мне не прожить в разлуке.\\n                  Леди МонтеккиЗа грех какой на муки \\n                  Ты, небо, обрекаешь матерей,\\n                  Уходит жизнь с потерею детей!\\n                  РомеоПрощайте, матушка, я здесь ни ко двору.\\n                  В изгнанье, в одиночестве умру!\\n                  Леди МонтеккиПрощай, мой сын. Я без тебя умру.\\n\\xa0\\nК списку песен\\n\\n\\n\\xa0\\n\\n\\n\\nБог, почему?\\n\\n\\nЛоренцоНаш принц тебя изгнал,\\n                  Спас жизнь тебе, сынок.\\n                  Кто прав, а кто неправ\\n                  Рассудит только Бог.\\n                  Где месть у жителей в крови,\\n                  Нет места для любви.\\n                  Лоренцо, Бенволио, Граф Капулетти\\nБог, почему\\n                  Война для мужчин\\n                  Любви слаще?\\n                  Бог, почему одним\\n                  Нам суждено терпеть,\\n                  Пока другие ищут смерть?\\n                  Бог, зачем смеешься над людьми,\\n                  Зачем нам жизнь, где нет любви, \\n                  Одна война, всегда война!\\n                  Кормилица Ну вот, Тибальт убит,\\n                  Убил Ромео твой.\\n                  Судьба вам не велит\\n                  Стать мужем и женой.\\n                  Печален наш удел земной - \\n                  Невесте быть вдовой.\\n                  Кормилица, Леди Капулетти, Леди Монтекки\\nБог, почему\\n                  Война для мужчин\\n                  Любви слаще?\\n                  Бог, почему одним\\n                  Нам суждено терпеть,\\n                  Пока другие ищут смерть?\\n                  Бог, зачем смеешься над людьми?\\n                  Зачем нам жизнь, где нет любви, \\n                  Одна война, всегда война!\\n                  ВместеБог, почему\\n                  Война для мужчин\\n                  Любви слаще?\\n                  Бог, почему одним\\n                  Нам суждено терпеть,\\n                  Пока другие ищут смерть?\\n                  Бог, зачем смеешься над людьми,\\n                  Зачем нам жизнь, где нет любви, \\n                  Одна война, всегда война!\\n                  ВместеБог, почему \\n                  Война для мужчин \\n                  Любви слаще?\\n                  Бог, почему одним \\n                  Нам суждено терпеть,\\n                  Пока другие ищут смерть? \\n                  Бог, зачем смеешься над людьми,\\n                  Зачем нам жизнь, где нет любви, \\n                  Одна война, всегда война!\\n                  Бог.\\xa0\\nК списку песен\\n\\n\\n\\xa0\\n\\n\\nУтро\\n\\n\\nРомеоУтро, утро,\\n                  Я слышу птичьи трели.\\n                  Они зарю пропели.\\n                  Настал разлуки час.\\n                  ДжульеттаОбними меня сильней\\n                  То соловей, сын ночи\\n                  Нас разлучать с тобой не хочет,\\n                  Он страж любви моей.\\n                  И на часы \\n                  Взять у зари\\n                  ВместеЧас для любви.\\n\\xa0\\nК списку песен\\n\\n\\n\\xa0\\n\\n\\nВласть\\n\\n\\nПринцЧто есть власть - \\n                  Сладкий яд. \\n                  Его пьянящий аромат \\n                  Вдохнешь однажды,\\n                  И нет пути назад. \\n                  Что есть власть?\\n                  Что есть власть?\\n                  Что есть власть?\\n                  Это честь или напасть? \\n                  Райский сад \\n                  Иль темный лес, \\n                  Сладкий яд \\n                  Иль тяжкий крест, \\n                  Сущий ад\\n                  Иль дар небес! \\n                  Все сокровища земли,\\n                  Все признания любви,\\n                  Жар объятий страстных жен,\\n                  Аромат заморских вин - \\n                  Все отдашь за миг один \\n                  Воцарения на трон,\\n                  Где в руках твоих закон. \\n                  Беспределен власти пир,\\n                  Власти яд - ты всех слаще!\\n                  Власть - вершить верховный суд. \\n                  Черным - белое назвать. \\n                  Осудить мораль как блуд, \\n                  Превратить святых в иуд, \\n                  Всё местами поменять. \\n                  И карать невинный люд,\\n                  Одарить иль наказать,\\n                  Иль прощенье даровать! \\n                  Власть - быть с вечностью на «ты», \\n                  Верить в свой высокий дар.\\n                  И под возгласы толпы\\n                  Пить божественный нектар \\n                  Незаслуженной любви\\n                  Недостойных стать людьми.\\n                  Смертных отправлять на смерть \\n                  Может только власть суметь!\\n                  Власть - факир, она творит \\n                  С нами тысячи чудес. \\n                  Власть тебя преобразит.\\n                  Власть - и чистым стал подлец.  \\n                  Власть - стал мудрецом балбес. \\n                  Власть - и в вас вселился бес.\\n                  Ею век не будешь сыт, \\n                  Как удав она вас съест.\\n                  Пусть она несет беду \\n                  Вашим близким и друзьям,\\n                  И терзаться век в аду \\n                  Предстоит за это вам. \\n                  И в горячечном бреду \\n                  Добровольно не отдашь\\n                  Ты свой царственный венец.\\n                  Власти нет - и ты мертвец.\\n                  Что есть Власть? \\n\\xa0\\nК списку песен\\n\\n\\n\\xa0\\n\\n\\nПрощание Ромео и Джульетты\\n\\n\\nКормилица\\nДжульетта. Джульетта, хватит спать.\\n                  Весь дом уже проснулся \\n                  И как бы адом рай для вас не обернулся!\\n                  РомеоРасплавим ночь в последнем поцелуе,\\n                  Перемешаем со слезами и по капле\\n                  Я буду пить целебный эликсир,\\n                  Чтоб облегчить разлуку. Ухожу.\\n                  ДжульеттаНет, не уходи, Ромео.\\n                  Я жена твоя навек.\\n                  РомеоА я, твой муж!\\n                  Увы, судьбе угодно так,\\n                  Что небо прокляло наш брак.\\n                  КормилицаРомео, Джульетта, ночь прошла\\n                  Сюда уже идут \\n                  Вас через пять минут не я\\n                  Разбудит мама\\n                  Не избежать тогда\\n                  Позора вам и срама!\\n\\nОна жена\\n\\n\\nГраф КапулеттиПарис, \\n                  Сыграем свадьбу завтра с утра,\\n                  Пусть дочь\\n                  Забудет с вами горечь утрат.\\n                  Память дев коротка,\\n                  Ночь любви, как река \\n                  Смоет грусть, и тоска \\n                  Пройдет наверняка.\\n                  Пройдет лишь ночь одна, \\n                  И она - жена.Леди Капулетти\\nНе плачь, \\n                  Джульетта, слезы вытри с лица.\\n                  Рыдать \\n                  Нелепо,\\n                  Леди Капулетти и Граф КапулеттиЭто воля Отца,\\n                  Леди КапулеттиТы пойдешь под венец,\\n                  Если так сказал отец,\\n                  Здесь все решает лишь он,\\n                  Таков у нас закон!\\n                  Вместе Пройдет лишь ночь одна, \\n                  Ты уже жена!\\n                  Граф КапулеттиТвой брак - воля отца!\\n                  Леди КапулеттиТвой брак - женская доля.\\n                  Леди Капулетти и Граф Капулетти \\nНам от венца и до конца\\n                  Всем суждено жить в неволе!\\n                  ВместеПройдет лишь ночь одна, \\n                  Ты уже жена!\\n                  ДжульеттаПрошу, \\n                  ВсеСудьба\\n                  Джульетта\\nСкажи им, няня, правду, скажи, \\n                  ТогдаОтец не станет портить мне жизнь \\n                  Легче смерть принять, \\n                  Чем женой другого стать,\\n                  Знаешь ты, ты одна - \\n                  Ромео я жена!\\n                  ВместеПройдет лишь ночь одна, \\n                  ПарисТы моя жена!\\n                  ДжульеттаНяня, помоги!Ну сделай хоть что-нибудь!\\n                  КормилицаЛюбовь вы сами убили.\\n                  Тибальт, брат твой, в могиле.\\n                  Граф КапулеттиНе спорь с отцом!\\n                  КормилицаИ завтра днем\\n                  Леди КапулеттиВстань под венцом\\n                  КормилицаС новым мужем!\\n                  ВместеПройдет лишь ночь одна, \\n                  Ты его жена!\\n                  Граф Капулетти и Леди КапулеттиЕго женой быть тебе!\\n                  Смириться надо судьбе!\\n                  ДжульеттаНе смогу,\\n                  Хоть умри,\\n                  Стать женой\\n                  Без любви!\\n                  Граф КапулеттиВсе давно \\n                  Решено,\\n                  И все равно!\\n                  ДжульеттаНет!\\n                  Вместе Пройдет лишь ночь одна, \\n                  Ты ему жена\\n                  ПарисДо завтра, граф. Благодарю вас.\\xa0\\nК списку песен\\n\\n\\n\\xa0\\n\\n\\nОтец и дочь\\n\\n\\nГраф КапулеттиОтец и дочь.\\n                  Цветок любви!\\n                  Господь, тот миг,\\n                  Благослови!\\n                  Пока она \\n                  Еще дитя,\\n                  И ей нужна \\n                  Любовь твоя.\\n                  Отец и дочь:\\n                  И Да и Нет.\\n                  Отец и дочь:\\n                  Вопрос - ответ.\\n                  Как уберечь,\\n                  Спасти, помочь\\n                  Мой дух и плоть - \\n                  Родную дочь?\\n                  Родную дочь.\\n                  И день придет,\\n                   С моих колен\\n                  Она вспорхнет,\\n                  Попавши в плен\\n                  Коварных чар \\n                  Чужих мужчин,\\n                  Где каждый вор и сукин сын.\\n                  Ночной кошмар,\\n                  Мой страшный сон!\\n                  Взрослеет дочь,  \\n                  Старею я.\\n                  И стала ночь бледнее дня!\\n                  Не мне менять\\n                  Земной закон,\\n                  Где нет меня,\\n                  Есть только он,\\n                  Она и он!\\n                  А, может быть,\\n                   Я все ж неправ,\\n                  Пора смирить \\n                  Свой гордый нрав\\n                  И скорбно ждать\\n                  Свой смертный час.\\n                  Дочь станет мать, \\n                  И часть от нас\\n                  В ней прорастет \\n                  Цветком другим -\\n                  Круговорот мы завершим.\\n                  Но ангел мой, \\n                  Любовь моя!\\n                  Смирить себя \\n                  Я не могу!\\n                  Свое дитя отдать врагу!\\n                  И будь сто тысяч\\n                  Раз проклят тот,\\n                  Кто мой цветок, \\n                  Шутя, сорвет.\\n                  Владеет мной \\n                  Одна лишь страсть:\\n                  Мой рай земной \\n                  Не дать украсть,\\n                  Дочь - ангел мой; \\n                  Не дать украсть.\\n                  Отец и дочь,\\n                  Любовь моя,\\n                  Дочь, ангел мой,\\n                  Ты часть меня!\\n                  Владеет мной\\n                  Одна лишь страсть:\\n                  Мой рай земной\\n                  Не дать украсть!\\n                  Отец и дочь.\\n                  Отец и дочь.\\n\\xa0\\nК списку песен\\n\\n\\n\\xa0\\n\\n\\nАнгел в белом\\n\\n\\nРомеоПомню \\n                  Тот день и час,\\n                  Полдень, \\n                  Где двое нас.\\n                  В тот полдень было\\n                  Венчанье в храме,\\n                  И ангел в белом \\n                  Парил над нами.\\n                  Венчальной клятвы\\n                  Язык латыни\\n                  И голос падре\\n                  В обители святой,\\n                  Что быть нам отныне\\n                  Мужем и женой\\n                  ДжульеттаОтец Лоренцо.\\n                  Как же так? \\n                  Обвенчанную вами повторно замуж выдают!\\n                  РомеоПомню \\n                  Тот день и час,\\n                  Полдень,\\n                  Где двое нас.\\n                  В тот полдень было\\n                  Венчанье в храме,\\n                  И ангел в белом \\n                  Парил над нами.\\n                  ДжульеттаЭто же грех!\\n                  Он равносилен смерти!\\n                  РомеоВы знали разве,\\n                  Что жизнь в разлуке\\n                  Страшнее казни?\\n                  Глядеть мне в небо\\n                  ВместеС немым укором.\\n                  Был ангел в белом,\\n                  Стал черный ворон.\\n                  Вы обрекли меня на жизнь,\\n                  Но эта жизнь страшней, чем казнь\\n                  РомеоОна как палач жестокий\\n                  Казнит каждый час разлукой\\n                  Нас двоих.\\n                  Боже...\\n                  ДжульеттаКто я - жена или вдова?\\n                  РомеоДай силы мне\\n                  ДжульеттаЖива я или мертва\\n                  РомеоСвятое небо\\n                  Молю о чуде,\\n                  Пусть ангел в белом \\n                  Со мною будет\\n                  РомеоВо тьму закован,\\n                  Я верю, боже,\\n                  Быть вне законна\\n                  ВместеЛюбовь не может!\\n                  Мой ангел, жизнь моя,\\n                  Прошу, дождись меня!\\n                  О-о-о-о-о-о-о-о!\\n                  ЛоренцоДжульетта,\\n                  Слушай и запоминай.\\n                  Здесь яд. Ты, выпив пару капель,\\n                  Погрузишься в столь глубокий сон,\\n                  Что тело станет хладным, как у трупа.\\n                  Все будут знать - Джульетта умерла.\\n                  Но ты проснешься ночью в объятиях Ромео.\\n                  Я письмо послал к нему с надежным человеком.\\n                  Теперь ступай.\\n                  ДжульеттаСпасибо.\\n\\xa0\\nК списку песен\\n\\n\\n\\xa0\\n\\n\\nЯд\\n\\n\\nДжульеттаВслед за любимым мысли летят,\\n                  Я ухожу, чтоб вернуться назад.\\n                  Боже, прости,\\n                  Дай мне уйти.\\n                  Я выпиваю спасительный яд,\\n                  Чтоб на рассвете вернуться назад,\\n                  Милый, приди,\\n                  Меня разбуди.\\n                  Что меня ждет по ту сторону сна,\\n                  Чаша с отравой, спасет ли нас она?\\n                  И с утренней зарей \\n                  Я буду вновь с тобой.\\n                  ХорБоже, от страха ее защити, \\n                  ДжульеттаПью за тебя.\\n                  ХорБоже, не дай заблудится в пути.\\n                  ДжульеттаБоже, прости…\\n                  Леди Капулетти\\nДжульетта, хватит спать. Вставай. Сегодня свадьба. Джульетта, Джульетта?!\\n                  Боже правый. На помощь! Она мертва.\\n                  Джульетта умерла!\\n                  Девочка моя,нет!\\n                  БенволиоНет!\\n\\xa0\\nК списку песен\\n\\n\\n\\xa0\\n\\n\\nКак сказать?\\n\\n\\n\\nБенволиоВерность дружбе - наш закон \\n                  Неразлучны с детства - я и он.\\n                  И как друг, обязан я сказать об этом.\\n                  Ходит смерть за нами Рок, \\n                  Кто нас проклял знает Бог. \\n                  Бог, за чьи грехи, ответь, \\n                  В нашем доме поселилась Смерть? \\n                  Пляшет Смерть, сужая круг, \\n                  Умерла, кого любил мой друг, \\n                  Нет Джульетты, Смерть свершила месть, \\n                  Принести Ромео эту весть, \\n                  Должен я. \\n                  Печальная честь… \\n                  Как мне сказать ему слова: \\n                  «Твоя любовь мертва, она мертва»? \\n                  Тишина и хор замолк, \\n                  Это долг, мой скорбный долг \\n                  Смерть опять замкнула круг, \\n                  И я его последний друг. \\n                  Произнесу, как приговор: \\n                  «Она мертва...»\\n                  Но за что мне эта честь: \\n                  Принести дурную весть? \\n                  В старину беды гонца тотчас казнили.\\n                  Сам себя сто раз на дню, \\n                  Сто раз безжалостно казню.\\n                  Как суметь ему сказать\\n                  То, что лучше бы не знать. \\n                  Пляшет Смерть, сужая круг, \\n                  Умерла, кого любил мой друг,\\n                  Нет Джульетты, Смерть свершила месть, \\n                  Принести Ромео эту весть \\n                  Должен я. \\n                  Печальная честь…\\n                  Как мне сказать ему слова: \\n                  «Твоя любовь мертва, она мертва»? \\n                  Тишина и хор замолк.\\n                  Это долг, мой скорбный долг \\n                  Смерть опять замкнула круг, \\n                  И я его последний друг.\\n                  Произнесу, как приговор: \\n                  «Она мертва...» \\n                  Я не смогу сказать слова: \\n                  «Твоя любовь мертва, она мертва» \\n                  Тишина и боль со мной, \\n                  Это долг, наш скорбный долг \\n                  Смерть опять замкнула круг, \\n                  Я его последний друг. \\n                  Произнесу, как приговор: \\n                  «Она мертва...»\\n                  Она мертва... \\n                  О-О-О-О\\n                  О-о-о\\n\\nБенволио сообщает Ромео о\\nсмерти Джульетты\\n\\n\\nРомеоБенволио! Бенволио, дружище, просыпайся.\\n\\nТы что здесь делаешь?\\n                  Вопросам нет числа. \\nКакие новости в Вероне? Как Джульетта?\\n                  РомеоБенволио, что с тобой? Почему молчишь?\\n                  Бенволио!\\n                  БенволиоДжульетта умерла. Джульетты больше нет.\\n                  БенволиоРомео! Ромео!\\n\\xa0\\nК списку песен\\n\\n\\n\\xa0\\n\\n\\nСмерть Ромео\\n\\n\\nРомео Даже смерть перед ней бессильна, \\n                  Губ не тронул тлен могильный. \\n                  Вот сейчас во сне \\n                  Улыбнешься мне. \\n                  Только склепа сумрак печальный \\n                  На мольбу отвечает молчаньем. \\n                  Вот и кончена война с Монтекки - \\n                  Мы вдвоем в объятьях сна навеки. \\n                  Вот и все, прощайте, \\n                  Я к тебе ухожу вслед за счастьем, \\n                  Где вдали от земли жизнь осталась, \\n                  Жизнь короче любви оказалась \\n                  Жизнь короче любви, жизнь короче любви. \\n                  Вот и все, ухожу и не жду я причастья, \\n                  Любимая, с тобой \\n                  Мы обретем покой, \\n                  Вдали от суеты, \\n                  Где только я и ты. \\n                  На встречу судьбе, \\n                  Джульетта к тебе \\n                  Я ухожу \\n                  Вот и все, прощайте, \\n                  Никому я не скажу слов проклятья, \\n                  По ту сторону зла, \\n                  Где не врут зеркала. \\n                  Чтоб покой обрели \\n                  Мы вдали от земли \\n                  Жизнь короче любви,\\n                  Жизнь короче любви \\n                  Вот и все, \\n                  Ухожу.\\n\\xa0\\nК списку песен\\n\\n\\n\\xa0\\n\\n\\nСмерть Джульетты\\nДжульетта Ромео, вставай. Ромео, что с тобой,\\n                  Ответь, ответь, ОТВЕТЬ!!!\\n                  Джульетта\\nРомео, милый, что с тобой? \\n                  Меня охватывает страх. \\n                  И поцелуй горячий мой \\n                  Растаял льдинкой на губах. \\n                  Какой я совершила грех? \\n                  За что мне, Господи, ответь, \\n                  Его любившей больше всех \\n                  Соперницею стала смерть? \\n                  Смерть ради любви, \\n                  Смерть ради любви! \\n                  Ромео, Ромео, \\n                  Приют дарит нам небо. \\n                  Любимый, Ромео, \\n                  На кровью политой земле, \\n                  Где нет тебя - нет места мне. \\n                  Ромео, любимый, \\n                  Мы неразделимы. \\n                  Любимый, Ромео, \\n                  Раз оборвалась жизни нить, \\n                  Нас смерть должна соединить! \\n                  Быть не хочу твоей вдовой, \\n                  Уж лучше в склепе, чем с людьми. \\n                  И в мире, что живет войной, \\n                  Я умираю от любви. \\n                  Смерть ради любви, \\n                  Смерть ради любви! \\n                  Ромео, Ромео, \\n                  Приют дарит нам небо. \\n                  Любимый, Ромео, \\n                  На кровью политой земле, \\n                  Где нет тебя - нет места мне. \\n                  Ромео, любимый, \\n                  Мы неразделимы. \\n                  Любимый, Ромео,\\n                  Раз оборвалась жизни нить, \\n                  Нас смерть должна соединить! \\n\\xa0\\nК списку песен\\n\\n\\n\\xa0\\n\\n\\nГолоса - Где они? \\n                  - Я ничего не вижу. \\n                  - Сюда. \\n                  - Отец Лоренцо, мы нашли их!\\n\\nГосподь, прости\\n\\n\\nЛоренцо Господь, прости! \\n                  Прозрей, Господь, ведь ты ослеп!\\n                  Ты не на тех излил свой гнев, \\n                  Убил, а мог спасти. \\n                  Кощунственная речь \\n                  Слетела с губ моих, \\n                  В душе бушует ночь, \\n                  Скрывая светлый лик \\n                  Тебя, того, кто вел \\n                  Меня тропой любви \\n                  Средь худшего из зол, \\n                  Что названо «людьми». \\n                  Я был твой верный сын, \\n                  Примерный ученик, \\n                  Носил смиренно сан, \\n                  И вот я - еретик. \\n                  Господь, прости. \\n                  Господь, прости! \\n                  Прозрей, Господь, \\n                  Ведь, Ты ослеп! \\n                  Ты не на тех излил свой гнев, \\n                  Убил, а мог спасти. \\n                  Одно добро творил я \\n                  Именем твоим,\\n                  Я грешников любил,\\n                  Пусть не был сам любим,\\n                  Не ведал женских чар,\\n                  Свою смиривши плоть,\\n                  Я искренне прощал,\\n                  Как Ты учил, Господь!\\n                  Прощал и знать и чернь\\n                  Груз сплетен, грязь интриг...\\n                  Но грыз сомненья червь\\n                  Листы священных книг,\\n                  Никчемных книг!\\n                  Но прежде, \\n                  Но прежде, чем хвалу \\n                  Произнесли уста,\\n                  Я пел тебе хвалу,\\n                  Но, Бог мой, я устал.\\n                  Устал взывать к тебе,\\n                  Ведь Ты не слышишь наших клятв.\\n                  Горят окрест кресты,\\n                  И мир на них распят!\\n                  Мне храм теперь тюрьма,\\n                  Молитва - смертный крик...\\n                  Теряю разум я, \\n                  Господь, я еретик. \\n                  Нет мне прощенья!\\n                  О нет, нет мне прощенья!\\n                  Господь, прозрей!\\n                  Прозрей, Господь, ведь ты ослеп!\\n                  Ты не на тех излил свой гнев,\\n                  Убил, а мог спасти.\\n                  Любовь ты убил!\\n                  Ты отчим, не отец!\\n                  О, Боже, что со мною?\\n                  Твой храм мне стал тюрьмою!\\n                  О Боже!\\n\\xa0\\nК списку песен\\n\\n\\n\\xa0\\n\\n\\nПлачьте\\n\\n\\nЛеди МонтеккиНет печальней драмы \\n                  Той, что здесь, в Вероне.\\n                  Два враждебных дома \\n                  Породнила кровью.\\n                  Дети, быть вам вечно \\n                  Знаком верной любви!\\n                  Леди КапулеттиКак мы были слепы, \\n                  Нету нам прощенья,\\n                  Чтоб прозреть у склепа.\\n                  Смерть - цена прозренья.\\n                  Наши дети вместе \\n                  Символ вечной любви!\\n                  Леди МонтеккиПлачьте по Ромео, \\n                  По Джульетте рыдайте.\\n                  Верности примером\\n                  Стали их имена!\\n                  Леди Монтекки и Леди Капулетти,\\nКормилица\\nПлачьте по Джульетте, \\n                  По Ромео рыдайте.\\n                  Их любви на свете                \\n                  Жить во все времена!\\n                  ВсеПлачьте, плачьте,\\n                  Ромео и Джульетты нет.\\n                  Плачьте, плачьте \\n                  Что нет Ромео и Джульетты \\n                  Плачьте, плачьте\\n                  БенволиоПовесть о двух влюбленных\\n                  КормилицаЧто есть любовь Ромео и Джульетты \\n                  Что положили жизнь на алтарь любви.\\n                  Вместе Повесть о двух влюбленных, \\n                  Что положили жизнь на алтарь любви. \\n                   Дети нас научили,\\n                  КормилицаЧто есть любовь Ромео и Джульетты \\n                  БенволиоЧто нет ничего сильней любви.\\n                  Любви!\\n\\xa0\\nК списку песен\\n\\n\\n\\xa0\\n\\n\\nСчастье -Поклоны \\n\\n\\nРомеоСчастье - ты глубже моря,\\n                  Счастье - ты выше неба,\\n                  Счастье, оно быть может \\n                  Людям нужнее хлеба.\\n                  ДжульеттаСчастье - парить как птица\\n                  Счастье - обжечься солнцем,\\n                  Счастье с любимым слиться\\n                  Может лишь только сниться.\\n                  ВместеСчастье творит героев,\\n                  Счастье сильнее смерти,\\n                  Счастье - когда есть двое,\\n                  Двое с единым сердцем.\\n                  ХорСчастье творит героев,\\n                  Счастье сильнее смерти,\\n                  Счастье - когда есть двое,\\n                  Двое с единым сердцем.\\n                  Счастье - судьбы страница,\\n                  Счастье - мне быть с тобою, \\n                  Счастье - с любимым слиться \\n                  В то, что зовут любовью.\\n                  Счастье - подарок Бога,\\n                  Счастье - строки начало\\n                  Счастья всегда нам мало\\n                  \\nИ не бывает много.\\n                  Счастье.\\n\\xa0\\nК списку песен\\n\\n\\n\\n', '\\n\\xa0\\n\\n\\n\\xa0\\n\\n\\xa0\\n\\nВступление\\n\\nГолос:\\n\\nВерона – территория войны!\\n                   Два клана – Капулетти и Монтекки,\\n                   Богатством, родовитостью равны. \\n                   Во времена глубокой старины рассорились.\\n                   Клубок змеиный их противоречий\\n                   Не может быть и речи разобрать\\n                   Никто не вспомнит ныне тех причин,\\n                   Что послужили поводом раздора.\\n                   Покажется грызня собачьей своры\\n                   Невинным воркованием голубей,\\n                   В сравнении с враждой почтеннейших семей.\\n                   Не счесть числа мужчин\\n                   Двух этих благороднейших родов,\\n                   Что были изувечены, убиты\\n                   На поле этой многолетней битвы.\\n                   Я это рассказал, чтоб было ясно вам,\\n                   Что служит фоном нашего сюжета – \\n                   Трагедии «Ромео и Джульетта»\\n\\xa0\\nК списку песен\\n', '\\n\\xa0\\n\\n\\nВерона\\n\\nПринц:\\n\\nВас удивить ничем нельзя\\n                  Но так считаете вы зря, \\n                  Добро пожаловать друзья, \\n                  Верона рада вам. \\n                  Я здешний принц и мне ль не знать,\\n                  Чем здесь живут плебей и знать.\\n                  Тут только с виду благодать,\\n                  Но это лишь обман. \\n                  Увы, мой город - сущий ад.\\n                  На первый взгляд – цветущий сад,\\n                  В людских сердцах не кровь, а яд,\\n                  А в душах злобы смрад. \\n                  Верона ждет,\\n                  Мы все вам рады, \\n                  Коль вас в Верону занесло,\\n                  Судьба порою шутит зло, \\n                  Здесь два семейства правят бал,\\n                  Творят злодейство стар и мал,\\n                  Кто в этом месте небывал,\\n                  Верона - мести карнавал.\\n                  Верона ждет.\\n                  И здесь в Вероне, среди красоток и красот,\\n                  Вам может быть и повезет, \\n                  А нет – пеняйте на себя.\\n                  Добро пожаловать друзья.\\n                  Кто в этом месте не бывал,\\n                  Верона мести карнавал, \\n                  Верона ждет.\\n                  Вы здесь проездом день другой \\n                  И заречетесь – ни ногой!\\n                  Верона чудный городок,\\n                  Попасть – помилуй Бог! \\n                  А нам до смерти на роду\\n                  Здесь за бедой встречать беду.\\n                  И проклинать свою Судьбу\\n                  Как грешники в аду.\\n                  Увы, мой город - сущий ад,\\n                  На первый взгляд – цветущий сад,\\n                  В людских сердцах не кровь, а яд, \\n                  А в душах злобы смрад. \\n                  Верона ждет, Мы все вам рады, \\n                  Коль вас в Верону занесло,\\n                  Судьба порою шутит зло, \\n                  Здесь два семейства правят бал,\\n                  Творят злодейство стар и мал, \\n                  Здесь вместо библии кинжал,\\n                  Верона - мести карнавал, \\n                  Верона ждет.\\n                  И здесь в Вероне, среди красоток и красот,\\n                  Вам может быть и повезет, \\n                  А нет – пеняйте на себя. \\n                  Добро пожаловать друзья.\\n                  Здесь вместо библии кинжал,\\n                  Верона – мести карнавал, \\n\\nПринц:\\n\\nБенволио и Меркуцио, друзья с детства.\\n                  Меркуцио мне дальняя родня \\n\\nМеркуцио:\\n\\nМой принц, хотя вы мне родня,\\n                  Но вам не укротить меня!\\n\\nПринц:\\n\\nТибальт – зачинщик драк, их кровный враг\\n\\nТибальт:\\n\\nМне наплевать на ваш закон,\\n                  Покуда я вооружен!\\n\\nПринц:\\n\\nВерона!\\n                  Я был добрее, чем отец,\\n                  Терпенью наступил конец!\\n\\nВсе\\n\\nВерона!Верона!Верона ждет!\\n\\nСсора на улице\\n\\nГолоса\\n\\n- Тибальт! - Красавица!\\n                  - Тибальт, кровосмеситель! - Что ты умеешь? - Бенволио, задай ему!\\n                  - Не надорви пупок! - Бенволио, заходи ему в тыл! - Иди сюда!\\n                  - Ой, как страшно! - Выходи сюда!\\n\\nПринц:\\n\\nВеронцы, я устал от ваших ссор!\\n                  Был разговор?! А будет приговор! \\n                  Вам, Капулетти, и вам, Монтекки, \\n                  Приказываю прекратить войну.\\n                  А если кто нарушит мой приказ,\\n                  То будет предан смерти в тот же час!\\n                  Уж если воевать – за честь короны, \\n                  За мир и процветание Вероны!\\n\\xa0\\nК списку песен\\n', '\\n\\xa0\\n\\n\\nВражда\\n\\nЛеди Капулетти:\\n\\nБог, я молю, \\n                  Видишь, мой дом \\n                  В пламени зла. \\n                  Всё, что люблю \\n                  Ненависть в нём \\n                  В пепел сожгла. \\n                  Вражда! Вражда! \\n                  Ты как шлюха коварна! \\n                  Вражда! Вражда!                   \\n                  Ты ведь торгуешь Судьбой! \\n                  Вражда! Вражда! \\n                  По тропинкам кровавым \\n                  Вражда! Вражда! \\n                  Смерть ходит вслед за тобой \\n                  Смерть вслед за Враждой! \\n\\nЛеди Монтекки:\\n\\nТы - плод греха, \\n                  Чадо змеи, кара небес.\\n                  След твой в веках \\n                  Тайны семьи \\n                  Прячут от глаз. \\n                  Вражда! Вражда! \\n                  Вражда вчера и сегодня! \\n                  Вражда! Вражда! \\n                  Вражда без явных причин \\n\\nЛеди Капулетти:\\n\\nСестра Любви,\\n                  Вражда как подлая сводня. \\n                  Сестра Любви\\n                  Со Смертью сводит мужчин. \\n\\nЛеди Монтекки: \\n\\n Сжигает души \\n                  Весь этот Ад \\n                  Весь этот Ад, \\n                  Где кровь и смрад, \\n                  Он между ног \\n                  Распутной стервы, \\n                  Что дарит смерть, \\n                  Как нежный взгляд. \\nЛеди Капулетти: \\nВесь этот Ад, \\n                  Где кровь и смрад \\n                  Вражды и Смерти \\n                  Маскарад. \\n                  Здесь нет любви, \\n                  Кругом вражда - \\n                  Любви приблудная сестра. \\nВместе:\\n                  Как нет снадобья \\n                  От чумы, \\n                  Так ворожбы \\n                  Нет от вражды. \\n                  И не уйти нам от судьбы, \\n                  От вражды, от вражды! \\n                  О-о-о-о! \\n                  Вражда, вражда, \\n                  Вражда, вражда! \\n                  Вражда! Вражда!\\n                  Вражда! \\n                  \\n\\nРазговор Леди Монтекки и Бенволио\\n Леди Монтекки:\\nБенволио!  Бенволио!\\nБенволио: \\n                  Да, тетя!\\nЛеди Монтекки:\\n                  Постой! Мне надо кое о чем спросить тебя, племянник! \\nБенволио:  \\n                  Ну вот опять! Я словно, сладкий пряник, \\n                  Измученный назойливостью мух. \\n                  Но, тетя! Покуда говорим мы, \\n                  Прекрасной жизни миг неповторимый \\n                  Промчится мимо! \\n                  Я лучше забегу к Вам вечерком, \\n                  Мы мило поболтаем за чайком. \\nЛеди Монтекки:\\n                  Стоять, я говорю! Сейчас к тебе спускаюсь! \\nБенволио: \\n                  Ах, не сердитесь тетя, я стараюсь, но ноги не подвластны голове, Она одна, а ног, простите, две! \\nЛеди Монтекки:\\n                  Мне кажется причина тут, сынок, не в голове, а где-то между ног! \\nБенволио:\\n                  Когда Вы обнаружили причину, мне тётя,возражать Вам не по чину. \\nЛеди Монтекки:\\n                  Не остри! Где сын мой? Сегодня видел ты его?\\nБенволио:\\n                  Не ведаю! Наверное, в постели, в мечтаньях пребывает о любви. \\nЛеди Монтекки: \\n                  О...ты знаешь, кто она? \\nБенволио:\\n                  Он сам того не знает! Влюблен в сам факт влюбленности своей!\\nЛеди Монтекки:\\n                  Уж лучше так, чем глупость ваших драк. Найди и приведи его ко мне! \\nБенволио:\\n                  Но тетя! \\nЛеди Монтекки:\\n                  Найди и приведи! \\nБенволио:\\n                  Найди и приведи, найди и приведи! \\n                  Где мне его искать? \\n                  Где та кровать, \\n                  Что его сегодня прячет? \\n                  В конце концов, я друг ему, не мать. \\n                  Хотел бы ситуацию понять: \\n                  Все женщины и даже часть мужчин, \\n                  Разыскивают нашего Ромео. \\n                  Вопросы разные хотят задать ему. \\n                  Бенволио не нужен никому. \\n                  Ромео, Ромео!\\n\\xa0\\nК списку песен\\n', '\\n\\xa0\\n\\n\\n\\nПредчувствие любви\\nРомео: \\nПредчувствие любви, \\n                  Ты соткано из снов, \\n                  Невнятных, смутных слов, \\n                  Несвязанных стихов, \\n                  Где в золотой пыли \\n                  Играют свет и тень. \\n                  Предчувствие любви, \\n                  Что где-то рядом день \\n                  Нашей встречи - \\n                  Утро иль вечер, \\n                  Мгновение иль вечность - \\n                  День нашей встречи \\nДжульетта: \\n                  Предчувствие любви - \\n                  Какой-то смутный страх \\n                  И новый тайный смысл \\n                  В обыденных словах \\n                  И слезы без причин, \\n                  И глупые мечты. \\n                  Предчувствие любви, \\n                  Что где-то рядом ты, \\n                  Мой избранник, \\n                  Светлый как праздник, \\n                  Печаль моя и радость, \\n                  Ты, мой добрый ангел. \\nРомео:\\n                  Где ты? \\n                  С ночи до рассвета \\n                  Жду ответа, где ты?  \\nДжульетта: \\n                  Где ты? \\n                  С ночи до рассвета Жду ответа, где ты? \\n                  Где ты? \\nВместе: \\n                  Где ты, \\n                  Мой небесный ангел? \\n                  Неизвестный ангел. \\n                  Где ты? \\n                  Пусть наступит завтра, \\n                  Завтра, где мы вместе. \\n                  Где ты, \\n                  Ангел мой небесный \\n                  Ангел неизвестный \\n                  Где ты? Жду ответа \\n                  С ночи до рассвета \\n                  Верю, будет счастье, \\n                  Знаю будем вместе, \\n                  Вместе.\\n/музыка/\\n                  Где ты, \\n                  Ангел мой небесный \\n                  Ангел неизвестны\\n                  Где ты? Жду ответа\\n                  С ночи до рассвета \\n                  Верю, будет счастье, \\n                  Знаю будем вместе, \\n                  Вместе... \\nРомео:\\n                  Где ты? \\nДжульетта: \\n                  Где ты? \\n                  \\n\\nДиалог Бенволио и Ромео\\nБенволио: \\n                  Ромео! Уууу! Ромео!  \\n                  Приветствую тебя, чудесным утром \\nРомео:\\n                  Чудесным не бывает утро грусти. \\nБенволио: \\n                  Ты говоришь загадками, мой друг! Ты что влюблен? \\nРомео:\\n                  Я утонул в любви!\\nБенволио: \\n                  Выныривай! Мадам Монтекки, матушка твоя, велела мне доставить к ней тебя.\\n\\n\\xa0\\nК списку песен\\n', '\\n\\xa0\\n\\n\\n\\nСватовство Париса\\nПарис:  \\n                  Графиня, граф! \\nГраф Капулетти: \\n                  О! господин Парис \\nПарис: \\n                  Вот Вашей дочери букетик небольшой. \\nЛеди Капулетти: \\nО, какая прелесть! \\nГраф:\\n                  Кормилица, возьми цветы и отнеси Джульетте. \\nПарис: \\n                  Граф, я к вам \\n                  Пришёл не сам, \\n                  Здесь перст судьбы вижу \\n                  Я в Джульетту \\n                  Так влюблён, \\n                  Что миллион \\n                  Ставлю на кон. \\n                  Я богат, умён, \\n                  И хорош собой \\n                  Прошу вашу дочь \\n                  Стать моей женой \\n                  Сомненья, прочь. \\n                  Резон один. \\n                  Граф, у вас есть дочь, \\n                  И вот вам сын. \\nГраф Капулетти:\\n                  О, Парис, \\n                  Какой сюрприз. \\n                  Честь для меня слушать вас, \\n                  Но Джульетта \\n                  Так юна, \\n                  Дитя она, \\n                  А не жена, \\n                  Выбор ваш мне льстит, \\n                  Но душа болит. \\n                  Подождите год, \\n                  Пусть подрастёт \\n                  Сомненья прочь. \\n                  Где взять мне сил? \\n                  Господь дал мне дочь, \\n                  Уж лучше был бы сын. \\n                  Как тяжек крест \\n                  Отцов невест...\\n                  Знатный зять, \\n                  Большая честь, \\n                  Раньше бы знать, \\n                  Чей буду тесть. \\nГраф:\\n                  Детали предстоящего события \\n                  Готов немедля с Вами обсудить я. \\nПарис:  \\n                  Согласен, граф! Идея неплоха.\\n                  Себе я нравлюсь в роли жениха. \\n               \\n                  \\n\\xa0\\nК списку песен\\n', '\\n\\xa0\\n\\n\\n\\nНужно выйти замуж\\n\\n\\n Кормилица\\n                  Поторопись, пожайлуста. Джульетта! Уж мама к нам идет, а ты еще раздета! \\nЛеди Капулетти:\\n                  Есть у любви фатальный поворот \\n                  Кто-то один любить перестаёт. \\n                  И где тот огонь, Что нас сжигал до тла? \\n                  От прежнего костра \\n                  Лишь пепел и зола. \\nТы подросла, \\n                  Замуж пора \\n                  И дай, Господь, \\n                  Тебе не знать, Все что я прошла. \\n                  Настал твой час женою стать:\\n                  Жених был здесь с утра! \\nЛеди Капулетти и Кормилица: \\n                  Грустно, но однако \\n                  Нам нельзя без брака, \\n                  Женский жребий наш \\n                  Нужно выйти замуж! \\nЛеди Капулетти: \\n                  А если повезет, \\nКормилица: \\n                  Любовь потом придет. \\nЛеди Капулетти: \\nПомни одно, \\n                  Мужчина сущий бес.\\n                  Им все равно \\n                  С любовью или без. \\n                  Нам суждено \\n                  Игрушкой быть мужчин \\n                  Но все равно \\n                  Мужчина властелин\\nКормилица: \\n                  Джульетта, слушай маму, \\n                  Она почти права, \\n                  Но только выйдешь замуж, \\n                  Забудь ее слова! \\nЛеди Капулетти: \\n                  У нас всегда есть средство \\n                  Мужчину удержать – \\n                  Коварство и кокетство, \\n                  И брачная кровать!  \\nВместе:\\nМужья – наша цель, \\n                  Мужья – наша боль. \\n                  Мужчина наш король,\\n                  Ему покорной быть изволь\\n                  Грустно, но однако, \\n                  Нам нельзя без брака \\n                  Женский жребий наш - \\n                  Нужно выйти замуж! \\n                  И даже день один - \\n                  Нельзя нам без мужчин \\n                  Мужья – наша цель, \\n                  Мужья – наша боль. \\n                  Ты подросла,теперь ты \\n                  Стать женою изволь! \\n                  Поверь моим словам \\n                  Потом \"Спасибо\" скажешь нам.\\n \\n                  Граф Капулетти\\nНадеюсь на балу увидеть вас\\nПарисКонечно, граф прибуду в должный час\\n\\nДиалог Леди Капулетти и Джульетты\\n\\n\\n\\nЛеди Капулетти:\\nДжульетта, я взволнованна: Парис просил твоей руки. Ты хочешь замуж?\\nДжульетта: Не знаю, мама, это так внезапно. Мне...кажется, что мне, наверное, рано. \\n                  Леди Капулетти:\\nУж лучше раньше, чем наоборот. Ну я спешу, меня твой папа ждет. \\n                  \\n\\n\\nДиалог Кормилицы и Джульетты:\\n\\n\\n\\nжульетта: Кормилица, ты слышала? \\nКормилица: \\nДай Бог!Давно пора! В твои года графиня, твоя мама, и замужем,и на сносях была! \\n                  И я уже секреты брака знала и муженька отлично ублажала.\\n                  Джульетта: Кормилица, ты замужем была? \\nКормилица: \\n                  Увы, не долго. Он внезапно умер. \\n                  Джульетта: А ты его любила? \\n                  Кормилица: Что за номер? Любовь и брак – различные дела! \\n                  Джульетта: Но я хочу любви!\\n                  Кормилица: Мы говорим о свадьбе. Любовь приходит позже…иногда. \\n                  Джульетта: Но я хочу сейчас и навсегда! \\n                  Кормилица: Наивное дитя, ой, мне б её года! \\n                  Джульетта: Где ты с ночи до рассвета!\\n                  Жду ответа где ты!\\n                  Где ты?С ночи до рассвета\\n                  Жду ответа где ты...\\n\\xa0\\nК списку песен\\n', '\\n\\xa0\\n\\n\\n\\n\\nКороли ночной Вероны\\n\\nМеркуцио:Ромео, Бенволио. Пошевеливайтесь. Догоняйте, черепахи! \\n                  Ромео:Мира законы очень просты - \\n                  Есть на земле короли и шуты. \\n                  Но почему так бывает порой, \\n                  Не разобраться кто шут, кто король. \\n                  Бенволио:Счастье не вечно, слава слепа, \\n                  А королей выбирает толпа. \\n                  Сильные мира вдали от земли \\n                  Не понимают, что мы короли. \\n                  Вместе и Хор:Короли ночной Вероны. \\n                  Нам не писаны законы. \\n                  Мы шальной удачи дети \\n                  Мы живём легко на свете. \\n                  В нашей жизни, то и дело, \\n                  Побеждает душу тело. \\n                   Но Господь за всё за это \\n                  Нас простит уже к рассвету \\n                  Короли ночной Вероны. \\n                  Нам не писаны законы. \\n                  Мы шальной удачи дети \\n                  Мы живём легко на свете. \\n                  В нашей жизни, то и дело, \\n                  Побеждает душу тело. \\n                   Но Господь за всё за это \\n                  Нас простит уже к рассвету \\n                  Меркуцио:Сильные мира судьбы вершат, \\n                  Только за нас ничего не решат. \\n                  Мы вызываем судьбу на дуэль. \\n                  Нам наплевать кто охотник, кто цель.  \\n                  Игры с судьбою смешны и пусты, \\n                  Мы за собою сжигаем мосты, \\n                  Вместе:Но неизменно во все времена – \\n                  Только любовь миром править должна! \\n                  Вместе и Хор:Короли ночной Вероны. \\n                  Нам не писаны законы. \\n                  Мы шальной удачи дети \\n                  Мы живём легко на свете. \\n                  В нашей жизни, то и дело, \\n                  Побеждает душу тело. \\n                  Но Господь за всё за это\\n                   Нас простит уже к рассвету\\n                  Короли ночной Вероны\\n                  Нам не писаны законы. \\n                  Мы шальной удачи дети \\n                  Мы живём легко на свете.\\n                   В нашей жизни, то и дело, \\n                  Побеждает душу тело. \\n                  Но Господь за всё за это \\n                  Нас простит уже к рассвету\\n                  Короли ночной Вероны.\\n                  Нам не писаны законы. \\n                  Мы шальной удачи дети \\n                  Легко живем на свете мы \\n                  В нашей жизни, то и дело, \\n                  Побеждает душу тело. \\n                  Но Господь за всё за это\\n                  Нас простит уже к рассвету \\n                  Меркуцио:Эй, Бенволио, малыш, покажи. Чему я тебя научил. Давай!! \\n                  Хор: Короли ночной Вероны. \\n                  Нам не писаны законы. \\n                  Мы шальной удачи дети \\n                  Мы живём легко на свете.\\n                  В нашей жизни, то и дело, \\n                  Побеждает душу тело. \\n                  Но Господь за всё за это \\n                  Нас простит уже к рассвету \\n\\n                  \\n\\nРазговор Меркуцио, Бенволио, Ромео\\n\\nМеркуцио:Друзья мои! Друзья мои! Для вас есть потрясающая новость. \\n                  Бенволио:Какая, Меркуцио? \\n                  Меркуцио: Не надейся, Бенволио, я не стану знакомить тебя с той красоткой! \\n                  Бенволио:Выкладывай скорей! \\n                  Ромео:    Прости, Меркуцио, мне не до новостей. \\n                  Бенволио:Опять хандрит! \\n                  Меркуцио:Бог с ним! Пойдем, Бенволио, поведаем другим!\\n\\n\\xa0\\nК списку песен\\n', '\\n\\xa0\\n\\n\\n\\nСудьба\\n\\n\\n\\nРомео:Когда бы знать, что завтра ждёт?\\n                  Как угадать событий ход? \\n                  Какой Судьба готовит бал? \\n                  Поминки или карнавал? \\n                  И тайный смысл угадать \\n                  Намёков, знаков и примет. \\n                  Что нам Судьба сулит понять \\n                  Вопросы есть, ответов нет… \\n                  Судьба, Судьба, \\n                  Добра ты или зла? \\n                  Палач или судья? \\n                  Что там в твоей Судьбе \\n                  Начертано тебе, \\n                  Скажи?! \\n                  Судьба, Судьба, \\n                  Судьба, Судьба \\n                  Добра ты или зла, скажи? \\n                  Палач или судья? \\n                  Что прячешь ты во тьме, \\n                  Известно лишь тебе. \\n                  Я знать хочу, зачем, друзья, \\n                  Судьба игру ведёт со мной? \\n                  Зачем всё время слышу я \\n                  Её дыханье за спиной? \\n                  Зачем Судьба внушает страх \\n                  Грозя отнять свои дары?   \\n                  Игрушки мы в её руках, \\n                  И предрешён исход игры! \\n                  Судьба, Судьба, \\n                  Добра ты или зла, \\n                  Палач или судья? \\n                  Что там в твоей Судьбе \\n                  Начертано тебе, \\n                  Скажи?! \\n                  Судьба, Судьба, Судьба, \\n                  Добра ты или зла, скажи \\n                  Палач или судья? \\n                  Что прячешь ты во тьме, \\n                  Известно лишь тебе \\n                  /музыка/\\nСудьбаДобра ты или зла, \\n                  Палач или судья \\n                  Судьба, Судьба \\n                  Добра ты или зла, \\n                  Палач или судья \\n                  Судьба, Судьба \\n\\n                  \\n\\n\\nРазговор Меркуцио, Ромео, Бенволио\\n\\n\\n\\nМеркуцио:Ромео! Ромео, хватит нагонять тоску! \\n                  Бенволио:Ромео, хватит нагонять тоску. Ммм…влюбленным меланхолия к лицу! \\n                  Меркуцио:Дают у Капулетти нынче бал! \\n                  Ромео:   А мы приглашены? \\n                  Меркуцио:Я лично приглашен! \\n                  Бенволио:А мне плевать, пойду без приглашенья! \\n                  Ромео:   Неловко как-то \\n                  Бенволио:Принимай решенье! \\n                  Ведь это класс – прийти к врагам на бал. \\n                  Меркуцио: Такого номера никто не вытворял! \\n                  \\n\\nБал (музыка)\\n\\xa0\\nК списку песен\\n', '\\n\\xa0\\n\\n\\nТы и я\\n\\n\\n\\nРомео: Я на чужом балу \\n                  Веселья не искал, \\n                  Но тебя вдруг увидал \\n                  Смолк шумный бал \\n                  Лишь мы одни средь зала \\n                  Джульетта:Одни среди толпы, \\n                  Лишь только я и ты, \\n                  Я и ты среди тишины, \\n                  Где слова не нужны, \\n                  Это ты, тот, о ком мечтала \\n                  Ромео:    Двое нас, лишь я и ты. \\n                  Нам встреча послана судьбою. \\n                  Джульетта:Двое нас, лишь я и ты, \\n                  Мы не расстанемся с тобою. \\n                  Ромео:     Совершенство красоты - это ты. \\n                  Джульетта: Воплощение мечты - это ты. \\n                  Вместе: Двое нас, лишь я и ты, \\n                  Нам помешать не в вашей власти. \\n                  Исполнение мечты - \\n                  Вот что значит счастье. \\n                  Ромео: Двое нас, лишь я и ты, \\n                  Нам встреча послана судьбою. \\n                  Джульетта: Двое нас, лишь я и ты, \\n                  Мы не расстанемся с тобою. \\n                  Ромео: Совершенство красоты - это ты. \\n                  Джульетта: Воплощение мечты - это ты. \\n                  Вместе: Двое нас, лишь я и ты, \\n                  Нам помешать не в вашей власти. \\n                  Исполнение мечты - \\n                  Вот что значит счастье.\\n\\nПродолжение бала\\n\\n\\nМеркуцио:Принимай гостей. Тибальт! Нас тут много! Ну что, Тибальт, пойдем, выпьем на брудершафт?! \\n                  Тибальт: Пришел на бал? Танцуй! \\n\\nБольше грации! Где твоя \\nграция?!\\n\\n                  \\n\\xa0\\nК списку песен\\n', '\\n\\xa0\\n\\n\\nМаска Мести\\n\\n\\nКрики на улице:  Тибальт! Тибальт!Тибальт!!!\\nТибальт: Я был для всех чужак, \\n                  Всегда один. \\n                  Семья решила так: \\n                  «Будь гордым, сын! \\n                  Ты одинокий волк \\n                  Среди овец, \\n                  Тебе не слышна боль \\n                  Чужих сердец» \\n                  У всех вокруг друзья \\n                  Плечо к плечу, \\n                  Лишь я один и я \\n                  Вам по счетам плачу! \\n                  Плачу своей судьбой \\n                  И точно в срок, \\n                  Мне жить одной войной \\n                  Назначил Бог! \\n                  Месть – мое право, \\n                  Месть – моя правда! \\n                  Маска мести, маска мести – \\n                  Мне не сорвать тебя с лица – \\n                  Знак палача и подлеца! \\n                  Дело чести, дело чести. \\n                  Вы все решили за меня – \\n                  Мою судьбу, моя родня. \\n                  Маска мести, \\n                  Я только меч в руках семьи, \\n                  Дело чести, \\n                  Так приказали мне они. \\n                  О, будь ты проклята, судьба, \\n                  Мести раба! \\n                  О-о-о-о-о! \\n                  Маска мести, \\n                  Маска мести, \\n                  Знать, что твой вид внушает страх,\\n                  Дело чести, \\n                  Что жизнь и смерть в твоих руках \\n                  И я навеки обречен \\n                  Быть судьей и палачом! \\n                  Я не люблю толпу, \\n                  Какой в ней толк? \\n                  Толпа – союз тупых, \\n                  Я одинокий волк! \\n                  Придумать так легко \\n                  Святую ложь, \\n                  Но только в горле ком, \\n                  А в сердце нож.\\n\\n                  \\n\\xa0\\nК списку песен\\n', '\\n\\xa0\\n\\n\\nБалкон\\n\\n\\n\\nДжульетта:В одной небесной книге, \\n                  Что пишут звездами боги, \\n                  В главе «Любовь», наверно, \\n                  Строка про нас с Ромео. \\n                  Есть в той небесной книге, \\n                  Что пишут звездами боги, \\n                  Цена разлук и боли – \\n                  Расплата за любовь, \\n                  Соединило небо \\n                  Джульетту и Ромео \\n                  Как сладок плод запретный – \\n                  Ромео и Джульетты. \\n                  Ромео:В другой небесной книге, \\n                  Где козни, лож, интриги, \\n                  В главе «Вражда», как странно, \\n                  Гербы двух наших кланов. \\n                  Готов богам молиться, \\n                  С врагом готов сразиться,\\n                  Чтоб нам соединиться \\n                  В объятиях любви \\n                  Вместе:Перевернем страницу, \\n                  Ту, где вражды граница, \\n                  И повторять мы будем \\n                  Главу «Любовь» покуда. \\n                  Джульетта: Ведь в этой главной главе \\n                  Ромео: Все обо мне и тебе! \\n                  Вместе:Пусть в той небесной книге, \\n                  Что пишут звездами боги, \\n                  Слова не канут в Лету, \\n                  Ромео плюс Джульетта. \\n                  Соединило небо \\n                  Джульетту и Ромео. \\n                  Прекрасней нет сюжета, \\n                  Ромео плюс Джульетта. \\n\\n                  \\n\\nДиалог Ромео и Джульетты\\n\\n\\nДжульетта:Неужто я и вправду влюблена \\n                  И эту страсть мою зовут Монтекки? \\n                  Ромео: Давай забудем наши имена,\\n                  Останемся наедине с любовью? \\n                  Джульетта: Моя любовь,Ромео, так сильна, \\n                  Что с ней наедине сойду с ума.\\n                  Не покидай меня! \\n                  Ромео: Я сам хочу остаться! \\n                  Сегодня, завтра…навсегда! \\n                  Ведь это доказательство любви?\\n                  Тебе другие доводы нужны? \\n                  Джульетта: Не знаю, Ромео, я не знаю… \\n                  Стань мужем мне. Женою назови. \\n                  Брак – главное свидетельство любви. \\n                  Ромео: Согласен! Я согласен! \\n                  Джульетта: Нет,постой! Возьми вот эту розу. \\n                  Вернешь, когда назначишь срок венчанья. \\n                  Ромео:Я поспешу! \\n                  Джульетта:Я буду ждать Ромео, ведь роза быстро вянет. \\n                  Уходи скорее, нас могут заметить.. \\n                  И помни, что роза быстро вянет \\n                  Ромео:Люблю тебя!\\n\\nРазговор Ромео и отца Лоренцо\\n\\nРомео:Отец Лоренцо, Вы мой духовник, посредник верный между мной и Богом, я полюбил! \\n                  Лоренцо:Опять любовь? \\n                  Ромео: Люблю как никогда! \\n                  Лоренцо: Грех этот невелик. \\n                  Ромео:Её зовут Джульетта… \\n                  Лоренцо: Любая из Джульетт тебя достойна. \\n                  Ромео: Нет, есть одна Джульетта, Капулетти. \\n                  Лоренцо: Капулетти? Ромео! Сын мой! Неужто ты не понимаешь, какие силы зла поступком этим ты к мести призываешь?\\n                  Такой союз опасней. чем чума!\\n                  Ромео:Как знать! Быть может к нам любовь пришла, чтоб доказать, что распри зря терзают наши семьи! \\n                  Лоренцо: Сын мой! Быть может, ты и прав! Безумие порой сильней, чем разум. И это небо посылает знак, чтоб Ваш союз  войну закончил разом. Я обвенчаю Вас. \\n                  Ромео: Спасибо, брат Лоренцо! \\n                  Лоренцо: Не надо благодарности, сынок! \\n\\nЛюби Джульетту, и храни Вас Бог! \\n\\xa0\\nК списку песен\\n', '\\n\\xa0\\n\\n\\nРазговор \\nРомео, Меркуцио и Бенволио\\n\\n\\nБенволио: Ромео! Ромео! \\n                  Ромео:Я здесь, Бенволио! \\n                  Бенволио: Тебя все время ищут. \\n                  Меркуцио: И даже мы, ближайшие друзья. \\n                  Ромео: Я обо всем вам расскажу потом, пока нельзя. \\n                  Меркуцио: О да! Мы будем ждать и с нетерпеньем \\n                  Историю о новом приключении. \\n                  От зависти схожу с ума! \\n                  Открой секрет успеха! \\n                  Рассказ не может быть помехой. \\n                  Он иногда занятнее любви, Ромео!\\n                  \\n\\nРазговор Бенволио и Кормилицы\\n\\n\\nБенволио: О! Вы посмотрите,кто пришел! \\n                  А что здесь потеряла Капулетти? \\n                  Кормилица: Ищу Ромео я. \\n                  Бенволио: Ну вот, еще одна. Стремительно растет его цена! \\n                  Кормилица: Что Вы делаете?! Отпустите меня, уроды!\\n\\nКрасавцы и уроды \\n\\n\\n\\nКормилица: Ха-ха-ха, мамкины сынки! \\n                  Ха-ха-ха, вы ещё щенки! \\n                  И ваш наглый вид \\n                  Прикрывает стыд, \\n                  Что душа болит без любви.\\n                  Ха-ха-ха, этот балаган - \\n                  На денёк другой закрутить роман, \\n                  Не узнать как звать, \\n                  Затащить в кровать\\n                  Для пустых утех \\n                  На глазах у всех - \\n                  Это смех и грех! \\n                  Бенволио: Ха-ха-ха, слушать этот бред - \\n                  Ха-ха-ха, старых шлюх совет, \\n                  Те, что знали всё, \\n                  Да забыли как, \\n                  И в базарный день \\n                  Всем цена пятак. \\n                  Просто смех и грех! \\n                  Вместе и Хор: Будь ты красавица, \\n                  Будь ты уродина, \\n                  Грешим мы все и молимся, \\n                  Нам хочется и колется. \\n                  Мы вам не нравимся,\\n                  Нам всё без разницы, \\n                  Урод, или красавица,\\n                  Урод или красавица. \\n                  Кормилица: Ха-ха-ха, ты красавец, но \\n                  Красота твоя - маска Домино, \\n                  А под маской той, \\n                  Прячется урод,\\n                  Что в любовь плюёт, \\n                  С высока плюёт, \\n                  Хохоча плюёт!\\n                  МеркуциоА-ха-ха, боже, как смешно, \\n                  Ха-ха-ха, мы уроды, но \\n                  Все мы врём в любви, \\n                  Каждый день и час, \\n                  Дурим мы девиц \\n                  Девки дурят нас, \\n                  Все уроды мы. \\n                  Вместе и Хор:Будь ты красавица, \\n                  Будь ты уродина, \\n                  Грешим мы все и молимся, \\n                  Нам хочется и колется. \\n                  Всё, шутки в сторону, \\n                  Всем дайте поровну. \\n                  Любовь - ведь ей без разницы, \\n                  Урод или красавица.\\n\\nДиалог Меркуцио, Бенволио и Кормилицы \\n\\n\\nКормилица:Меркуцио! Меркуцио! Меркуцио!\\n                  Меркуцио: ДА! \\n                  Кормилица: Так где же ваш Ромео, мне нужен он. \\n                  Меркуцио:Кормилица, ты сильно опаздала - Ромео вырос, молоко давно не пьет, хоть иногда к груди и припадает… \\n                  Так что такого важного стряслось, что Капулетти заявилась к нам, разыскивая нашего Ромео? \\n                  Бенволио: Спешу привлечь всеобщее вниманье – Ромео здесь, он наконец нашелся! \\n                  Но кто мне может объяснить, зачем мадам Кормилице Ромео?\\n\\n                  \\n\\nРазговор Ромео и Кормилицы\\n\\nРомео: Бенволио, Меркуцио,оставьте нас вдвоем! Я обо всем вам расскажу потом. \\n                  Кормилица: Скажи, Ромео, ты Джульетту правда, любишь? \\n                  Ромео: Да, люблю. \\n                  Кормилица: Что делать нам? Час от часу не легче?! \\n                  Ромео:Возьми вот эту розу, отдай её Джульетте, скажи, я буду ждать её в монастыре. \\n                  Лоренцо нас сегодня обвенчает! \\n                  Кормилица: Ну если Вам Лоренцо помогает, то и Господь на вашей стороне\\n\\n\\xa0\\nК списку песен\\n', '\\n\\xa0\\n\\n\\nДва крыла любви \\n\\n\\n\\nКормилица:Девочка моя, \\n                  Пусть мы разных кровей, \\n                  Кровное дитя \\n                  Нельзя любить сильней. \\n                  Еще вчера спала \\n                  Ты на моей груди, \\n                  И вот ты подросла, \\n                  Пришла пора любви, \\n                  О, Господь, пощади! \\n                  Два крыла любви \\n                  Подари ей, небо, \\n                  Два крыла любви, \\n                  Пусть уйдут все беды,\\n                  Два белых крыла, \\n                  Чтоб взлететь ты могла,\\n                  Взлететь и не ведать боль, \\n                  О, Господь, защити любовь! \\n                  Два крыла любви \\n                  Подари, Господь, \\n                  Два крыла любви! \\n                  Я сама была \\n                  Так наивна, как ты \\n                  И себе лгала \\n                  Про любовь и мечты, \\n                  Но у судьбы другой расчет, \\n                  И она нас больно бьет, \\n                  Только от её обид \\n                  Пусть тебя хранит \\n                  И господь защитит!\\n                  Два крыла любви \\n                  Подари ей, небо, \\n                  Два крыла любви, \\n                  Пусть уйдут все беды, \\n                  И взлететь над землей, \\n                  Над коварной родней, \\n                  Где царит закон «кровь за кровь», \\n                  О, Господь, защитит любовь!\\n                  Два крыла любви \\n                  Подари ее, небо, \\n                  Два крыла любви, \\n                  Пусть уйдут все беды, \\n                  Два белых крыла, \\n                  Чтоб парить ты могла, \\n                  Парить и не ведать боль, \\n                  О, Господь, защити любовь!\\n                  Два крыла любви, \\n                  Подари, Господь, \\n                  Два крыла любви, \\n                  Защити любовь! \\n                  \\n\\nДиалог Джульетты и Кормилицы\\n\\nДжульетта: Няня, что он сказал тебе? \\n                  Кормилица: Кто он? \\n                  Джульетта: Ромео! \\n                  Кормилица: Что мне сказал Ромео? \\n                  Постой, дай вспомнить. \\n                  Постарела я, наверно, \\n                  Все время теряю мысли нить! \\n                  Джульетта: Ах, няня, перестань меня дразнить! \\n                  Меня он любит или… \\n                  Кормилица:Или… тили-тили тесто, жених и невеста! \\n                  Да любит, любит он тебя! \\n                  Как можно не любить мое прелесное дитя!? \\n                  Лоренцо обвенчать берется Вас. \\n                  Джульетта: Спасибо, няня! \\n                  Кормилица: Ну, с Богом! \\n\\xa0\\nК списку песен\\n', '\\n\\xa0\\n\\n\\nБлагословение\\n\\n\\nРомео: Тайной любовь сокрыта. \\n                  Ангел сердец разбитых, \\n                  Дай нам, \\n                  Во имя всех влюбленных, \\n                  Свою защиту. \\n                  Джульетта: Боже, в твоей мы власти. \\n                  Можно ль бежать от страсти? \\n                  Дай нам, \\n                  Во имя всех влюбленных, \\n                  Немного счастья. \\n                  Вместе Имя \\n                  Что значит имя \\n                  В этом \\n                  Безумном мире \\n                  Разве \\n                  Мы согрешили, \\n                  Если \\n                  Мы полюбили? \\n                  Хор Тайной \\n                  Любовь сокрыта \\n                  Ангел \\n                  Сердец разбитых, \\n                  Дай нам, \\n                  Во имя всех влюбленных, \\n                  Свою защиту. \\n                  Имя. \\n                  Что значит имя \\n                  В этом \\n                  Безумном мире? \\n                  Разве \\n                  Мы согрешили, \\n                  Если \\n                  Мы полюбили? \\n                  Время,\\n                  Продли мгновенье! \\n                  Джульетта:Мгновенье продли! \\n                  Хор Только \\n                  В любви спасенье. \\n                  Джульетта:Спасенье в любви! \\n                  Хор Дай им, \\n                  Во имя всех влюбленных, \\n                  Благословенье! \\n                  Боже, \\n                  Продли мгновенье! \\n                  Ромео:Мгновенье продли! \\n                  Хор Только \\n                  В любви спасенье! Ромео:\\nСпасенье в любви! Вместе и Хор\\nДай нам, \\n                  Во имя всех влюбленных, \\n                  Благословенье, \\n                  Боже! \\n\\n                  \\n\\xa0\\nК списку песен\\n', '\\n\\xa0\\n\\n\\n\\nЛюди говорят\\n\\n\\nМеркуцио: Люди говорят, \\n                  Сын Монтекки предал род \\n                  И честь ему назад \\n                  Лишь только смерть вернет. \\n                  Бенволио:Люди говорят, \\n                  Чтобы честь себе вернуть,\\n                   Он должен в этот сад \\n                  Забыть на веки путь. \\n                  Меркуцио и Бенволио:\\nНе искушай судьбу,\\n                   Нарвешься на кинжал, \\n                  Не нарушай табу,\\n                   наче ты пропал. \\n                  Меркуцио и Бенволио:\\nТы нас предал! \\n                  Ромео: \\nЯ вам как прежде брат! \\n                  Меркуцио и Бенволио:\\nТы нас предал! \\n                  Ромео: \\nЯ ни в чем не виноват! \\n                  Меркуцио и Бенволио:\\nТы нас предал! \\n                  Ромео: \\nЯ понять меня молю! \\n                  Меркуцио и Бенволио: \\nТы нас предал! \\n                  Ромео:\\nЯ не предал, я люблю! \\n                  Меркуцио и Бенволио:\\nТы нас предал! \\n                  Ромео: У любви свои права! \\n                  Меркуцио и Бенволио:Ты нас предал! \\n                  Ромео:Но она всегда права! \\n                  Меркуцио и Бенволио: \\nТы нас предал! \\n                  Ромео: Я понять меня молю! \\n                  Меркуцио и Бенволио:\\nТы нас предал! \\n                  Ромео:Я не предал, я люблю! \\n                  Меркуцио:Люди говорят,\\n                   Что разлил ты мести яд.\\n                  Тропинка в этот сад\\n                   Ведет Ромео в ад. \\n                  Бенволио:Люди говорят,\\n                   Брат Джульетты вне себя, \\n                  Клянется всем подряд, \\n                  Что он убьет тебя.\\n                  Меркуцио и Бенволио:\\nНе искушай судьбу,\\n                   Нарвешься на кинжал, \\n                  Не нарушай табу,\\n                   Иначе ты пропал. \\n                  Меркуцио и Бенволио:Ты нас предал! \\n                  Ромео: Что могу сказать в ответ? \\n                  Меркуцио и Бенволио: Ты нас предал! \\n                  Ромео:Мы ведь вместе столько лет! \\n                  Меркуцио и Бенволио:Ты нас предал! \\n                  Ромео:Я свободен был как вы                             \\n                  Меркуцио и Бенволио:Ты нас предал! \\n                  Ромео: Стал я жертвою молвы \\n                  Меркуцио и Бенволио:Ты нас предал! \\n                  Ромео:Как и прежде мы друзья \\n                  Меркуцио и Бенволио:Ты нас предал! \\n                  Ромео:Мне один Господь судья \\n                  Меркуцио и Бенволио:Ты нас предал! \\n                  Ромео:Мне помочь нельзя, увы \\n                  Меркуцио и Бенволио:Ты нас предал! \\n                  Ромео: Это просто перст судьбы!\\n                 Меркуцио и Бенволио:Найти любовь в семье врагов,\\n                  Ромео: То дар Судьбы, то дар Богов!  \\n                  Меркуцио и Бенволио: Девиц полно, а жизнь одна,\\n                  Ромео:Но мне нужна она одна! \\n                  Меркуцио и Бенволио:Бери любую хоть сейчас, \\n                  Ромео:Нет, нет, нет!                              \\n                  Меркуцио и Бенволио:Ты предал нас,\\n                  Ты предал нас! \\n                  Ромео: Я раб любви,\\n                  Нет мне судьи.\\n                  То, дар Судьбы! \\n                  Меркуцио и Бенволио:Ты нас предал! \\n                  Ромео:Посмотрите на себя! \\n                  Меркуцио и Бенволио:Ты нас предал! \\n                  Ромео:Вы ревнуете друзья!\\n                  Меркуцио и Бенволио:Ты нас предал! \\n                  Ромео:Что любовь я смог познать,\\n                  Меркуцио и Бенволио:Ты нас предал! \\n                  Ромео: Хватит друга обвинять!\\n                  Меркуцио и Бенволио:Ты нас предал! \\n                  Ромео:Были мы совсем детьми, \\n                  Меркуцио и Бенволио:Ты нас предал! \\n                  Ромео:И мечтали о любви\\n                  Меркуцио и Бенволио:Ты нас предал! \\n                  Ромео:Мы молились по ночам,\\n                  Меркуцио и Бенволио:Ты нас предал! \\n                  Ромео: Чтоб любовь явилась к нам\\n                  Меркуцио и Бенволио:Ты нас предал! \\n                  Ромео:Если к вам Она придет, \\n                  Меркуцио и Бенволио:Ты нас предал! \\n                  Ромео:Вы поймете, кто был прав, \\n                  Меркуцио и Бенволио:Ты нас предал! \\n                  Ромео:Там любовь, где нет господ!\\n                  Меркуцио и Бенволио:Ты нас предал! \\n                  Ромео: Я ее послушный раб!!\\n                  Меркуцио и Бенволио:Ты нас предал! \\n                  Ромео:Нет! Я не виновен!  \\n                  Меркуцио и Бенволио:Ты нас предал! \\n                  Ромео:За любовь нельзя судить,\\n                  Любить! Любить!\\n                  Меркуцио и Бенволио:Ты нас предал! \\n                  Ромео:Это счастье!\\n                  Меркуцио и Бенволио:Ты нас предал!\\n                  Ты нас предал!\\n                  Ты нас предал! \\n                  Ромео: Это счастье!\\n                  Меркуцио и Бенволио:Ты нас предал!\\n                  Ты нас предал!\\n                  Ты нас предал! \\n                  Ты нас предал! \\n\\xa0\\nК списку песен\\n', '\\n\\xa0\\n\\n\\n\\nПробил час\\n\\n\\nТибальт: Сестра и брат – \\n                  Запретный плод,\\n                  Он тем и сладок,\\n                  Что недостижим.\\n                  Каких страстей водоворот:\\n                  От ревности горю, \\n                  А ей другой любим!\\n                  Вокруг полно,\\n                  Девиц и дам, \\n                  Что влезть в постель\\n                  Готовы к вам.\\n                  Но только та, \\n                  Что мне сестра,\\n                  Моя мечта - \\n                  Кровосмесительная страсть.\\n                  Джульетта, боже мой, \\n                  Зачем избранник твой \\n                  Сын нашего врага? \\n                  Ромео, сын Монтекки.\\n                  Пробил час, пробил час, \\nПробил час, пробил час! \\n                  Ромео, сын Монтекки,\\n                  Твой час уснуть навеки!\\n                  Я прокурор, мой приговор:\\n                  Он гнусный вор.\\n                  И смоет позор\\n                  Только смерть подлеца! \\n                  Любовь - тюрьма,\\n                  Я узник в ней, \\n                  Хранить мне тайну\\n                  До моих последних дней.\\n                  В любви своей признаться \\n                  Закон мне не велит, \\n                  Как кровь во мне кипит,\\n                  Сегодня будем драться. \\n                  Пробил час, пробил час, \\nПробил час, пробил час! \\n                  Сжигает ревность сердце, \\n                  Мой враг достоин смерти! \\n                  Я прокурор, мой приговор:\\n                  Сдохнешь, как вор, \\n                  И смоет позор \\n                  Смерть подлеца! \\n                  Тибальт:Ревность сжигает! \\n                  Хор: Пробил час!\\n                  Тибальт:Все горит внутри!\\n                  Хор: Пробил час! \\n                  Тибальт:Назад дороги нет,\\n                  Хор: Пробил час!\\n                  Тибальт:И нет пути впереди!\\n                  Где ты, подлец Ромео, \\n                  Я жду тебя, Ромео. \\n                  Я жду тебя, Ромео.\\n                  Я жду тебя, Ромео.\\n                  Я жду тебя.\\n                  Я жду тебя,\\n                   Отомстить за любовь!!! \\n\\xa0\\nК списку песен\\n', '\\n\\xa0\\n\\n\\n\\nДуэль\\n\\n\\nМеркуцио:\\nСмотрите, кто пришел! \\nТибальт, вот это встреча! \\n                  Какой нелепый ветер так Ваши паруса надул, что они вот-вот лопнут? \\n                  Тибальт:Собаки нагло тявкают, когда хозяин\\nрядом. Где Ромео? Я ищу его!\\nМеркуцио: Тибальт известный сыщик, он вечно что-то ищет: вчерашний \\nдень иль прошлогодний снег, а нынче в морду на глазах у всех!\\n                  Тибальт: Ромео передай, мне нужен он!\\n                  Меркуцио:Ромео то тебе зачем?\\n                  Тибальт: Не бойся, я его не съем!\\n                  Меркуцио:Подавишься! \\n                  \\n                  \\n\\nТибальт,Тибальт, я твоя смерть \\n                  Мне на тебя тошно смотреть. \\n                  Голос, походка и прикид... \\n                  Сегодня ты будешь убит! \\n                  Пижон без извилин,с душонкой калеки! \\n                  Пришел твой час уснуть навеки. \\n                  Слышишь, Тибальт! \\n                  Я - твоя смерть! \\n                  Тибальт: Эй, болтун, ты уже труп! \\n                  Пусть я пижон,а ты просто глуп! \\n                  Как ты смешон, автор плоских острот! \\n                  Ты бездарный поэт, пустой рифмоплет! \\n                  Убогий паяц, сопливый щенок! \\n                  Последний абзац допишет клинок. \\n                  Слышишь, парень, ты уже труп! \\n                  Ромео: Господа, Сатана вас рассудка лишил! \\n                  Лучше мир чем война! \\n                  Нас Господь сотворил для любви! \\n                  Хор:Жизнь надо прожить, \\n                  Наши клинки в ножны, не в плоть. \\n                  Жизнь остановить в праве ее только Господь. \\n                  Жизнь остановить в праве ее только Господь. \\n                  Ромео:Довольно, Тибальт, нам враждовать \\n                  Спрячь кинжал, закатим бал \\n                  Спор заменим пиром, \\n                  Смерть заменим миром! \\n                  Хор:Смерть, разве она праведный суд может вершить?! \\n                  Смерть тем и страшна, что может всех усыновить! \\n                  Ромео: Не сходите с ума - смерть придет к вам сама! \\n                  Срок жизни очень мал! \\n                  Господь нас создал, \\n                  Дал разум и плоть для счастья! \\n                  Господь! \\n                  Хор: Жизнь только для счастья, \\nЖизнь лишь для любви! \\n                  Меркуцио: Ромео, поверь, он просто зверь! \\n                  Примирит нас только смерть, \\n                  Только смерть рассудит нас \\n                  Немедля здесь и сейчас! \\n                  Тибальт: Слушай святой, трусливый герой \\n                  Тебе ли на до мной быть судьей? \\n                  Ступай-ка в монастырь, сутану напяль! \\n                  Там проповедуй мир, здесь правит сталь! \\n                  Ромео: Жизнь только для счастья, \\n                  Жизнь, лишь для любви! \\n                  Хор: Жизнь надо прожить, \\nвставив клинки в ножны, \\nНе в плоть! \\n                  Жизнь остановить вправе её только Господь. \\n                  Жить, жить, жить... \\n                  \\xa0\\n\\nТибальт: Куда ты лезешь? \\n                  Куда ты лезешь Меркуцио? \\n                  Это не твое дело \\n                  Вот ваш герой \\n                  Вставай! Ха-ха-ха! \\n                  Ромео: Меркуцио, Меркуцио! \\n                  Меркуцио: Ромео, что с тобой? Такой нелепый вид... \\n                  Ромео: Ты ранен? \\n                  Меркуцио: Нет, нет, не ранен я... убит! \\n                  Тибальт:Ты следующий... \\n                  Меркуцио:\\nКогда б ты между нами неловко так не встрял, \\n                  То я б не пропустил предательский кинжал... \\n                  Ромео: Прости! \\n                  Меркуцио: Уже простил... \\n                  Ромео: Ты ранен, всюду кровь... \\n\\xa0\\nК списку песен\\n', '\\n\\xa0\\n\\n\\n\\nСмерть Меркуцио\\n\\n\\nМеркуцио:Я просто ухожу... \\n                  И на твою любовь я издали гляжу - \\n                  Джульетту береги, любовь ее храни \\n                  Я женщин знал других, но так любить они \\n                  Ромео, поверь мне, не могли \\n                  Прощай, мой верный друг \\n                  Прощай и прости. \\n                  Смерть рыщет вокруг, \\n                  Уйди с ее пути... \\n                  Ты не похож на всех, \\n                  Господь тебя храни \\n                  Не любят люди тех, \\n                  Кто лучше чем они \\n                  Из-за чумной вражды \\n                  Двух проклятых родов \\n                  Мы умирать должны, \\n                  Мы проливаем кровь, \\n                  Пусть лучше им чума \\n                  Опустошит дома... \\n                  Беду встречать бедой - \\n                  Несчастный жребий твой... \\n                  РомеоНет! Меркуцио!\\n                  Ты был мне как брат,\\n                  Больше чем брат,\\n                  Меркуцио!\\n                  Жизнь горше, чем яд,\\n                  Глубже, чем ад!\\n                  Ты был мне как брат,\\n                  Больше чем брат,\\n                  Меркуцио!\\n                  \\n                  \\n\\nТибальт!\\n\\xa0\\nК списку песен\\n', '\\n\\xa0\\n\\n\\n\\nКто виноват? \\n\\n\\n\\nЛеди КапулеттиТибальт! Тибальт! Мальчик мой! Сынок!\\n                  А ты, мой муж, где был, пока они росли?\\n                  Ты бражничал, проигрывал пари,\\n                  Других любовью наслаждался,\\n                  Пока Тибальт за честь семьи сражался!\\n                  Тибальт убит! Он был мне вместо сына.\\n                  Иди и отомсти, коль ты еще мужчина!\\n                  Граф КапулеттиЗаткнись!\\n                  \\n\\n\\n                  Кто виноват,\\n                  Чашу мести выпьет до дна!\\n                  Кто виноват, \\n                  Эту смерть оплатит сполна! \\n                  Леди МонтеккиКто виноват?\\n                  Ваш Тибальт и сам убивал,\\n                  Кто виноват,\\n                  Что теперь сражен наповал? \\n                  ПринцСмерть с двух сторон,\\n                  Вашим горем я удручен,\\n                  Но есть закон - \\n                  Право власти!\\n                  Леди МонтеккиРозалина, где Ромео?\\n                  Ромео Мертв Тибальт, причина в том - \\n                  Кровь Меркуцио на нем.\\n                  Жизни их не вернуть назад,\\n                  Виновен я, не виноват!\\n                  Виновны мы вместе -\\n                  Заложники мести.\\n                  Леди МонтеккиРомео! Сын мой, Ромео!\\n                  РомеоВ угоду ей отец и мать\\n                  Ромео и Бенволио\\n                  Нас обучили убивать.\\n                  РомеоНауке этой я не рад\\n                  Виновен я, не виноват!\\n                  Я лишь в одном виновен,\\n                  Что мы родня по крови.\\n                  Леди Капулетти\\n                  Ты лжешь! Ты лжешь щенок! \\n                  ВместеКто виноват,\\n                  Чашу мести выпьет до дна!\\n                  Граф КапулеттиКто виноват.\\n                  ВместеКто виноват,\\n                  Эту смерть оплатит сполна!\\n                  Леди Монтекки, Леди Капулетти, Кормилица\\nКто виноват.\\n                  ВместеКто виноват,\\n                  Чашу мести выпьет до дна!\\n                  Принц\\n Я здесь закон!\\n                  ВместеКто виноват\\n                  Эту смерть оплатит сполна!\\n                  ПринцЯ здесь закон,\\n                  Вашим горем я удручен,\\n                  Смерть с двух сторон\\n                  Кровной мести выбор!\\n                  ПринцРомео, за поступок беззаконный \\n                  Немедля будет изгнан из Вероны!\\n                  А если он не выполнит приказ,\\n                  То будет предан смерти\\n                  Леди МонтеккиНет!\\n                  ПринцВ тот же час!\\n                  Кто я? Ваш принц? \\n                  Пастух взбесившегося стада!\\n                  Толпы безумцев глупых!\\n                  Пошли все вон!\\n                  Леди МонтеккиПощади!\\n                  ПринцИ уберите трупы!\\n                  Леди МонтеккиО небо, я теряю сына.\\n                  Ромео, мой единственный, Ромео.\\n                  РомеоЯ изгнан из Вероны! Я изгой!\\n                  Джульетта, ангел мой, мне не прожить в разлуке.\\n                  Леди МонтеккиЗа грех какой на муки \\n                  Ты, небо, обрекаешь матерей,\\n                  Уходит жизнь с потерею детей!\\n                  РомеоПрощайте, матушка, я здесь ни ко двору.\\n                  В изгнанье, в одиночестве умру!\\n                  Леди МонтеккиПрощай, мой сын. Я без тебя умру.\\n\\xa0\\nК списку песен\\n', '\\n\\xa0\\n\\n\\n\\nБог, почему?\\n\\n\\nЛоренцоНаш принц тебя изгнал,\\n                  Спас жизнь тебе, сынок.\\n                  Кто прав, а кто неправ\\n                  Рассудит только Бог.\\n                  Где месть у жителей в крови,\\n                  Нет места для любви.\\n                  Лоренцо, Бенволио, Граф Капулетти\\nБог, почему\\n                  Война для мужчин\\n                  Любви слаще?\\n                  Бог, почему одним\\n                  Нам суждено терпеть,\\n                  Пока другие ищут смерть?\\n                  Бог, зачем смеешься над людьми,\\n                  Зачем нам жизнь, где нет любви, \\n                  Одна война, всегда война!\\n                  Кормилица Ну вот, Тибальт убит,\\n                  Убил Ромео твой.\\n                  Судьба вам не велит\\n                  Стать мужем и женой.\\n                  Печален наш удел земной - \\n                  Невесте быть вдовой.\\n                  Кормилица, Леди Капулетти, Леди Монтекки\\nБог, почему\\n                  Война для мужчин\\n                  Любви слаще?\\n                  Бог, почему одним\\n                  Нам суждено терпеть,\\n                  Пока другие ищут смерть?\\n                  Бог, зачем смеешься над людьми?\\n                  Зачем нам жизнь, где нет любви, \\n                  Одна война, всегда война!\\n                  ВместеБог, почему\\n                  Война для мужчин\\n                  Любви слаще?\\n                  Бог, почему одним\\n                  Нам суждено терпеть,\\n                  Пока другие ищут смерть?\\n                  Бог, зачем смеешься над людьми,\\n                  Зачем нам жизнь, где нет любви, \\n                  Одна война, всегда война!\\n                  ВместеБог, почему \\n                  Война для мужчин \\n                  Любви слаще?\\n                  Бог, почему одним \\n                  Нам суждено терпеть,\\n                  Пока другие ищут смерть? \\n                  Бог, зачем смеешься над людьми,\\n                  Зачем нам жизнь, где нет любви, \\n                  Одна война, всегда война!\\n                  Бог.\\xa0\\nК списку песен\\n', '\\n\\xa0\\n\\n\\nУтро\\n\\n\\nРомеоУтро, утро,\\n                  Я слышу птичьи трели.\\n                  Они зарю пропели.\\n                  Настал разлуки час.\\n                  ДжульеттаОбними меня сильней\\n                  То соловей, сын ночи\\n                  Нас разлучать с тобой не хочет,\\n                  Он страж любви моей.\\n                  И на часы \\n                  Взять у зари\\n                  ВместеЧас для любви.\\n\\xa0\\nК списку песен\\n', '\\n\\xa0\\n\\n\\nВласть\\n\\n\\nПринцЧто есть власть - \\n                  Сладкий яд. \\n                  Его пьянящий аромат \\n                  Вдохнешь однажды,\\n                  И нет пути назад. \\n                  Что есть власть?\\n                  Что есть власть?\\n                  Что есть власть?\\n                  Это честь или напасть? \\n                  Райский сад \\n                  Иль темный лес, \\n                  Сладкий яд \\n                  Иль тяжкий крест, \\n                  Сущий ад\\n                  Иль дар небес! \\n                  Все сокровища земли,\\n                  Все признания любви,\\n                  Жар объятий страстных жен,\\n                  Аромат заморских вин - \\n                  Все отдашь за миг один \\n                  Воцарения на трон,\\n                  Где в руках твоих закон. \\n                  Беспределен власти пир,\\n                  Власти яд - ты всех слаще!\\n                  Власть - вершить верховный суд. \\n                  Черным - белое назвать. \\n                  Осудить мораль как блуд, \\n                  Превратить святых в иуд, \\n                  Всё местами поменять. \\n                  И карать невинный люд,\\n                  Одарить иль наказать,\\n                  Иль прощенье даровать! \\n                  Власть - быть с вечностью на «ты», \\n                  Верить в свой высокий дар.\\n                  И под возгласы толпы\\n                  Пить божественный нектар \\n                  Незаслуженной любви\\n                  Недостойных стать людьми.\\n                  Смертных отправлять на смерть \\n                  Может только власть суметь!\\n                  Власть - факир, она творит \\n                  С нами тысячи чудес. \\n                  Власть тебя преобразит.\\n                  Власть - и чистым стал подлец.  \\n                  Власть - стал мудрецом балбес. \\n                  Власть - и в вас вселился бес.\\n                  Ею век не будешь сыт, \\n                  Как удав она вас съест.\\n                  Пусть она несет беду \\n                  Вашим близким и друзьям,\\n                  И терзаться век в аду \\n                  Предстоит за это вам. \\n                  И в горячечном бреду \\n                  Добровольно не отдашь\\n                  Ты свой царственный венец.\\n                  Власти нет - и ты мертвец.\\n                  Что есть Власть? \\n\\xa0\\nК списку песен\\n', '\\n\\xa0\\n\\n\\nПрощание Ромео и Джульетты\\n\\n\\nКормилица\\nДжульетта. Джульетта, хватит спать.\\n                  Весь дом уже проснулся \\n                  И как бы адом рай для вас не обернулся!\\n                  РомеоРасплавим ночь в последнем поцелуе,\\n                  Перемешаем со слезами и по капле\\n                  Я буду пить целебный эликсир,\\n                  Чтоб облегчить разлуку. Ухожу.\\n                  ДжульеттаНет, не уходи, Ромео.\\n                  Я жена твоя навек.\\n                  РомеоА я, твой муж!\\n                  Увы, судьбе угодно так,\\n                  Что небо прокляло наш брак.\\n                  КормилицаРомео, Джульетта, ночь прошла\\n                  Сюда уже идут \\n                  Вас через пять минут не я\\n                  Разбудит мама\\n                  Не избежать тогда\\n                  Позора вам и срама!\\n\\nОна жена\\n\\n\\nГраф КапулеттиПарис, \\n                  Сыграем свадьбу завтра с утра,\\n                  Пусть дочь\\n                  Забудет с вами горечь утрат.\\n                  Память дев коротка,\\n                  Ночь любви, как река \\n                  Смоет грусть, и тоска \\n                  Пройдет наверняка.\\n                  Пройдет лишь ночь одна, \\n                  И она - жена.Леди Капулетти\\nНе плачь, \\n                  Джульетта, слезы вытри с лица.\\n                  Рыдать \\n                  Нелепо,\\n                  Леди Капулетти и Граф КапулеттиЭто воля Отца,\\n                  Леди КапулеттиТы пойдешь под венец,\\n                  Если так сказал отец,\\n                  Здесь все решает лишь он,\\n                  Таков у нас закон!\\n                  Вместе Пройдет лишь ночь одна, \\n                  Ты уже жена!\\n                  Граф КапулеттиТвой брак - воля отца!\\n                  Леди КапулеттиТвой брак - женская доля.\\n                  Леди Капулетти и Граф Капулетти \\nНам от венца и до конца\\n                  Всем суждено жить в неволе!\\n                  ВместеПройдет лишь ночь одна, \\n                  Ты уже жена!\\n                  ДжульеттаПрошу, \\n                  ВсеСудьба\\n                  Джульетта\\nСкажи им, няня, правду, скажи, \\n                  ТогдаОтец не станет портить мне жизнь \\n                  Легче смерть принять, \\n                  Чем женой другого стать,\\n                  Знаешь ты, ты одна - \\n                  Ромео я жена!\\n                  ВместеПройдет лишь ночь одна, \\n                  ПарисТы моя жена!\\n                  ДжульеттаНяня, помоги!Ну сделай хоть что-нибудь!\\n                  КормилицаЛюбовь вы сами убили.\\n                  Тибальт, брат твой, в могиле.\\n                  Граф КапулеттиНе спорь с отцом!\\n                  КормилицаИ завтра днем\\n                  Леди КапулеттиВстань под венцом\\n                  КормилицаС новым мужем!\\n                  ВместеПройдет лишь ночь одна, \\n                  Ты его жена!\\n                  Граф Капулетти и Леди КапулеттиЕго женой быть тебе!\\n                  Смириться надо судьбе!\\n                  ДжульеттаНе смогу,\\n                  Хоть умри,\\n                  Стать женой\\n                  Без любви!\\n                  Граф КапулеттиВсе давно \\n                  Решено,\\n                  И все равно!\\n                  ДжульеттаНет!\\n                  Вместе Пройдет лишь ночь одна, \\n                  Ты ему жена\\n                  ПарисДо завтра, граф. Благодарю вас.\\xa0\\nК списку песен\\n', '\\n\\xa0\\n\\n\\nОтец и дочь\\n\\n\\nГраф КапулеттиОтец и дочь.\\n                  Цветок любви!\\n                  Господь, тот миг,\\n                  Благослови!\\n                  Пока она \\n                  Еще дитя,\\n                  И ей нужна \\n                  Любовь твоя.\\n                  Отец и дочь:\\n                  И Да и Нет.\\n                  Отец и дочь:\\n                  Вопрос - ответ.\\n                  Как уберечь,\\n                  Спасти, помочь\\n                  Мой дух и плоть - \\n                  Родную дочь?\\n                  Родную дочь.\\n                  И день придет,\\n                   С моих колен\\n                  Она вспорхнет,\\n                  Попавши в плен\\n                  Коварных чар \\n                  Чужих мужчин,\\n                  Где каждый вор и сукин сын.\\n                  Ночной кошмар,\\n                  Мой страшный сон!\\n                  Взрослеет дочь,  \\n                  Старею я.\\n                  И стала ночь бледнее дня!\\n                  Не мне менять\\n                  Земной закон,\\n                  Где нет меня,\\n                  Есть только он,\\n                  Она и он!\\n                  А, может быть,\\n                   Я все ж неправ,\\n                  Пора смирить \\n                  Свой гордый нрав\\n                  И скорбно ждать\\n                  Свой смертный час.\\n                  Дочь станет мать, \\n                  И часть от нас\\n                  В ней прорастет \\n                  Цветком другим -\\n                  Круговорот мы завершим.\\n                  Но ангел мой, \\n                  Любовь моя!\\n                  Смирить себя \\n                  Я не могу!\\n                  Свое дитя отдать врагу!\\n                  И будь сто тысяч\\n                  Раз проклят тот,\\n                  Кто мой цветок, \\n                  Шутя, сорвет.\\n                  Владеет мной \\n                  Одна лишь страсть:\\n                  Мой рай земной \\n                  Не дать украсть,\\n                  Дочь - ангел мой; \\n                  Не дать украсть.\\n                  Отец и дочь,\\n                  Любовь моя,\\n                  Дочь, ангел мой,\\n                  Ты часть меня!\\n                  Владеет мной\\n                  Одна лишь страсть:\\n                  Мой рай земной\\n                  Не дать украсть!\\n                  Отец и дочь.\\n                  Отец и дочь.\\n\\xa0\\nК списку песен\\n', '\\n\\xa0\\n\\n\\nАнгел в белом\\n\\n\\nРомеоПомню \\n                  Тот день и час,\\n                  Полдень, \\n                  Где двое нас.\\n                  В тот полдень было\\n                  Венчанье в храме,\\n                  И ангел в белом \\n                  Парил над нами.\\n                  Венчальной клятвы\\n                  Язык латыни\\n                  И голос падре\\n                  В обители святой,\\n                  Что быть нам отныне\\n                  Мужем и женой\\n                  ДжульеттаОтец Лоренцо.\\n                  Как же так? \\n                  Обвенчанную вами повторно замуж выдают!\\n                  РомеоПомню \\n                  Тот день и час,\\n                  Полдень,\\n                  Где двое нас.\\n                  В тот полдень было\\n                  Венчанье в храме,\\n                  И ангел в белом \\n                  Парил над нами.\\n                  ДжульеттаЭто же грех!\\n                  Он равносилен смерти!\\n                  РомеоВы знали разве,\\n                  Что жизнь в разлуке\\n                  Страшнее казни?\\n                  Глядеть мне в небо\\n                  ВместеС немым укором.\\n                  Был ангел в белом,\\n                  Стал черный ворон.\\n                  Вы обрекли меня на жизнь,\\n                  Но эта жизнь страшней, чем казнь\\n                  РомеоОна как палач жестокий\\n                  Казнит каждый час разлукой\\n                  Нас двоих.\\n                  Боже...\\n                  ДжульеттаКто я - жена или вдова?\\n                  РомеоДай силы мне\\n                  ДжульеттаЖива я или мертва\\n                  РомеоСвятое небо\\n                  Молю о чуде,\\n                  Пусть ангел в белом \\n                  Со мною будет\\n                  РомеоВо тьму закован,\\n                  Я верю, боже,\\n                  Быть вне законна\\n                  ВместеЛюбовь не может!\\n                  Мой ангел, жизнь моя,\\n                  Прошу, дождись меня!\\n                  О-о-о-о-о-о-о-о!\\n                  ЛоренцоДжульетта,\\n                  Слушай и запоминай.\\n                  Здесь яд. Ты, выпив пару капель,\\n                  Погрузишься в столь глубокий сон,\\n                  Что тело станет хладным, как у трупа.\\n                  Все будут знать - Джульетта умерла.\\n                  Но ты проснешься ночью в объятиях Ромео.\\n                  Я письмо послал к нему с надежным человеком.\\n                  Теперь ступай.\\n                  ДжульеттаСпасибо.\\n\\xa0\\nК списку песен\\n', '\\n\\xa0\\n\\n\\nЯд\\n\\n\\nДжульеттаВслед за любимым мысли летят,\\n                  Я ухожу, чтоб вернуться назад.\\n                  Боже, прости,\\n                  Дай мне уйти.\\n                  Я выпиваю спасительный яд,\\n                  Чтоб на рассвете вернуться назад,\\n                  Милый, приди,\\n                  Меня разбуди.\\n                  Что меня ждет по ту сторону сна,\\n                  Чаша с отравой, спасет ли нас она?\\n                  И с утренней зарей \\n                  Я буду вновь с тобой.\\n                  ХорБоже, от страха ее защити, \\n                  ДжульеттаПью за тебя.\\n                  ХорБоже, не дай заблудится в пути.\\n                  ДжульеттаБоже, прости…\\n                  Леди Капулетти\\nДжульетта, хватит спать. Вставай. Сегодня свадьба. Джульетта, Джульетта?!\\n                  Боже правый. На помощь! Она мертва.\\n                  Джульетта умерла!\\n                  Девочка моя,нет!\\n                  БенволиоНет!\\n\\xa0\\nК списку песен\\n', '\\n\\xa0\\n\\n\\nКак сказать?\\n\\n\\n\\nБенволиоВерность дружбе - наш закон \\n                  Неразлучны с детства - я и он.\\n                  И как друг, обязан я сказать об этом.\\n                  Ходит смерть за нами Рок, \\n                  Кто нас проклял знает Бог. \\n                  Бог, за чьи грехи, ответь, \\n                  В нашем доме поселилась Смерть? \\n                  Пляшет Смерть, сужая круг, \\n                  Умерла, кого любил мой друг, \\n                  Нет Джульетты, Смерть свершила месть, \\n                  Принести Ромео эту весть, \\n                  Должен я. \\n                  Печальная честь… \\n                  Как мне сказать ему слова: \\n                  «Твоя любовь мертва, она мертва»? \\n                  Тишина и хор замолк, \\n                  Это долг, мой скорбный долг \\n                  Смерть опять замкнула круг, \\n                  И я его последний друг. \\n                  Произнесу, как приговор: \\n                  «Она мертва...»\\n                  Но за что мне эта честь: \\n                  Принести дурную весть? \\n                  В старину беды гонца тотчас казнили.\\n                  Сам себя сто раз на дню, \\n                  Сто раз безжалостно казню.\\n                  Как суметь ему сказать\\n                  То, что лучше бы не знать. \\n                  Пляшет Смерть, сужая круг, \\n                  Умерла, кого любил мой друг,\\n                  Нет Джульетты, Смерть свершила месть, \\n                  Принести Ромео эту весть \\n                  Должен я. \\n                  Печальная честь…\\n                  Как мне сказать ему слова: \\n                  «Твоя любовь мертва, она мертва»? \\n                  Тишина и хор замолк.\\n                  Это долг, мой скорбный долг \\n                  Смерть опять замкнула круг, \\n                  И я его последний друг.\\n                  Произнесу, как приговор: \\n                  «Она мертва...» \\n                  Я не смогу сказать слова: \\n                  «Твоя любовь мертва, она мертва» \\n                  Тишина и боль со мной, \\n                  Это долг, наш скорбный долг \\n                  Смерть опять замкнула круг, \\n                  Я его последний друг. \\n                  Произнесу, как приговор: \\n                  «Она мертва...»\\n                  Она мертва... \\n                  О-О-О-О\\n                  О-о-о\\n\\nБенволио сообщает Ромео о\\nсмерти Джульетты\\n\\n\\nРомеоБенволио! Бенволио, дружище, просыпайся.\\n\\nТы что здесь делаешь?\\n                  Вопросам нет числа. \\nКакие новости в Вероне? Как Джульетта?\\n                  РомеоБенволио, что с тобой? Почему молчишь?\\n                  Бенволио!\\n                  БенволиоДжульетта умерла. Джульетты больше нет.\\n                  БенволиоРомео! Ромео!\\n\\xa0\\nК списку песен\\n', '\\n\\xa0\\n\\n\\nСмерть Ромео\\n\\n\\nРомео Даже смерть перед ней бессильна, \\n                  Губ не тронул тлен могильный. \\n                  Вот сейчас во сне \\n                  Улыбнешься мне. \\n                  Только склепа сумрак печальный \\n                  На мольбу отвечает молчаньем. \\n                  Вот и кончена война с Монтекки - \\n                  Мы вдвоем в объятьях сна навеки. \\n                  Вот и все, прощайте, \\n                  Я к тебе ухожу вслед за счастьем, \\n                  Где вдали от земли жизнь осталась, \\n                  Жизнь короче любви оказалась \\n                  Жизнь короче любви, жизнь короче любви. \\n                  Вот и все, ухожу и не жду я причастья, \\n                  Любимая, с тобой \\n                  Мы обретем покой, \\n                  Вдали от суеты, \\n                  Где только я и ты. \\n                  На встречу судьбе, \\n                  Джульетта к тебе \\n                  Я ухожу \\n                  Вот и все, прощайте, \\n                  Никому я не скажу слов проклятья, \\n                  По ту сторону зла, \\n                  Где не врут зеркала. \\n                  Чтоб покой обрели \\n                  Мы вдали от земли \\n                  Жизнь короче любви,\\n                  Жизнь короче любви \\n                  Вот и все, \\n                  Ухожу.\\n\\xa0\\nК списку песен\\n', '\\n\\xa0\\n\\n\\nСмерть Джульетты\\nДжульетта Ромео, вставай. Ромео, что с тобой,\\n                  Ответь, ответь, ОТВЕТЬ!!!\\n                  Джульетта\\nРомео, милый, что с тобой? \\n                  Меня охватывает страх. \\n                  И поцелуй горячий мой \\n                  Растаял льдинкой на губах. \\n                  Какой я совершила грех? \\n                  За что мне, Господи, ответь, \\n                  Его любившей больше всех \\n                  Соперницею стала смерть? \\n                  Смерть ради любви, \\n                  Смерть ради любви! \\n                  Ромео, Ромео, \\n                  Приют дарит нам небо. \\n                  Любимый, Ромео, \\n                  На кровью политой земле, \\n                  Где нет тебя - нет места мне. \\n                  Ромео, любимый, \\n                  Мы неразделимы. \\n                  Любимый, Ромео, \\n                  Раз оборвалась жизни нить, \\n                  Нас смерть должна соединить! \\n                  Быть не хочу твоей вдовой, \\n                  Уж лучше в склепе, чем с людьми. \\n                  И в мире, что живет войной, \\n                  Я умираю от любви. \\n                  Смерть ради любви, \\n                  Смерть ради любви! \\n                  Ромео, Ромео, \\n                  Приют дарит нам небо. \\n                  Любимый, Ромео, \\n                  На кровью политой земле, \\n                  Где нет тебя - нет места мне. \\n                  Ромео, любимый, \\n                  Мы неразделимы. \\n                  Любимый, Ромео,\\n                  Раз оборвалась жизни нить, \\n                  Нас смерть должна соединить! \\n\\xa0\\nК списку песен\\n', '\\n\\xa0\\n\\n\\nГолоса - Где они? \\n                  - Я ничего не вижу. \\n                  - Сюда. \\n                  - Отец Лоренцо, мы нашли их!\\n\\nГосподь, прости\\n\\n\\nЛоренцо Господь, прости! \\n                  Прозрей, Господь, ведь ты ослеп!\\n                  Ты не на тех излил свой гнев, \\n                  Убил, а мог спасти. \\n                  Кощунственная речь \\n                  Слетела с губ моих, \\n                  В душе бушует ночь, \\n                  Скрывая светлый лик \\n                  Тебя, того, кто вел \\n                  Меня тропой любви \\n                  Средь худшего из зол, \\n                  Что названо «людьми». \\n                  Я был твой верный сын, \\n                  Примерный ученик, \\n                  Носил смиренно сан, \\n                  И вот я - еретик. \\n                  Господь, прости. \\n                  Господь, прости! \\n                  Прозрей, Господь, \\n                  Ведь, Ты ослеп! \\n                  Ты не на тех излил свой гнев, \\n                  Убил, а мог спасти. \\n                  Одно добро творил я \\n                  Именем твоим,\\n                  Я грешников любил,\\n                  Пусть не был сам любим,\\n                  Не ведал женских чар,\\n                  Свою смиривши плоть,\\n                  Я искренне прощал,\\n                  Как Ты учил, Господь!\\n                  Прощал и знать и чернь\\n                  Груз сплетен, грязь интриг...\\n                  Но грыз сомненья червь\\n                  Листы священных книг,\\n                  Никчемных книг!\\n                  Но прежде, \\n                  Но прежде, чем хвалу \\n                  Произнесли уста,\\n                  Я пел тебе хвалу,\\n                  Но, Бог мой, я устал.\\n                  Устал взывать к тебе,\\n                  Ведь Ты не слышишь наших клятв.\\n                  Горят окрест кресты,\\n                  И мир на них распят!\\n                  Мне храм теперь тюрьма,\\n                  Молитва - смертный крик...\\n                  Теряю разум я, \\n                  Господь, я еретик. \\n                  Нет мне прощенья!\\n                  О нет, нет мне прощенья!\\n                  Господь, прозрей!\\n                  Прозрей, Господь, ведь ты ослеп!\\n                  Ты не на тех излил свой гнев,\\n                  Убил, а мог спасти.\\n                  Любовь ты убил!\\n                  Ты отчим, не отец!\\n                  О, Боже, что со мною?\\n                  Твой храм мне стал тюрьмою!\\n                  О Боже!\\n\\xa0\\nК списку песен\\n', '\\n\\xa0\\n\\n\\nПлачьте\\n\\n\\nЛеди МонтеккиНет печальней драмы \\n                  Той, что здесь, в Вероне.\\n                  Два враждебных дома \\n                  Породнила кровью.\\n                  Дети, быть вам вечно \\n                  Знаком верной любви!\\n                  Леди КапулеттиКак мы были слепы, \\n                  Нету нам прощенья,\\n                  Чтоб прозреть у склепа.\\n                  Смерть - цена прозренья.\\n                  Наши дети вместе \\n                  Символ вечной любви!\\n                  Леди МонтеккиПлачьте по Ромео, \\n                  По Джульетте рыдайте.\\n                  Верности примером\\n                  Стали их имена!\\n                  Леди Монтекки и Леди Капулетти,\\nКормилица\\nПлачьте по Джульетте, \\n                  По Ромео рыдайте.\\n                  Их любви на свете                \\n                  Жить во все времена!\\n                  ВсеПлачьте, плачьте,\\n                  Ромео и Джульетты нет.\\n                  Плачьте, плачьте \\n                  Что нет Ромео и Джульетты \\n                  Плачьте, плачьте\\n                  БенволиоПовесть о двух влюбленных\\n                  КормилицаЧто есть любовь Ромео и Джульетты \\n                  Что положили жизнь на алтарь любви.\\n                  Вместе Повесть о двух влюбленных, \\n                  Что положили жизнь на алтарь любви. \\n                   Дети нас научили,\\n                  КормилицаЧто есть любовь Ромео и Джульетты \\n                  БенволиоЧто нет ничего сильней любви.\\n                  Любви!\\n\\xa0\\nК списку песен\\n', '\\n\\xa0\\n\\n\\nСчастье -Поклоны \\n\\n\\nРомеоСчастье - ты глубже моря,\\n                  Счастье - ты выше неба,\\n                  Счастье, оно быть может \\n                  Людям нужнее хлеба.\\n                  ДжульеттаСчастье - парить как птица\\n                  Счастье - обжечься солнцем,\\n                  Счастье с любимым слиться\\n                  Может лишь только сниться.\\n                  ВместеСчастье творит героев,\\n                  Счастье сильнее смерти,\\n                  Счастье - когда есть двое,\\n                  Двое с единым сердцем.\\n                  ХорСчастье творит героев,\\n                  Счастье сильнее смерти,\\n                  Счастье - когда есть двое,\\n                  Двое с единым сердцем.\\n                  Счастье - судьбы страница,\\n                  Счастье - мне быть с тобою, \\n                  Счастье - с любимым слиться \\n                  В то, что зовут любовью.\\n                  Счастье - подарок Бога,\\n                  Счастье - строки начало\\n                  Счастья всегда нам мало\\n                  \\nИ не бывает много.\\n                  Счастье.\\n\\xa0\\nК списку песен\\n']\n"
     ]
    }
   ],
   "source": [
    "clean = []\n",
    "for i in content:\n",
    "    text = i.text\n",
    "    text = re.sub(r'[\\t\\r]', '', text)\n",
    "    clean.append(text)\n",
    "print(clean)"
   ]
  },
  {
   "cell_type": "code",
   "execution_count": null,
   "id": "0292d555",
   "metadata": {},
   "outputs": [],
   "source": [
    "# \n",
    "\n",
    "with open('romeoandjuliette0.txt', 'w', encoding = 'utf-8') as file:\n",
    "    counter = 1\n",
    "    for song in content:\n",
    "        # находим название\n",
    "        title = song.find('font', {'align':\"center\", 'color':\"#C0C0C0\"})\n",
    "        if title:\n",
    "            file.write(str(counter) + '. ' + title.text.strip().upper() + '\\n\\n')\n",
    "\n",
    "        text = song.find_all('font', {'align':\"left\", 'color':\"#808080\", 'size':\"4\"})\n",
    "        \n",
    "        for line in text:\n",
    "            if line != '' and line != '\\n':\n",
    "                speaker_italics = line.find('i')\n",
    "\n",
    "                songtext = line.text.strip()\n",
    "                songtext = re.sub(r'                  ', '', songtext)\n",
    "                other_speakers = set(line.find_all('i'))\n",
    "                \n",
    "\n",
    "                for i in other_speakers:\n",
    "                    #if speaker_italics in line:\n",
    "                        #songtext = songtext.replace(speaker_italics.text, '', 1).strip()\n",
    "                    if i in line:\n",
    "                        for t in songtext:\n",
    "                            \n",
    "                            if not i.text.endswith(':'):\n",
    "                                songtext = re.sub(i.text, '\\n' + i.text.strip().upper() + ':' + '\\n', songtext)\n",
    "                            else:\n",
    "                                songtext = re.sub(i.text, '\\n' + i.text.strip().upper() + '\\n', songtext)\n",
    "                \n",
    "                #to_edit = re.findall(r'\\b[А-ЯЁ]+\\:\\s?\\n{2}', songtext)\n",
    "                #for e in to_edit:\n",
    "                #    songtext.replace(e, e[:-1], 1)\n",
    "\n",
    "                songtext = re.sub(r'  ', ' ', songtext)\n",
    "                #songtext = re.sub(r'  ', ' ', songtext)\n",
    "                \n",
    "\n",
    "                file.write(songtext.strip() + '\\n')\n",
    "\n",
    "        file.write('\\n\\n')\n",
    "        counter +=1\n"
   ]
  },
  {
   "cell_type": "code",
   "execution_count": 504,
   "id": "5a214f27",
   "metadata": {},
   "outputs": [],
   "source": [
    "# норм, но повторы спикеров\n",
    "with open('romeoandjuliette_repet.txt', 'w', encoding = 'utf-8') as file:\n",
    "    counter = 1\n",
    "    for song in content[1:]:\n",
    "        # находим название\n",
    "        title = song.find('font', {'align':\"center\", 'color':\"#C0C0C0\", 'size':'5'})\n",
    "        if title:\n",
    "            file.write(str(counter) + '. ' + title.text.strip().upper() + '\\n\\n')\n",
    "\n",
    "        text = song.find_all('font', {'align':\"left\", 'color':\"#808080\", 'size':\"4\"})\n",
    "        \n",
    "        for line in text:\n",
    "            if line != '' and line != '\\n':\n",
    "                speaker_italics = line.find('i')\n",
    "                #if speaker_italics:\n",
    "                #    to_write_speaker_italics = speaker_italics.text.strip().upper()\n",
    "                #    if not to_write_speaker_italics.endswith(':'):\n",
    "                #        to_write_speaker_italics += ':'\n",
    "                #    file.write('\\n' + to_write_speaker_italics + '\\n')\n",
    "                \n",
    "                songtext = line.text.strip()\n",
    "                songtext = re.sub(r'                  ', '', songtext)\n",
    "                other_speakers = set(line.find_all('i'))\n",
    "                \n",
    "\n",
    "                for i in other_speakers:\n",
    "                    if speaker_italics in line:\n",
    "                        #songtext = songtext.replace(speaker_italics.text, '', 1).strip()\n",
    "                        for t in songtext:\n",
    "                            \n",
    "                            if not i.text.endswith(':'):\n",
    "                                songtext = re.sub(i.text, '\\n' + i.text.strip().upper() + ':' + '\\n', songtext)\n",
    "                            else:\n",
    "                                songtext = re.sub(i.text, '\\n' + i.text.strip().upper() + '\\n', songtext)\n",
    "                \n",
    "                #to_edit = re.findall(r'\\b[А-ЯЁ]+\\:\\s?\\n{2}', songtext)\n",
    "                #for e in to_edit:\n",
    "                #    songtext.replace(e, e[:-1], 1)\n",
    "\n",
    "                songtext = re.sub(r'  ', ' ', songtext)\n",
    "                songtext = re.sub(r'  ', ' ', songtext)\n",
    "                songtext = re.sub(r'[\\r\\t]', '', songtext)\n",
    "                #songtext = re.sub(r' \\n ', '\\n', songtext)\n",
    "                #songtext = re.sub(r'(?<=\\s)\\n(?=[А-ЯЁ]+\\:)', '\\n\\n', songtext)\n",
    "\n",
    "                file.write(songtext.strip() + '\\n')\n",
    "\n",
    "        file.write('\\n\\n')\n",
    "        counter +=1\n"
   ]
  }
 ],
 "metadata": {
  "kernelspec": {
   "display_name": "Python 3",
   "language": "python",
   "name": "python3"
  },
  "language_info": {
   "codemirror_mode": {
    "name": "ipython",
    "version": 3
   },
   "file_extension": ".py",
   "mimetype": "text/x-python",
   "name": "python",
   "nbconvert_exporter": "python",
   "pygments_lexer": "ipython3",
   "version": "3.13.5"
  }
 },
 "nbformat": 4,
 "nbformat_minor": 5
}
