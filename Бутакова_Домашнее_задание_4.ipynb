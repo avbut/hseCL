{
  "cells": [
    {
      "cell_type": "markdown",
      "metadata": {},
      "source": [
        "### Выполнила: Анастасия Бутакова"
      ]
    },
    {
      "cell_type": "markdown",
      "metadata": {
        "id": "nPRIiy_SDYfu"
      },
      "source": [
        "# Домашнее задание 4."
      ]
    },
    {
      "cell_type": "markdown",
      "metadata": {
        "id": "s53-SY7vDfJ5"
      },
      "source": [
        "## Часть 1. Парсинг телеграм-каналов\n",
        "\n",
        "У вас есть 2 файла на выбор в [этой папке](https://disk.yandex.ru/d/druM43Rd5bdiQg):\n",
        "- Канал Системный Блокъ\n",
        "- Канал Нерусский мир\n",
        "\n",
        "В них сохранена история каналов за 2024 год в html-формате\n",
        "\n",
        "Подготовьте таблицу, в которой будет:\n",
        "- отправитель (у нас это будет канал - но в личных чатах туда попадает никнейм отправителя, как в ДЗ_3)\n",
        "- текст сообщения (его можно немного посчистить (***по желанию***) - например, удалить из него тэги)\n",
        "- дата\n",
        "- (***по желанию***) реакции\n",
        "\n",
        "**Важно!** В Нерусском мире есть небольшие ошибки - посты без автора (можно отловить их и подумать, что с ними делать, или использовать try / except, чтобы их просто проигнорировать)"
      ]
    },
    {
      "cell_type": "markdown",
      "metadata": {
        "id": "0Sjon3P0aBtQ"
      },
      "source": [
        "Примерный результат выполнения всех заданий вы можете найти в той же [папке](https://disk.yandex.ru/d/druM43Rd5bdiQg)"
      ]
    },
    {
      "cell_type": "code",
      "execution_count": 1,
      "metadata": {
        "id": "B6Nw3wczDQVb"
      },
      "outputs": [],
      "source": [
        "import requests\n",
        "from bs4 import BeautifulSoup\n",
        "import pandas as pd\n",
        "import codecs\n",
        "import re"
      ]
    },
    {
      "cell_type": "code",
      "execution_count": null,
      "metadata": {},
      "outputs": [],
      "source": [
        "f = codecs.open(\"Системный Блокъ.html\", 'r', 'utf-8') # читаем код html из файла\n",
        "telegram = f.read() # записываем его в переменную\n",
        "f.close()\n",
        "\n",
        "soup = BeautifulSoup(telegram)"
      ]
    },
    {
      "cell_type": "markdown",
      "metadata": {
        "id": "TeIrDHDVYzp3"
      },
      "source": [
        "Советы: можно идти по тегам в супе, а можно использовать регулярные выражения к содержимому тега, оставлю одну из возможных подсказок (разбор тегов супом **предпочтительнее**, но задачу можно также решить любым другим способом)"
      ]
    },
    {
      "cell_type": "code",
      "execution_count": null,
      "metadata": {
        "id": "pZSPGXyqZLTE"
      },
      "outputs": [],
      "source": [
        "for i in soup.find_all('div', {'class' : \"body\"}):\n",
        "    who = re.findall(r'_здесь_ваша_регулярка_', str(i))\n",
        "    print(who)"
      ]
    },
    {
      "cell_type": "markdown",
      "metadata": {},
      "source": [
        "#### Решение"
      ]
    },
    {
      "cell_type": "markdown",
      "metadata": {},
      "source": [
        "Посмотрим, в каких частях кода находятся искомые элементы:"
      ]
    },
    {
      "cell_type": "code",
      "execution_count": null,
      "metadata": {},
      "outputs": [],
      "source": [
        "# отправитель: <div class=\"from_name\">\n",
        "# текст сообщения: <div class=\"text\">\n",
        "# дата: <div class=\"pull_right date details\" title=\"03.01.2024 19:58:07 \"> 19:58 </div>\n",
        "# реакции: \n",
        "#   <div class=\"reactions\">\n",
        "#   <div class=\"reaction\">\n",
        "#   <div class=\"emoji\">\n",
        "#   ❤\n",
        "         #  </div>\n",
        "#   <div class=\"count\">\n",
        "#   31\n",
        "         #  </div>\n",
        "#   </div>\n",
        "# и так далее, реакций может быть много\n"
      ]
    },
    {
      "cell_type": "markdown",
      "metadata": {},
      "source": [
        "Задумалась, есть ли смысл каждый раз вытаскивать отправителя, если мы работаем с историей сообщения канала, где он один и тот же. Но помимо Системного Блока сюда закралась Kali Novskaya - если поискать по html-файлу (не знаю, как вывести тут), то видно, что это репост из ее канала. "
      ]
    },
    {
      "cell_type": "code",
      "execution_count": null,
      "metadata": {},
      "outputs": [
        {
          "name": "stdout",
          "output_type": "stream",
          "text": [
            "{<div class=\"from_name\">\n",
            "Системный Блокъ \n",
            "       </div>, <div class=\"from_name\">\n",
            "Kali Novskaya <span class=\"date details\" title=\"28.10.2024 16:17:56 \"> 28.10.2024 16:17:56</span>\n",
            "</div>}\n"
          ]
        }
      ],
      "source": [
        "print(set(soup.find_all('div', {\"class\":\"from_name\"})))"
      ]
    },
    {
      "cell_type": "markdown",
      "metadata": {},
      "source": [
        "В истории сообщений также присутствуют посты, которые представляют собой **опросы или же фото без текста**. В таких случаях у сообщений будут реакции и время, но не будет текста. Учитывая, что мы занимаемся НЛП, думаю, что мы можем проигнорировать существование опросов и фото-постов. Посты в текстом почти удачно сосредоточены в классе \"**message default clearfix**\" - там есть какой-то один пост без нужной секции, поэтому все равно придется в коде прописать это"
      ]
    },
    {
      "cell_type": "markdown",
      "metadata": {},
      "source": [
        "#### Код"
      ]
    },
    {
      "cell_type": "markdown",
      "metadata": {},
      "source": [
        "Сначала - функция для извлечения эмодзи, ибо она довольно объемная, а загромождать код не хочется"
      ]
    },
    {
      "cell_type": "code",
      "execution_count": null,
      "metadata": {},
      "outputs": [],
      "source": [
        "def extract_reactions(message):\n",
        "    ''' Извлечение информации о реакциях из поста в телеграм. \n",
        "        Выдает:\n",
        "            1. список уникальных реакций\n",
        "            2. суммарное количество реакций на посте\n",
        "            3. информацию о том, сколько реакций каждого вида поставлено '''\n",
        "    \n",
        "    reactions_section = message.find('div', {'class':'reactions'}) # находим часть сообщения, где хранятся реакции\n",
        "    reactions = [] # уникальные реакции на посте\n",
        "    total_count = 0 # сколько всего реакций всех видов - может быть полезным показателем\n",
        "    reactions_overview = [] # сколько реакций каждого вида на посте (огонек - 3, банан - 1 и т.д.)\n",
        "    if reactions_section:\n",
        "        # итерация по каждой отдельной реакции\n",
        "        for i in reactions_section.find_all('div', {'class':'reaction'}):\n",
        "            emoji = i.find('div', {'class':'emoji'}).text\n",
        "            # эмодзи нужно чистить, чтобы удалить знаки разрыва строки и пробелы\n",
        "            emoji_clean = re.search(r'[^\\s]', emoji).group()\n",
        "            count = int(i.find('div', {'class':'count'}).text) # сколько таких эмодзи на посте\n",
        "            \n",
        "            total_count += count\n",
        "            reactions.append(emoji_clean)\n",
        "            reactions_overview.append((emoji_clean, count)) # закидываем кортеж из иконки реакции и ее количества на посты\n",
        "    else:\n",
        "        pass\n",
        "    # преобразование инфо о реакциях в более читаемый вид\n",
        "    reactions_overview_formatted = ', '.join([f'{reaction}: {count}' for reaction, count in reactions_overview])\n",
        "\n",
        "    return ', '.join(reactions), total_count, reactions_overview_formatted\n"
      ]
    },
    {
      "cell_type": "code",
      "execution_count": 321,
      "metadata": {},
      "outputs": [
        {
          "name": "stdout",
          "output_type": "stream",
          "text": [
            "На посте всего 34 реакций. Среди них: 👍, 🔥, ❤, 🍌, 👾.\n",
            "Подробная информация: 👍: 14, 🔥: 11, ❤: 7, 🍌: 1, 👾: 1\n"
          ]
        }
      ],
      "source": [
        "# пример\n",
        "variety, total, overview = extract_reactions(messages[1])\n",
        "print (f'На посте всего {total} реакций. Среди них: {variety}.\\nПодробная информация: {overview}')"
      ]
    },
    {
      "cell_type": "markdown",
      "metadata": {},
      "source": [
        "Итоговый код:"
      ]
    },
    {
      "cell_type": "code",
      "execution_count": null,
      "metadata": {},
      "outputs": [],
      "source": [
        "messages = soup.find_all('div', {'class':'message default clearfix'})\n",
        "data = []\n",
        "# поскольку у нас почти всегда один и тот же отправитель, найдем название канала один раз\n",
        "channel_name = soup.find('div', {\"class\":\"from_name\"}).text.strip()\n",
        "\n",
        "# если есть репост, для того, чтобы вытащить автора оригинала, нужен дополнительный шаг, ведь он находится  внутри 'forwarded message', который лежит внутри 'body'\n",
        "# а первый подобный find вытащит Системный Блокъ как автора репоста. Учтем в коде\n",
        "\n",
        "for i in messages:\n",
        "    name = channel_name\n",
        "    date = i.find('div', {'class':'pull_right date details'}).get('title')[:10] # здесь есть и другая информация, поэтому делаем срез\n",
        "    message_text = i.find('div', {'class':'text'})\n",
        "    # учитываем случаи, когда пост не содержит текста\n",
        "    if message_text:\n",
        "        message_text = message_text.text.strip()\n",
        "    else:\n",
        "        message_text = 'Ошибка поиска текста в посте'\n",
        "\n",
        "    react_variety, react_total, react_details = extract_reactions(i)\n",
        "\n",
        "    # проверка того, что репост или нет\n",
        "    repost = i.find('div', {'class':'forwarded body'}) \n",
        "    if repost:\n",
        "        name = repost.find('div', {\"class\":\"from_name\"}) # меняем отправителя на автора оригинала\n",
        "\n",
        "\n",
        "    data.append((name, date, message_text, react_variety, react_total, react_details))\n"
      ]
    },
    {
      "cell_type": "code",
      "execution_count": 322,
      "metadata": {},
      "outputs": [
        {
          "data": {
            "text/html": [
              "<div>\n",
              "<style scoped>\n",
              "    .dataframe tbody tr th:only-of-type {\n",
              "        vertical-align: middle;\n",
              "    }\n",
              "\n",
              "    .dataframe tbody tr th {\n",
              "        vertical-align: top;\n",
              "    }\n",
              "\n",
              "    .dataframe thead th {\n",
              "        text-align: right;\n",
              "    }\n",
              "</style>\n",
              "<table border=\"1\" class=\"dataframe\">\n",
              "  <thead>\n",
              "    <tr style=\"text-align: right;\">\n",
              "      <th></th>\n",
              "      <th>Отправитель</th>\n",
              "      <th>Дата</th>\n",
              "      <th>Текст поста</th>\n",
              "      <th>Реакции</th>\n",
              "      <th>N реакций</th>\n",
              "      <th>Подробная информация о реакциях</th>\n",
              "    </tr>\n",
              "  </thead>\n",
              "  <tbody>\n",
              "    <tr>\n",
              "      <th>0</th>\n",
              "      <td>Системный Блокъ</td>\n",
              "      <td>03.01.2024</td>\n",
              "      <td>Что происходит в интернете: Оксана Мороз о циф...</td>\n",
              "      <td>❤, 🎄, 👍, 🔥, 👏</td>\n",
              "      <td>42</td>\n",
              "      <td>❤: 31, 🎄: 5, 👍: 3, 🔥: 2, 👏: 1</td>\n",
              "    </tr>\n",
              "    <tr>\n",
              "      <th>1</th>\n",
              "      <td>Системный Блокъ</td>\n",
              "      <td>06.01.2024</td>\n",
              "      <td>Танцы, эрос и зачатие: о чем писали «Платоновс...</td>\n",
              "      <td>👍, 🔥, ❤, 🍌, 👾</td>\n",
              "      <td>34</td>\n",
              "      <td>👍: 14, 🔥: 11, ❤: 7, 🍌: 1, 👾: 1</td>\n",
              "    </tr>\n",
              "    <tr>\n",
              "      <th>2</th>\n",
              "      <td>Системный Блокъ</td>\n",
              "      <td>10.01.2024</td>\n",
              "      <td>Читаем секретные письма опальной королевы: ист...</td>\n",
              "      <td>🔥, ❤, 👍, 👾, 👀</td>\n",
              "      <td>39</td>\n",
              "      <td>🔥: 15, ❤: 12, 👍: 8, 👾: 3, 👀: 1</td>\n",
              "    </tr>\n",
              "    <tr>\n",
              "      <th>3</th>\n",
              "      <td>Системный Блокъ</td>\n",
              "      <td>11.01.2024</td>\n",
              "      <td>От Эдисона до Spotify: история форматов музыки...</td>\n",
              "      <td>🔥, 👍, ❤, 👻</td>\n",
              "      <td>46</td>\n",
              "      <td>🔥: 20, 👍: 16, ❤: 9, 👻: 1</td>\n",
              "    </tr>\n",
              "    <tr>\n",
              "      <th>4</th>\n",
              "      <td>Системный Блокъ</td>\n",
              "      <td>15.01.2024</td>\n",
              "      <td>Больше, чем энциклопедия: Википедии 23 года!По...</td>\n",
              "      <td>🍾, ❤, 👍, ⚡, 👏, 👎</td>\n",
              "      <td>46</td>\n",
              "      <td>🍾: 17, ❤: 11, 👍: 10, ⚡: 5, 👏: 2, 👎: 1</td>\n",
              "    </tr>\n",
              "  </tbody>\n",
              "</table>\n",
              "</div>"
            ],
            "text/plain": [
              "       Отправитель        Дата  \\\n",
              "0  Системный Блокъ  03.01.2024   \n",
              "1  Системный Блокъ  06.01.2024   \n",
              "2  Системный Блокъ  10.01.2024   \n",
              "3  Системный Блокъ  11.01.2024   \n",
              "4  Системный Блокъ  15.01.2024   \n",
              "\n",
              "                                         Текст поста           Реакции  \\\n",
              "0  Что происходит в интернете: Оксана Мороз о циф...     ❤, 🎄, 👍, 🔥, 👏   \n",
              "1  Танцы, эрос и зачатие: о чем писали «Платоновс...     👍, 🔥, ❤, 🍌, 👾   \n",
              "2  Читаем секретные письма опальной королевы: ист...     🔥, ❤, 👍, 👾, 👀   \n",
              "3  От Эдисона до Spotify: история форматов музыки...        🔥, 👍, ❤, 👻   \n",
              "4  Больше, чем энциклопедия: Википедии 23 года!По...  🍾, ❤, 👍, ⚡, 👏, 👎   \n",
              "\n",
              "   N реакций        Подробная информация о реакциях  \n",
              "0         42          ❤: 31, 🎄: 5, 👍: 3, 🔥: 2, 👏: 1  \n",
              "1         34         👍: 14, 🔥: 11, ❤: 7, 🍌: 1, 👾: 1  \n",
              "2         39         🔥: 15, ❤: 12, 👍: 8, 👾: 3, 👀: 1  \n",
              "3         46               🔥: 20, 👍: 16, ❤: 9, 👻: 1  \n",
              "4         46  🍾: 17, ❤: 11, 👍: 10, ⚡: 5, 👏: 2, 👎: 1  "
            ]
          },
          "execution_count": 322,
          "metadata": {},
          "output_type": "execute_result"
        }
      ],
      "source": [
        "# датафрейм\n",
        "df = pd.DataFrame(data, columns=['Отправитель', 'Дата', 'Текст поста', 'Реакции', 'N реакций', 'Подробная информация о реакциях'])\n",
        "df.head()"
      ]
    },
    {
      "cell_type": "code",
      "execution_count": 319,
      "metadata": {},
      "outputs": [
        {
          "name": "stdout",
          "output_type": "stream",
          "text": [
            "<class 'pandas.core.frame.DataFrame'>\n",
            "RangeIndex: 204 entries, 0 to 203\n",
            "Data columns (total 6 columns):\n",
            " #   Column                           Non-Null Count  Dtype \n",
            "---  ------                           --------------  ----- \n",
            " 0   Отправитель                      204 non-null    object\n",
            " 1   Дата                             204 non-null    object\n",
            " 2   Текст поста                      204 non-null    object\n",
            " 3   Реакции                          204 non-null    object\n",
            " 4   N реакций                        204 non-null    int64 \n",
            " 5   Подробная информация о реакциях  204 non-null    object\n",
            "dtypes: int64(1), object(5)\n",
            "memory usage: 9.7+ KB\n"
          ]
        }
      ],
      "source": [
        "df.info()"
      ]
    },
    {
      "cell_type": "code",
      "execution_count": 323,
      "metadata": {},
      "outputs": [],
      "source": [
        "df.to_excel('sysblock.xlsx')"
      ]
    },
    {
      "cell_type": "markdown",
      "metadata": {
        "id": "C2CnZWo6LcdH"
      },
      "source": [
        "## Часть 2\n",
        "\n",
        "Парсинг сайта, на выбор:\n",
        "- [Детские вопросы](https://elementy.ru/email) в журнале \"Элементы\" (немного легче)\n",
        "- [Рубрика \"Ускользающий мир\"](https://www.nkj.ru/special/mir/) журнала \"Наука и жизнь\""
      ]
    },
    {
      "cell_type": "markdown",
      "metadata": {
        "id": "eOYUy-4Sd_V5"
      },
      "source": [
        "Общий алгоритм:\n",
        "- смотрим на 1 и последнюю страницу и с помощью range(от, до+1) генерируем ссылки на страницы\n",
        "- проходим по каждой странице и парсим ссылки на новости (важно собрать нужные и очистить от лишних!). На момент начала задания было 88 Детских вопроса и 213 текстов Ускользающего мира (ближе к дедлайну их может стать немного больше)\n",
        "- переходим к каждой новости и парсим из нее:\n",
        "  - заголовок, автор ответа, текст, ссылку для Детских вопросов\n",
        "  - заголовок, дату, текст и ссылку для Ускользающего мира (***опционально*** - также автора, источник, тэги, но учтите, что они есть не в каждой статье)\n",
        "- сохраняем результаты в датафрейм, не забудьте озаглавить столбцы\n",
        "\n",
        "Поскольку мы парсим реальные сайты, вежливый парсинг с time и задержкой в несколько секунд будет плюсом!"
      ]
    },
    {
      "cell_type": "code",
      "execution_count": 23,
      "metadata": {},
      "outputs": [],
      "source": [
        "import time"
      ]
    },
    {
      "cell_type": "code",
      "execution_count": null,
      "metadata": {},
      "outputs": [
        {
          "name": "stdout",
          "output_type": "stream",
          "text": [
            "['https://www.nkj.ru/special/mir/index.php?PAGEN_2=6&mobile=N&PAGEN_1=1', 'https://www.nkj.ru/special/mir/index.php?PAGEN_2=6&mobile=N&PAGEN_1=2', 'https://www.nkj.ru/special/mir/index.php?PAGEN_2=6&mobile=N&PAGEN_1=3', 'https://www.nkj.ru/special/mir/index.php?PAGEN_2=6&mobile=N&PAGEN_1=4', 'https://www.nkj.ru/special/mir/index.php?PAGEN_2=6&mobile=N&PAGEN_1=5', 'https://www.nkj.ru/special/mir/index.php?PAGEN_2=6&mobile=N&PAGEN_1=6', 'https://www.nkj.ru/special/mir/index.php?PAGEN_2=6&mobile=N&PAGEN_1=7', 'https://www.nkj.ru/special/mir/index.php?PAGEN_2=6&mobile=N&PAGEN_1=8', 'https://www.nkj.ru/special/mir/index.php?PAGEN_2=6&mobile=N&PAGEN_1=9', 'https://www.nkj.ru/special/mir/index.php?PAGEN_2=6&mobile=N&PAGEN_1=10', 'https://www.nkj.ru/special/mir/index.php?PAGEN_2=6&mobile=N&PAGEN_1=11']\n"
          ]
        }
      ],
      "source": [
        "# ваш код\n",
        "\n",
        "# генерация ссылок на страницы сайта\n",
        "base_page = 'https://www.nkj.ru/special/mir/index.php?PAGEN_2=6&mobile=N&PAGEN_1='\n",
        "links = []\n",
        "for i in range(1,12):\n",
        "    links.append(base_page + str(i))\n",
        "print(links)\n"
      ]
    },
    {
      "cell_type": "code",
      "execution_count": null,
      "metadata": {
        "id": "xMitVRmtfbn2"
      },
      "outputs": [],
      "source": [
        "# выгрузка ссылок на новости со страниц\n",
        "base_news = 'https://www.nkj.ru'\n",
        "links_news = []\n",
        "for i in links:\n",
        "    page = requests.get(i)\n",
        "    soup = BeautifulSoup(page.text)\n",
        "    links_page = [base_news + link.get('href') for link in soup.find_all('a') if link.parent.name == 'h2']\n",
        "    links_news = links_news + links_page\n",
        "    time.sleep(2) # пощадим сайт\n"
      ]
    },
    {
      "cell_type": "code",
      "execution_count": 26,
      "metadata": {
        "id": "miV28VjVfbiM"
      },
      "outputs": [
        {
          "data": {
            "text/plain": [
              "220"
            ]
          },
          "execution_count": 26,
          "metadata": {},
          "output_type": "execute_result"
        }
      ],
      "source": [
        "len(links_news)"
      ]
    },
    {
      "cell_type": "code",
      "execution_count": null,
      "metadata": {},
      "outputs": [],
      "source": [
        "# заголовок <h1 itemprop=\"headline\">\n",
        "# дата <time class=\"nomer-god news-time\" datetime=\"2025-04-25T16:14+03:00\" style=\"display: inline; font-style: normal; color: #999\">25 апреля 2025</time>\n",
        "# текст body > div.container.inner > div > div.span9 > article > main > p:nth-child(5)\n",
        "# ссылка  \n",
        "# автор - <p class='author'>\n",
        "# источник <p class='istok'>\n",
        "# тэги - <span class=\"article-tag\" style=\"padding-right: 1em\"><a href=\"/search/tag.php?tags=%D0%A3%D1%81%D0%BA%D0%BE%D0%BB%D1%8C%D0%B7%D0%B0%D1%8E%D1%89%D0%B8%D0%B9+%D0%BC%D0%B8%D1%80\">#Ускользающий мир</a></span>"
      ]
    },
    {
      "cell_type": "code",
      "execution_count": 101,
      "metadata": {},
      "outputs": [],
      "source": [
        "from tqdm import tqdm"
      ]
    },
    {
      "cell_type": "code",
      "execution_count": 213,
      "metadata": {
        "id": "eL38V-fIfbL4"
      },
      "outputs": [
        {
          "name": "stderr",
          "output_type": "stream",
          "text": [
            "Прогресс парсинга: 100%|██████████| 220/220 [09:36<00:00,  2.62s/it]\n"
          ]
        }
      ],
      "source": [
        "data = []\n",
        "\n",
        "for i in tqdm(links_news, desc = 'Прогресс парсинга'):\n",
        "    page = requests.get(i)\n",
        "    soup = BeautifulSoup(page.text)\n",
        "\n",
        "    title = soup.find('h1').text.strip()\n",
        "    date = soup.find('time').text\n",
        "    article_body = soup.find('main')\n",
        "    # ищем элементы с тегом p, у которых нет атрибутов внутри - чтобы не захватывать краткое содержание\n",
        "    paragraphs = [el.text.strip() for el in article_body.find_all('p') if not el.attrs]\n",
        "    article_text = ' '.join(paragraphs)\n",
        "    \n",
        "    # в одной статье текст находится не внутри тегов <p> в <main>, а просто в самом <main>\n",
        "    # Введем проверку на наличие любого символа кроме пробельных в вытащенном тексте + альтернативный путь для поиска текста\n",
        "    if not re.search(r'[^\\s]', article_text):\n",
        "        article_text = re.sub(r'\\s+', ' ', article_body.text.strip())\n",
        "        \n",
        "    # элементы, которые есть не у всех\n",
        "    nan = 'нет данных'\n",
        "    author = soup.find('p', {'class' : 'author'})\n",
        "    if author:\n",
        "        author = author.text.strip()\n",
        "        author = re.sub(r'Автор:\\xa0', '', author)\n",
        "    else:\n",
        "        author = nan\n",
        "    source = soup.find('p', {'class' : 'istok'})\n",
        "    if source:\n",
        "        source = source.text.strip()\n",
        "        source = re.sub(r'Источник:\\xa0', '', source)\n",
        "    else:\n",
        "        source = nan\n",
        "    tags = ' '.join([el.text.strip() for el in soup.find_all('span', {'class' : 'article-tag'})]) if soup.find_all('span', {'class' : 'article-tag'}) else nan\n",
        "\n",
        "    data.append((title, date, article_text, i, source, author, tags))\n",
        "    time.sleep(2)\n",
        "\n",
        "\n"
      ]
    },
    {
      "cell_type": "code",
      "execution_count": 214,
      "metadata": {},
      "outputs": [
        {
          "data": {
            "text/html": [
              "<div>\n",
              "<style scoped>\n",
              "    .dataframe tbody tr th:only-of-type {\n",
              "        vertical-align: middle;\n",
              "    }\n",
              "\n",
              "    .dataframe tbody tr th {\n",
              "        vertical-align: top;\n",
              "    }\n",
              "\n",
              "    .dataframe thead th {\n",
              "        text-align: right;\n",
              "    }\n",
              "</style>\n",
              "<table border=\"1\" class=\"dataframe\">\n",
              "  <thead>\n",
              "    <tr style=\"text-align: right;\">\n",
              "      <th></th>\n",
              "      <th>Заголовок</th>\n",
              "      <th>Дата</th>\n",
              "      <th>Текст</th>\n",
              "      <th>Ссылка</th>\n",
              "      <th>Источник</th>\n",
              "      <th>Автор</th>\n",
              "      <th>Теги</th>\n",
              "    </tr>\n",
              "  </thead>\n",
              "  <tbody>\n",
              "    <tr>\n",
              "      <th>0</th>\n",
              "      <td>Мониторинг таймырской популяции северного оленя</td>\n",
              "      <td>25 апреля 2025</td>\n",
              "      <td>Последние четверть века на полуострове Таймыр...</td>\n",
              "      <td>https://www.nkj.ru/special/mir/54342/</td>\n",
              "      <td>нет данных</td>\n",
              "      <td>нет данных</td>\n",
              "      <td>#Ускользающий мир #мониторинг #северный олень ...</td>\n",
              "    </tr>\n",
              "    <tr>\n",
              "      <th>1</th>\n",
              "      <td>Безопасные миграции</td>\n",
              "      <td>23 апреля 2025</td>\n",
              "      <td>В России принимаются дополнительные меры по ох...</td>\n",
              "      <td>https://www.nkj.ru/special/mir/54329/</td>\n",
              "      <td>нет данных</td>\n",
              "      <td>нет данных</td>\n",
              "      <td>#Ускользающий мир #заповедники #миграции живот...</td>\n",
              "    </tr>\n",
              "    <tr>\n",
              "      <th>2</th>\n",
              "      <td>Сто крапчатых сусликов выпущено в охранной зон...</td>\n",
              "      <td>21 апреля 2025</td>\n",
              "      <td>До середины XX века крапчатый суслик был мно...</td>\n",
              "      <td>https://www.nkj.ru/special/mir/54320/</td>\n",
              "      <td>нет данных</td>\n",
              "      <td>нет данных</td>\n",
              "      <td>#Ускользающий мир #заповедники #суслик #животн...</td>\n",
              "    </tr>\n",
              "    <tr>\n",
              "      <th>3</th>\n",
              "      <td>В заповеднике «Чёрные земли» обнаружили кости ...</td>\n",
              "      <td>18 апреля 2025</td>\n",
              "      <td>Согласно заключению экспертов-палеонтологов и...</td>\n",
              "      <td>https://www.nkj.ru/special/mir/54308/</td>\n",
              "      <td>нет данных</td>\n",
              "      <td>нет данных</td>\n",
              "      <td>#Ускользающий мир #палеонтология #степь #мегаф...</td>\n",
              "    </tr>\n",
              "    <tr>\n",
              "      <th>4</th>\n",
              "      <td>Влияние климатических изменений на численность...</td>\n",
              "      <td>16 апреля 2025</td>\n",
              "      <td>Ежегодные наблюдения за краснокнижным эндеми...</td>\n",
              "      <td>https://www.nkj.ru/special/mir/54297/</td>\n",
              "      <td>нет данных</td>\n",
              "      <td>нет данных</td>\n",
              "      <td>#Ускользающий мир #заповедники #учёты #сурки</td>\n",
              "    </tr>\n",
              "  </tbody>\n",
              "</table>\n",
              "</div>"
            ],
            "text/plain": [
              "                                           Заголовок            Дата  \\\n",
              "0    Мониторинг таймырской популяции северного оленя  25 апреля 2025   \n",
              "1                                Безопасные миграции  23 апреля 2025   \n",
              "2  Сто крапчатых сусликов выпущено в охранной зон...  21 апреля 2025   \n",
              "3  В заповеднике «Чёрные земли» обнаружили кости ...  18 апреля 2025   \n",
              "4  Влияние климатических изменений на численность...  16 апреля 2025   \n",
              "\n",
              "                                               Текст  \\\n",
              "0   Последние четверть века на полуострове Таймыр...   \n",
              "1  В России принимаются дополнительные меры по ох...   \n",
              "2    До середины XX века крапчатый суслик был мно...   \n",
              "3   Согласно заключению экспертов-палеонтологов и...   \n",
              "4    Ежегодные наблюдения за краснокнижным эндеми...   \n",
              "\n",
              "                                  Ссылка    Источник       Автор  \\\n",
              "0  https://www.nkj.ru/special/mir/54342/  нет данных  нет данных   \n",
              "1  https://www.nkj.ru/special/mir/54329/  нет данных  нет данных   \n",
              "2  https://www.nkj.ru/special/mir/54320/  нет данных  нет данных   \n",
              "3  https://www.nkj.ru/special/mir/54308/  нет данных  нет данных   \n",
              "4  https://www.nkj.ru/special/mir/54297/  нет данных  нет данных   \n",
              "\n",
              "                                                Теги  \n",
              "0  #Ускользающий мир #мониторинг #северный олень ...  \n",
              "1  #Ускользающий мир #заповедники #миграции живот...  \n",
              "2  #Ускользающий мир #заповедники #суслик #животн...  \n",
              "3  #Ускользающий мир #палеонтология #степь #мегаф...  \n",
              "4       #Ускользающий мир #заповедники #учёты #сурки  "
            ]
          },
          "execution_count": 214,
          "metadata": {},
          "output_type": "execute_result"
        }
      ],
      "source": [
        "df2 = pd.DataFrame(data, columns = ['Заголовок', 'Дата', 'Текст', 'Ссылка', 'Источник', 'Автор', 'Теги'])\n",
        "df2.head()"
      ]
    },
    {
      "cell_type": "code",
      "execution_count": 215,
      "metadata": {},
      "outputs": [
        {
          "name": "stdout",
          "output_type": "stream",
          "text": [
            "<class 'pandas.core.frame.DataFrame'>\n",
            "RangeIndex: 220 entries, 0 to 219\n",
            "Data columns (total 7 columns):\n",
            " #   Column     Non-Null Count  Dtype \n",
            "---  ------     --------------  ----- \n",
            " 0   Заголовок  220 non-null    object\n",
            " 1   Дата       220 non-null    object\n",
            " 2   Текст      220 non-null    object\n",
            " 3   Ссылка     220 non-null    object\n",
            " 4   Источник   220 non-null    object\n",
            " 5   Автор      220 non-null    object\n",
            " 6   Теги       220 non-null    object\n",
            "dtypes: object(7)\n",
            "memory usage: 12.2+ KB\n"
          ]
        }
      ],
      "source": [
        "df2.info()"
      ]
    },
    {
      "cell_type": "code",
      "execution_count": 216,
      "metadata": {},
      "outputs": [],
      "source": [
        "df2.to_excel('uskolz_mir.xlsx')"
      ]
    }
  ],
  "metadata": {
    "colab": {
      "provenance": []
    },
    "kernelspec": {
      "display_name": "Python 3",
      "name": "python3"
    },
    "language_info": {
      "codemirror_mode": {
        "name": "ipython",
        "version": 3
      },
      "file_extension": ".py",
      "mimetype": "text/x-python",
      "name": "python",
      "nbconvert_exporter": "python",
      "pygments_lexer": "ipython3",
      "version": "3.13.3"
    }
  },
  "nbformat": 4,
  "nbformat_minor": 0
}
